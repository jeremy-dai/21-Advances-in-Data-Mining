{
 "cells": [
  {
   "cell_type": "markdown",
   "metadata": {},
   "source": [
    "# Recommender Systems  Matrix Factorization \n",
    "# Introduction\n",
    "In this task, we will be working on the MovieLens 1M dataset which can be fetched from moivelens . This set contains about 1.000.000 ratings given to about 4.000 movies by about 6.000 users. Our task adopted Matrix Factorization Algorithm in Python and estimated the accuracy with the Root Mean Squared Error, RMSE, and the Mean Absolute Error, MAE.\n",
    "\n",
    "To make sure that the results are reliable, 5-fold cross-validation is used.\n",
    "\n"
   ]
  },
  {
   "cell_type": "code",
   "execution_count": 1,
   "metadata": {
    "collapsed": true
   },
   "outputs": [],
   "source": [
    "import numpy as np\n",
    "import pandas as pd\n",
    "import math\n",
    "import random\n",
    "import sys\n",
    "from sklearn.model_selection import KFold\n",
    "\n",
    "from math import sqrt\n",
    "\n",
    "#Import libs to plot the training process\n",
    "import matplotlib\n",
    "import matplotlib.pyplot as plt"
   ]
  },
  {
   "cell_type": "markdown",
   "metadata": {},
   "source": [
    "# Data\n",
    "The data set we used in this experiment is the MovieLens 1M dataset. There are 5 files in the dataset and we only use the file ratings.csv. The file ratings.csv contains 100836 ratings created by 610 users about 9742 movies; each line of this file below the header represents one rating of one movie(represented by movieId) by one user(represented by userId) and its timestamp. To make things easier, we only use the 3 columns: userId, movieId and rating. The following figure shows how the data looks like: "
   ]
  },
  {
   "cell_type": "markdown",
   "metadata": {},
   "source": [
    "![Original Dataset](figures/figure1.png)\n",
    "\n",
    "<center>figure 1: Some Lines of Ratings.csv</center>"
   ]
  },
  {
   "cell_type": "markdown",
   "metadata": {},
   "source": [
    "# Approaches\n",
    "Approaches  to implement recommender system in this assignment are listed below."
   ]
  },
  {
   "cell_type": "markdown",
   "metadata": {},
   "source": [
    "## Initial Data Analysis\n",
    "The purpose of Initial Data Analysis is to understand what is in a dataset and the characteristics of the data."
   ]
  },
  {
   "cell_type": "code",
   "execution_count": 2,
   "metadata": {},
   "outputs": [
    {
     "data": {
      "text/html": [
       "<div>\n",
       "<style scoped>\n",
       "    .dataframe tbody tr th:only-of-type {\n",
       "        vertical-align: middle;\n",
       "    }\n",
       "\n",
       "    .dataframe tbody tr th {\n",
       "        vertical-align: top;\n",
       "    }\n",
       "\n",
       "    .dataframe thead th {\n",
       "        text-align: right;\n",
       "    }\n",
       "</style>\n",
       "<table border=\"1\" class=\"dataframe\">\n",
       "  <thead>\n",
       "    <tr style=\"text-align: right;\">\n",
       "      <th></th>\n",
       "      <th>userId</th>\n",
       "      <th>movieId</th>\n",
       "      <th>rating</th>\n",
       "    </tr>\n",
       "  </thead>\n",
       "  <tbody>\n",
       "    <tr>\n",
       "      <th>0</th>\n",
       "      <td>1</td>\n",
       "      <td>1</td>\n",
       "      <td>4.0</td>\n",
       "    </tr>\n",
       "    <tr>\n",
       "      <th>1</th>\n",
       "      <td>1</td>\n",
       "      <td>3</td>\n",
       "      <td>4.0</td>\n",
       "    </tr>\n",
       "    <tr>\n",
       "      <th>2</th>\n",
       "      <td>1</td>\n",
       "      <td>6</td>\n",
       "      <td>4.0</td>\n",
       "    </tr>\n",
       "    <tr>\n",
       "      <th>3</th>\n",
       "      <td>1</td>\n",
       "      <td>47</td>\n",
       "      <td>5.0</td>\n",
       "    </tr>\n",
       "    <tr>\n",
       "      <th>4</th>\n",
       "      <td>1</td>\n",
       "      <td>50</td>\n",
       "      <td>5.0</td>\n",
       "    </tr>\n",
       "  </tbody>\n",
       "</table>\n",
       "</div>"
      ],
      "text/plain": [
       "   userId  movieId  rating\n",
       "0       1        1     4.0\n",
       "1       1        3     4.0\n",
       "2       1        6     4.0\n",
       "3       1       47     5.0\n",
       "4       1       50     5.0"
      ]
     },
     "execution_count": 2,
     "metadata": {},
     "output_type": "execute_result"
    }
   ],
   "source": [
    "#Reading The Data into DataFrame\n",
    "#Define the file path\n",
    "file_path = './ml-latest-small//ratings.csv'#\"./ml-latest-small/ratings.csv\" \n",
    "df_ratings = pd.read_csv(file_path, header=0, names=['userId', 'movieId', 'rating'], index_col=False)\n",
    "\n",
    "df_ratings.head(5) #Top 5 records in the dataset "
   ]
  },
  {
   "cell_type": "code",
   "execution_count": 3,
   "metadata": {},
   "outputs": [
    {
     "data": {
      "text/plain": [
       "3.501556983616962"
      ]
     },
     "execution_count": 3,
     "metadata": {},
     "output_type": "execute_result"
    }
   ],
   "source": [
    "#The average rating in the dataset\n",
    "df_ratings.rating.mean()"
   ]
  },
  {
   "cell_type": "markdown",
   "metadata": {},
   "source": [
    "The mean of the ratings is about 3.5"
   ]
  },
  {
   "cell_type": "markdown",
   "metadata": {},
   "source": [
    "The following figure shows the distribution of the ratings."
   ]
  },
  {
   "cell_type": "code",
   "execution_count": 4,
   "metadata": {
    "scrolled": true
   },
   "outputs": [
    {
     "name": "stderr",
     "output_type": "stream",
     "text": [
      "/Users/zzfang/anaconda3/lib/python3.6/site-packages/matplotlib/axes/_axes.py:6462: UserWarning: The 'normed' kwarg is deprecated, and has been replaced by the 'density' kwarg.\n",
      "  warnings.warn(\"The 'normed' kwarg is deprecated, and has been \"\n"
     ]
    },
    {
     "data": {
      "image/png": "[encoded data removed]",
      "text/plain": [
       "<Figure size 432x288 with 1 Axes>"
      ]
     },
     "metadata": {},
     "output_type": "display_data"
    }
   ],
   "source": [
    "#Show distribution of ratings\n",
    "\n",
    "data = df_ratings.rating.tolist()\n",
    "\n",
    "plt.title(\"Distribution of Ratings\")\n",
    "plt.hist(data, bins=10, normed=0, facecolor=\"blue\", edgecolor='black', alpha=0.7)\n",
    "plt.xlabel(\"rating\")\n",
    "plt.ylabel(\"frequency\")\n",
    "\n",
    "plt.show()"
   ]
  },
  {
   "cell_type": "markdown",
   "metadata": {},
   "source": [
    "<center>figure 2: Distribution of The Ratings<\\center>"
   ]
  },
  {
   "cell_type": "code",
   "execution_count": 5,
   "metadata": {},
   "outputs": [
    {
     "name": "stdout",
     "output_type": "stream",
     "text": [
      "Range of userId:  [ 1 , 610 ]\n",
      "Number of userId:  610\n",
      "Range of movieId:  [ 1 , 193609 ]\n",
      "Number of userId:  9724\n"
     ]
    }
   ],
   "source": [
    "#Show huge gap of the numbering \n",
    "\n",
    "print(\"Range of userId: \", \"[\",df_ratings.userId.min(), \",\",df_ratings.userId.max(), \"]\")\n",
    "print(\"Number of userId: \", len(df_ratings.userId.unique()))\n",
    "\n",
    "print(\"Range of movieId: \", \"[\", df_ratings.movieId.min(), \",\", df_ratings.movieId.max(), \"]\")\n",
    "print(\"Number of userId: \", len(df_ratings.movieId.unique()))"
   ]
  },
  {
   "cell_type": "markdown",
   "metadata": {},
   "source": [
    "There are are 9724 movies but the movieIds range from 1 to 193609, so there is a huge gap in the numbering of movieIds, which costs huge storage waste and high sparsity in rating matrix."
   ]
  },
  {
   "cell_type": "markdown",
   "metadata": {},
   "source": [
    "## Data Preprocessing\n",
    "The purpose of data preprocessing is to fix the huge gap of the numbering of the original movieId. To reduce the large gap of the numbering, we put the unique movieIds and userIds in lists and use the indices of the lists of new Ids of movies and users. After renumberring the Ids, a rating matrix will be constructed according to the new Ids."
   ]
  },
  {
   "cell_type": "code",
   "execution_count": 6,
   "metadata": {
    "collapsed": true
   },
   "outputs": [],
   "source": [
    "# Renumbering user and movie IDs\n",
    "uniqueMovieIds = df_ratings.movieId.unique() #Obtain the unique movie Ids\n",
    "uniqueUserIds = df_ratings.userId.unique() #Obtain the unique user Ids\n",
    "\n",
    "#Create New movieIds according to unique movie Ids\n",
    "newMovieIds = [np.where(uniqueMovieIds==x)[0][0] for x in df_ratings['movieId'].tolist()]\n",
    "newMovieIds = np.array(newMovieIds)\n",
    "\n",
    "#Create New userIds according to unique user Ids\n",
    "newUserIds = [np.where(uniqueUserIds==x)[0][0] for x in df_ratings['userId'].tolist()]\n",
    "newUserIds = np.array(newUserIds)"
   ]
  },
  {
   "cell_type": "code",
   "execution_count": 7,
   "metadata": {
    "collapsed": true
   },
   "outputs": [],
   "source": [
    "#Add new movieIds and new userIds to the dataframe\n",
    "df_ratings['newMovieId'] = newMovieIds\n",
    "df_ratings['newUserId'] = newUserIds\n",
    "\n",
    "#Reconstruct the dataframe\n",
    "df_ratings = df_ratings[[\"newUserId\",\"newMovieId\",\"rating\"]]"
   ]
  },
  {
   "cell_type": "code",
   "execution_count": 8,
   "metadata": {},
   "outputs": [
    {
     "name": "stdout",
     "output_type": "stream",
     "text": [
      "(610, 9724)\n"
     ]
    }
   ],
   "source": [
    "#Construct The Rating Matrix acorting to the new ids\n",
    "num_users = df_ratings['newUserId'].max()+1  #There are 610 users\n",
    "num_movies = df_ratings['newMovieId'].max()+1 #The Max Value of movieId\n",
    "\n",
    "ratings = np.zeros((num_users , num_movies))\n",
    "\n",
    "print(ratings.shape) #Show the shape of the rating matrix\n",
    "\n",
    "for i in range(df_ratings.shape[0]):\n",
    "    ratings[df_ratings.loc[i, 'newUserId']][df_ratings.loc[i,'newMovieId']] = df_ratings.loc[i, 'rating']"
   ]
  },
  {
   "cell_type": "code",
   "execution_count": 9,
   "metadata": {},
   "outputs": [
    {
     "name": "stdout",
     "output_type": "stream",
     "text": [
      "The density of rating matrix:  0.016999683055613623\n"
     ]
    }
   ],
   "source": [
    "# Calculate the density of the matrix\n",
    "density = len(np.nonzero(ratings)[0])/(ratings.shape[0]*ratings.shape[1])\n",
    "print(\"The density of rating matrix: \", density)"
   ]
  },
  {
   "cell_type": "markdown",
   "metadata": {},
   "source": [
    "The density of the rating matrix is about 0.017; it is still very sparse because most users only reviewed few movies compared with the large number of movies."
   ]
  },
  {
   "cell_type": "markdown",
   "metadata": {},
   "source": [
    "## Algorithm for Recommandation\n",
    "We used **Matrix Factorization** for the recommender system. Matrix Factorization is a class of collaborative filtering algorithms. The algorithm attemps to decompose the rating matrix $R$ into the product of 2 lower dimensionality matrices U and M,  in which the users and items are represented in a lower dimensional latent space(K-dimensional Vector).  During the training process, the algorithm will try to minimize the loss function, which is presented by following formula:\n",
    "<center>$||R_{m,n}- U_{m,k}\\times M_{n,k}~T||^2+\\lambda (||U_{m, k}||^2 + ||M_{n, k}||^2)$ \n",
    "    \n",
    "In above formula, $||X||^2$ means the sum of squares of items of matrix X:\n",
    "<center>$||X||^2 = \\sum_{x\\in X}x^2$\n",
    "    \n",
    "**Gradient Descent** is used to minimize the loss function.\n",
    "\n",
    "After training the parametres of the K-dimensional vectors of users and movies, the rating of movie m given by user u will be the dot product of the user and movie vectors.\n",
    "\n",
    "<center>$r_{u,m} = u\\cdot m$"
   ]
  },
  {
   "cell_type": "markdown",
   "metadata": {},
   "source": [
    "## Methods for Processing Missing Ids\n",
    "During the test of a model, there might be some userIds and movieIds which are present in test set but not present in the training set. Because the parametres of the vectors of these users or movies are not trained before, it is unreliable to use the dot product of their vectors to calculate the ratings. Therefore, if user u or movie m is not present in the training set, we will treat the mean of all ratings in the training set as the rating of movie m by user u."
   ]
  },
  {
   "cell_type": "markdown",
   "metadata": {},
   "source": [
    "## Cross Validation and Evaluation \n",
    "**5-fold** cross validation is applied in our experiment to monitor the training process; i.e. We splitted the data into 5 non-overlapping parts and developed 5 same models; each model will choose one part as test set and the remaining 4 as training set. Mean Squared Error(mse) is used to evaluate the models. The final results will be the average mse of the 5 models."
   ]
  },
  {
   "cell_type": "markdown",
   "metadata": {},
   "source": [
    "The code implementing the Matrix Factorization model is listed below"
   ]
  },
  {
   "cell_type": "code",
   "execution_count": 11,
   "metadata": {
    "collapsed": true
   },
   "outputs": [],
   "source": [
    "#MatrixFactorization Model\n",
    "class MatrixFactorization():\n",
    "    def __init__( self, R=ratings, df=df_ratings, K=20, lr=0.001, rp=0.01, itr= 3, nfolds=5, method='GD', draw=False): \n",
    "        #change itr and set thresholds\n",
    "        \"\"\"\n",
    "        Arguments/Hyperparamters\n",
    "        -R: user-movie: rating matrix\n",
    "        -K: number of latent dimensions of user & movie vectors\n",
    "        -lr: learning rate\n",
    "        -rp: regularization parametre\n",
    "        -itr: number of iterations\n",
    "        -df: dataframe of three columns: user, movie and rating\n",
    "        -method: GD or ALS\n",
    "        \"\"\"     \n",
    "        self.R=R\n",
    "        self.df = df\n",
    "        self.num_users, self.num_movies = R.shape\n",
    "        self.K = K\n",
    "        self.lr = lr\n",
    "        self.rp = rp\n",
    "        self.itr = itr\n",
    "        self.nfolds = nfolds\n",
    "        self.method = method\n",
    "        self.draw=draw\n",
    "              \n",
    "    def train_n_times(self):\n",
    "        # set up the empty result list\n",
    "        err=[]\n",
    "        kf = KFold(n_splits= self.nfolds, shuffle=True)\n",
    "        n_t = 1\n",
    "        for train_index, test_index in kf.split(self.df):\n",
    "            print('Training No.', n_t)\n",
    "            n_t += 1\n",
    "            training_set, test_set = self.df.iloc[train_index], self.df.iloc[test_index]\n",
    "            self.check_matrix = np.zeros(self.R.shape)\n",
    "            training_process = self.train(training_set, test_set)\n",
    "            err.append(training_process )\n",
    "        return (err)\n",
    "            \n",
    "    def gradient_descent(self, training):\n",
    "        #Update the parametres of user&movie matrix in one iteration\n",
    "        for u, m, r in training:\n",
    "                error = self.R[u][m] - self.predict_um(u,m)\n",
    "                self.U[u] += self.lr*(error*self.M[m]-self.rp*self.U[u])\n",
    "                self.M[m] += self.lr*(error*self.U[u] - self.rp*self.M[m])\n",
    "    \n",
    "    def ALS(self, training):\n",
    "        #Update the parametres of user&movie matrix in one iteration\n",
    "        r_mat= np.zeros((self.num_users , self.num_movies))\n",
    "        for u, m, r in training:\n",
    "            r_mat[u][m] = r\n",
    "        self.U[:,0] = np.mean(r_mat, axis = 1)\n",
    "        self.M[:,0] = np.mean(r_mat, axis = 0)\n",
    "        \n",
    "        for u in range(self.num_users):\n",
    "            vec = r_mat[u,:].nonzero()[0]\n",
    "            MI = self.M[vec,:]\n",
    "            n = max(len(vec),1)\n",
    "            A = np.dot(MI.T,MI) + self.rp*n*np.eye(self.K)\n",
    "            V = np.dot(MI.T,r_mat[u,vec])\n",
    "            self.U[u,:] = np.linalg.solve(A,V)\n",
    "\n",
    "        for m in range(self.num_movies):\n",
    "            vec = r_mat[:,m].nonzero()[0]\n",
    "            UI = self.U[vec,:]\n",
    "            n = max(len(vec),1)\n",
    "            A = np.dot(UI.T,UI) + self.rp*n*np.eye(self.K)\n",
    "            V = np.dot(UI.T,r_mat[vec,m])\n",
    "            self.M[m,:] = np.linalg.solve(A,V)\n",
    "\n",
    "    def train(self, training_set, test_set):\n",
    "        #Initialize user & movie matrices \n",
    "        np.random.seed(2019)\n",
    "        self.U = np.random.normal(scale=1./self.K, size=(self.num_users, self.K))\n",
    "        np.random.seed(2019)\n",
    "        self.M = np.random.normal(scale=1./self.K, size=(self.num_movies, self.K))\n",
    "        \n",
    "        #Perform stochastic gradient descent \n",
    "        training_process = []\n",
    "        training = training_set.as_matrix().astype(int)\n",
    "        test = test_set.as_matrix().astype(int)\n",
    "        for i in range(self.itr):\n",
    "            if self.method == 'GD':\n",
    "                self.gradient_descent(training)\n",
    "            elif self.method == 'ALS':\n",
    "                self.ALS(training)\n",
    "            else:\n",
    "                sys.exit(\"Oops! Use GD or ALS as your method\")\n",
    "            mse_training = self.calculate_mse(training)\n",
    "            mse_test = self.calculate_mse(test, mode=\"test\")\n",
    "            training_process.append((i, mse_training, mse_test))\n",
    "        \n",
    "            print(\"Iteration: %d; mse_traing: %.4f; mse_test: %.4f\"%(i+1, mse_training, mse_test))\n",
    "        \n",
    "        if !draw:\n",
    "            drawplot(training_process)\n",
    "        return training_process\n",
    "            \n",
    "         \n",
    "    def drawplot(self,training_process):\n",
    "        iterations = [i for i, mse_training, mse_test in training_process]\n",
    "        mse_training = [mse_training for i, mse_training, mse_test in training_process]\n",
    "        mse_test = [mse_test for i, mse_training, mse_test in training_process]\n",
    "        plt.figure(figsize=(16, 4))\n",
    "        plt.title(\"Training Error And Validation Error\")\n",
    "        plt.plot(iterations, mse_training, color='blue', label = 'training error')\n",
    "        plt.plot(iterations, mse_test, color='orange', label='validation error')\n",
    "        plt.xticks(iterations, iterations)\n",
    "        plt.xlabel(\"Iterations\")\n",
    "        plt.ylabel(\"Mean Square Error\")\n",
    "        plt.legend()\n",
    "        plt.grid(axis=\"y\")\n",
    "        plt.show()\n",
    "   \n",
    "    def round_of_rating(self, R):\n",
    "        R[np.where(R<1)]=1\n",
    "        R[np.where(R>5)] = 5     \n",
    "        return R\n",
    "    \n",
    "    \n",
    "    def predictAll(self):\n",
    "        #Predict All the Ratings, return a full rating matrix\n",
    "        predictions = self.U.dot(self.M.T)\n",
    "        return self.round_of_rating(predictions)       \n",
    "    \n",
    "    def predict_um(self, u, m, mode=\"train\"):\n",
    "        #Predict the rating of user u to movie m\n",
    "        \n",
    "        if mode==\"test\":\n",
    "            if sum(self.check_matrix[u])==0 or sum(self.check_matrix.T[m])==0:\n",
    "               #userId or movieId not present in training_set                \n",
    "                   return self.check_matrix.mean()\n",
    "            return self.U[u,:].dot(self.M[m].T)\n",
    "            \n",
    "        \n",
    "        prediction = self.U[u,:].dot(self.M[m].T)\n",
    "        self.check_matrix[u][m]=prediction\n",
    "        return prediction\n",
    "    \n",
    "    def calculate_mse(self, d, mode=\"train\"):\n",
    "        #Calculate mse for Training/Testing set\n",
    "        #train_pred['diff'] = (d.rating - self.predictALL))**2\n",
    "        #err_train.append(np.sqrt(train_pred['diff'].mean()))\n",
    "        num_of_d = len(d)\n",
    "        error = 0\n",
    "        \n",
    "        for i, j, r  in d:\n",
    "            prediction = self.predict_um(i,j, mode)\n",
    "            error += (prediction - self.R[i][j] )**2\n",
    "            \n",
    "        error = error/num_of_d\n",
    "        return error"
   ]
  },
  {
   "cell_type": "code",
   "execution_count": 33,
   "metadata": {},
   "outputs": [
    {
     "name": "stdout",
     "output_type": "stream",
     "text": [
      "Training No. 1\n"
     ]
    },
    {
     "name": "stderr",
     "output_type": "stream",
     "text": [
      "/Users/zzfang/anaconda3/lib/python3.6/site-packages/ipykernel_launcher.py:52: FutureWarning: Method .as_matrix will be removed in a future version. Use .values instead.\n",
      "/Users/zzfang/anaconda3/lib/python3.6/site-packages/ipykernel_launcher.py:53: FutureWarning: Method .as_matrix will be removed in a future version. Use .values instead.\n"
     ]
    },
    {
     "name": "stdout",
     "output_type": "stream",
     "text": [
      "Iteration: 1; mse_traing: 13.3410; mse_test: 13.3670\n",
      "Iteration: 2; mse_traing: 13.3383; mse_test: 13.3668\n",
      "Iteration: 3; mse_traing: 13.3349; mse_test: 13.3661\n",
      "Iteration: 4; mse_traing: 13.3301; mse_test: 13.3640\n",
      "Iteration: 5; mse_traing: 13.3220; mse_test: 13.3590\n",
      "Iteration: 6; mse_traing: 13.3066; mse_test: 13.3472\n",
      "Iteration: 7; mse_traing: 13.2753; mse_test: 13.3205\n",
      "Iteration: 8; mse_traing: 13.2090; mse_test: 13.2611\n",
      "Iteration: 9; mse_traing: 13.0674; mse_test: 13.1309\n",
      "Iteration: 10; mse_traing: 12.7714; mse_test: 12.8552\n",
      "Iteration: 11; mse_traing: 12.1914; mse_test: 12.3107\n",
      "Iteration: 12; mse_traing: 11.1941; mse_test: 11.3675\n",
      "Iteration: 13; mse_traing: 9.8104; mse_test: 10.0473\n",
      "Iteration: 14; mse_traing: 8.3384; mse_test: 8.6301\n",
      "Iteration: 15; mse_traing: 7.0794; mse_test: 7.4097\n",
      "Iteration: 16; mse_traing: 6.0963; mse_test: 6.4525\n",
      "Iteration: 17; mse_traing: 5.3284; mse_test: 5.7021\n",
      "Iteration: 18; mse_traing: 4.7164; mse_test: 5.1027\n",
      "Iteration: 19; mse_traing: 4.2212; mse_test: 4.6170\n",
      "Iteration: 20; mse_traing: 3.8154; mse_test: 4.2190\n",
      "Iteration: 21; mse_traing: 3.4792; mse_test: 3.8895\n",
      "Iteration: 22; mse_traing: 3.1973; mse_test: 3.6137\n",
      "Iteration: 23; mse_traing: 2.9586; mse_test: 3.3806\n",
      "Iteration: 24; mse_traing: 2.7542; mse_test: 3.1817\n",
      "Iteration: 25; mse_traing: 2.5775; mse_test: 3.0105\n",
      "Iteration: 26; mse_traing: 2.4235; mse_test: 2.8618\n",
      "Iteration: 27; mse_traing: 2.2881; mse_test: 2.7317\n",
      "Iteration: 28; mse_traing: 2.1682; mse_test: 2.6171\n",
      "Iteration: 29; mse_traing: 2.0613; mse_test: 2.5155\n",
      "Iteration: 30; mse_traing: 1.9654; mse_test: 2.4249\n",
      "Iteration: 31; mse_traing: 1.8789; mse_test: 2.3436\n",
      "Iteration: 32; mse_traing: 1.8005; mse_test: 2.2705\n",
      "Iteration: 33; mse_traing: 1.7291; mse_test: 2.2044\n",
      "Iteration: 34; mse_traing: 1.6639; mse_test: 2.1444\n",
      "Iteration: 35; mse_traing: 1.6040; mse_test: 2.0898\n",
      "Iteration: 36; mse_traing: 1.5489; mse_test: 2.0399\n",
      "Iteration: 37; mse_traing: 1.4980; mse_test: 1.9942\n",
      "Iteration: 38; mse_traing: 1.4508; mse_test: 1.9522\n",
      "Iteration: 39; mse_traing: 1.4070; mse_test: 1.9136\n",
      "Iteration: 40; mse_traing: 1.3662; mse_test: 1.8780\n",
      "Training No. 2\n",
      "Iteration: 1; mse_traing: 13.3685; mse_test: 13.2572\n",
      "Iteration: 2; mse_traing: 13.3657; mse_test: 13.2571\n",
      "Iteration: 3; mse_traing: 13.3623; mse_test: 13.2564\n",
      "Iteration: 4; mse_traing: 13.3573; mse_test: 13.2543\n",
      "Iteration: 5; mse_traing: 13.3487; mse_test: 13.2490\n",
      "Iteration: 6; mse_traing: 13.3323; mse_test: 13.2365\n",
      "Iteration: 7; mse_traing: 13.2985; mse_test: 13.2077\n",
      "Iteration: 8; mse_traing: 13.2265; mse_test: 13.1431\n",
      "Iteration: 9; mse_traing: 13.0725; mse_test: 13.0011\n",
      "Iteration: 10; mse_traing: 12.7520; mse_test: 12.7013\n",
      "Iteration: 11; mse_traing: 12.1303; mse_test: 12.1150\n",
      "Iteration: 12; mse_traing: 11.0822; mse_test: 11.1207\n",
      "Iteration: 13; mse_traing: 9.6671; mse_test: 9.7729\n",
      "Iteration: 14; mse_traing: 8.2013; mse_test: 8.3750\n",
      "Iteration: 15; mse_traing: 6.9649; mse_test: 7.1982\n",
      "Iteration: 16; mse_traing: 6.0002; mse_test: 6.2818\n",
      "Iteration: 17; mse_traing: 5.2452; mse_test: 5.5637\n",
      "Iteration: 18; mse_traing: 4.6434; mse_test: 4.9901\n",
      "Iteration: 19; mse_traing: 4.1570; mse_test: 4.5257\n",
      "Iteration: 20; mse_traing: 3.7589; mse_test: 4.1455\n",
      "Iteration: 21; mse_traing: 3.4293; mse_test: 3.8308\n",
      "Iteration: 22; mse_traing: 3.1532; mse_test: 3.5675\n",
      "Iteration: 23; mse_traing: 2.9193; mse_test: 3.3449\n",
      "Iteration: 24; mse_traing: 2.7191; mse_test: 3.1547\n",
      "Iteration: 25; mse_traing: 2.5461; mse_test: 2.9909\n",
      "Iteration: 26; mse_traing: 2.3952; mse_test: 2.8484\n",
      "Iteration: 27; mse_traing: 2.2625; mse_test: 2.7235\n",
      "Iteration: 28; mse_traing: 2.1449; mse_test: 2.6134\n",
      "Iteration: 29; mse_traing: 2.0401; mse_test: 2.5156\n",
      "Iteration: 30; mse_traing: 1.9461; mse_test: 2.4282\n",
      "Iteration: 31; mse_traing: 1.8612; mse_test: 2.3499\n",
      "Iteration: 32; mse_traing: 1.7843; mse_test: 2.2792\n",
      "Iteration: 33; mse_traing: 1.7143; mse_test: 2.2152\n",
      "Iteration: 34; mse_traing: 1.6503; mse_test: 2.1571\n",
      "Iteration: 35; mse_traing: 1.5916; mse_test: 2.1041\n",
      "Iteration: 36; mse_traing: 1.5375; mse_test: 2.0556\n",
      "Iteration: 37; mse_traing: 1.4876; mse_test: 2.0111\n",
      "Iteration: 38; mse_traing: 1.4415; mse_test: 1.9702\n",
      "Iteration: 39; mse_traing: 1.3986; mse_test: 1.9325\n",
      "Iteration: 40; mse_traing: 1.3587; mse_test: 1.8977\n",
      "Training No. 3\n",
      "Iteration: 1; mse_traing: 13.3334; mse_test: 13.3935\n",
      "Iteration: 2; mse_traing: 13.3297; mse_test: 13.3923\n",
      "Iteration: 3; mse_traing: 13.3242; mse_test: 13.3894\n",
      "Iteration: 4; mse_traing: 13.3143; mse_test: 13.3825\n",
      "Iteration: 5; mse_traing: 13.2950; mse_test: 13.3667\n",
      "Iteration: 6; mse_traing: 13.2548; mse_test: 13.3312\n",
      "Iteration: 7; mse_traing: 13.1688; mse_test: 13.2523\n",
      "Iteration: 8; mse_traing: 12.9859; mse_test: 13.0813\n",
      "Iteration: 9; mse_traing: 12.6103; mse_test: 12.7264\n",
      "Iteration: 10; mse_traing: 11.9025; mse_test: 12.0520\n",
      "Iteration: 11; mse_traing: 10.7653; mse_test: 10.9575\n",
      "Iteration: 12; mse_traing: 9.3245; mse_test: 9.5537\n",
      "Iteration: 13; mse_traing: 7.9138; mse_test: 8.1655\n",
      "Iteration: 14; mse_traing: 6.7535; mse_test: 7.0213\n",
      "Iteration: 15; mse_traing: 5.8477; mse_test: 6.1312\n",
      "Iteration: 16; mse_traing: 5.1339; mse_test: 5.4323\n",
      "Iteration: 17; mse_traing: 4.5619; mse_test: 4.8730\n",
      "Iteration: 18; mse_traing: 4.0971; mse_test: 4.4190\n",
      "Iteration: 19; mse_traing: 3.7150; mse_test: 4.0464\n",
      "Iteration: 20; mse_traing: 3.3970; mse_test: 3.7372\n",
      "Iteration: 21; mse_traing: 3.1296; mse_test: 3.4781\n",
      "Iteration: 22; mse_traing: 2.9022; mse_test: 3.2589\n",
      "Iteration: 23; mse_traing: 2.7071; mse_test: 3.0716\n",
      "Iteration: 24; mse_traing: 2.5379; mse_test: 2.9104\n",
      "Iteration: 25; mse_traing: 2.3902; mse_test: 2.7703\n",
      "Iteration: 26; mse_traing: 2.2600; mse_test: 2.6478\n",
      "Iteration: 27; mse_traing: 2.1446; mse_test: 2.5399\n",
      "Iteration: 28; mse_traing: 2.0417; mse_test: 2.4442\n",
      "Iteration: 29; mse_traing: 1.9492; mse_test: 2.3589\n",
      "Iteration: 30; mse_traing: 1.8657; mse_test: 2.2824\n",
      "Iteration: 31; mse_traing: 1.7900; mse_test: 2.2135\n",
      "Iteration: 32; mse_traing: 1.7211; mse_test: 2.1512\n",
      "Iteration: 33; mse_traing: 1.6580; mse_test: 2.0947\n",
      "Iteration: 34; mse_traing: 1.6001; mse_test: 2.0431\n",
      "Iteration: 35; mse_traing: 1.5468; mse_test: 1.9959\n",
      "Iteration: 36; mse_traing: 1.4975; mse_test: 1.9526\n",
      "Iteration: 37; mse_traing: 1.4519; mse_test: 1.9128\n",
      "Iteration: 38; mse_traing: 1.4095; mse_test: 1.8761\n",
      "Iteration: 39; mse_traing: 1.3700; mse_test: 1.8422\n",
      "Iteration: 40; mse_traing: 1.3331; mse_test: 1.8108\n",
      "Training No. 4\n",
      "Iteration: 1; mse_traing: 13.3433; mse_test: 13.3587\n",
      "Iteration: 2; mse_traing: 13.3407; mse_test: 13.3587\n",
      "Iteration: 3; mse_traing: 13.3376; mse_test: 13.3581\n",
      "Iteration: 4; mse_traing: 13.3331; mse_test: 13.3563\n",
      "Iteration: 5; mse_traing: 13.3255; mse_test: 13.3516\n",
      "Iteration: 6; mse_traing: 13.3110; mse_test: 13.3405\n",
      "Iteration: 7; mse_traing: 13.2816; mse_test: 13.3153\n",
      "Iteration: 8; mse_traing: 13.2191; mse_test: 13.2587\n",
      "Iteration: 9; mse_traing: 13.0853; mse_test: 13.1343\n",
      "Iteration: 10; mse_traing: 12.8051; mse_test: 12.8700\n",
      "Iteration: 11; mse_traing: 12.2527; mse_test: 12.3445\n",
      "Iteration: 12; mse_traing: 11.2923; mse_test: 11.4240\n",
      "Iteration: 13; mse_traing: 9.9355; mse_test: 10.1127\n",
      "Iteration: 14; mse_traing: 8.4624; mse_test: 8.6771\n",
      "Iteration: 15; mse_traing: 7.1839; mse_test: 7.4252\n",
      "Iteration: 16; mse_traing: 6.1802; mse_test: 6.4427\n",
      "Iteration: 17; mse_traing: 5.3957; mse_test: 5.6765\n",
      "Iteration: 18; mse_traing: 4.7708; mse_test: 5.0678\n",
      "Iteration: 19; mse_traing: 4.2656; mse_test: 4.5769\n",
      "Iteration: 20; mse_traing: 3.8521; mse_test: 4.1767\n",
      "Iteration: 21; mse_traing: 3.5099; mse_test: 3.8468\n",
      "Iteration: 22; mse_traing: 3.2235; mse_test: 3.5721\n",
      "Iteration: 23; mse_traing: 2.9814; mse_test: 3.3408\n",
      "Iteration: 24; mse_traing: 2.7745; mse_test: 3.1442\n",
      "Iteration: 25; mse_traing: 2.5961; mse_test: 2.9754\n",
      "Iteration: 26; mse_traing: 2.4409; mse_test: 2.8293\n",
      "Iteration: 27; mse_traing: 2.3046; mse_test: 2.7016\n",
      "Iteration: 28; mse_traing: 2.1842; mse_test: 2.5894\n",
      "Iteration: 29; mse_traing: 2.0770; mse_test: 2.4899\n",
      "Iteration: 30; mse_traing: 1.9810; mse_test: 2.4014\n",
      "Iteration: 31; mse_traing: 1.8946; mse_test: 2.3221\n",
      "Iteration: 32; mse_traing: 1.8163; mse_test: 2.2507\n",
      "Iteration: 33; mse_traing: 1.7451; mse_test: 2.1862\n",
      "Iteration: 34; mse_traing: 1.6801; mse_test: 2.1276\n",
      "Iteration: 35; mse_traing: 1.6204; mse_test: 2.0743\n",
      "Iteration: 36; mse_traing: 1.5655; mse_test: 2.0255\n"
     ]
    },
    {
     "name": "stdout",
     "output_type": "stream",
     "text": [
      "Iteration: 37; mse_traing: 1.5148; mse_test: 1.9808\n",
      "Iteration: 38; mse_traing: 1.4678; mse_test: 1.9398\n",
      "Iteration: 39; mse_traing: 1.4242; mse_test: 1.9019\n",
      "Iteration: 40; mse_traing: 1.3836; mse_test: 1.8669\n",
      "Training No. 5\n",
      "Iteration: 1; mse_traing: 13.3419; mse_test: 13.3621\n",
      "Iteration: 2; mse_traing: 13.3390; mse_test: 13.3619\n",
      "Iteration: 3; mse_traing: 13.3353; mse_test: 13.3608\n",
      "Iteration: 4; mse_traing: 13.3294; mse_test: 13.3579\n",
      "Iteration: 5; mse_traing: 13.3190; mse_test: 13.3507\n",
      "Iteration: 6; mse_traing: 13.2983; mse_test: 13.3339\n",
      "Iteration: 7; mse_traing: 13.2548; mse_test: 13.2957\n",
      "Iteration: 8; mse_traing: 13.1615; mse_test: 13.2105\n",
      "Iteration: 9; mse_traing: 12.9624; mse_test: 13.0253\n",
      "Iteration: 10; mse_traing: 12.5544; mse_test: 12.6421\n",
      "Iteration: 11; mse_traing: 11.7921; mse_test: 11.9219\n",
      "Iteration: 12; mse_traing: 10.5909; mse_test: 10.7814\n",
      "Iteration: 13; mse_traing: 9.1152; mse_test: 9.3717\n",
      "Iteration: 14; mse_traing: 7.7192; mse_test: 8.0277\n",
      "Iteration: 15; mse_traing: 6.5970; mse_test: 6.9388\n",
      "Iteration: 16; mse_traing: 5.7258; mse_test: 6.0894\n",
      "Iteration: 17; mse_traing: 5.0371; mse_test: 5.4175\n",
      "Iteration: 18; mse_traing: 4.4832; mse_test: 4.8773\n",
      "Iteration: 19; mse_traing: 4.0321; mse_test: 4.4377\n",
      "Iteration: 20; mse_traing: 3.6607; mse_test: 4.0759\n",
      "Iteration: 21; mse_traing: 3.3516; mse_test: 3.7747\n",
      "Iteration: 22; mse_traing: 3.0915; mse_test: 3.5214\n",
      "Iteration: 23; mse_traing: 2.8703; mse_test: 3.3060\n",
      "Iteration: 24; mse_traing: 2.6804; mse_test: 3.1213\n",
      "Iteration: 25; mse_traing: 2.5158; mse_test: 2.9615\n",
      "Iteration: 26; mse_traing: 2.3719; mse_test: 2.8221\n",
      "Iteration: 27; mse_traing: 2.2452; mse_test: 2.6996\n",
      "Iteration: 28; mse_traing: 2.1327; mse_test: 2.5913\n",
      "Iteration: 29; mse_traing: 2.0323; mse_test: 2.4949\n",
      "Iteration: 30; mse_traing: 1.9420; mse_test: 2.4086\n",
      "Iteration: 31; mse_traing: 1.8605; mse_test: 2.3310\n",
      "Iteration: 32; mse_traing: 1.7865; mse_test: 2.2609\n",
      "Iteration: 33; mse_traing: 1.7191; mse_test: 2.1973\n",
      "Iteration: 34; mse_traing: 1.6573; mse_test: 2.1394\n",
      "Iteration: 35; mse_traing: 1.6005; mse_test: 2.0864\n",
      "Iteration: 36; mse_traing: 1.5481; mse_test: 2.0378\n",
      "Iteration: 37; mse_traing: 1.4996; mse_test: 1.9931\n",
      "Iteration: 38; mse_traing: 1.4546; mse_test: 1.9518\n",
      "Iteration: 39; mse_traing: 1.4127; mse_test: 1.9137\n",
      "Iteration: 40; mse_traing: 1.3736; mse_test: 1.8784\n"
     ]
    },
    {
     "data": {
      "image/png": "[encoded data removed]",
      "text/plain": [
       "<Figure size 1152x288 with 1 Axes>"
      ]
     },
     "metadata": {},
     "output_type": "display_data"
    },
    {
     "data": {
      "image/png": "[encoded data removed]",
      "text/plain": [
       "<Figure size 1152x288 with 1 Axes>"
      ]
     },
     "metadata": {},
     "output_type": "display_data"
    },
    {
     "data": {
      "image/png": "[encoded data removed]",
      "text/plain": [
       "<Figure size 1152x288 with 1 Axes>"
      ]
     },
     "metadata": {},
     "output_type": "display_data"
    },
    {
     "data": {
      "image/png": "[encoded data removed]",
      "text/plain": [
       "<Figure size 1152x288 with 1 Axes>"
      ]
     },
     "metadata": {},
     "output_type": "display_data"
    },
    {
     "data": {
      "image/png": "[encoded data removed]",
      "text/plain": [
       "<Figure size 1152x288 with 1 Axes>"
      ]
     },
     "metadata": {},
     "output_type": "display_data"
    }
   ],
   "source": [
    "#A running example with 40 iterations\n",
    "mf = MatrixFactorization(itr=40)\n",
    "err = mf.train_n_times()"
   ]
  },
  {
   "cell_type": "code",
   "execution_count": 34,
   "metadata": {},
   "outputs": [
    {
     "data": {
      "text/plain": [
       "[[(0, 13.340983292242175, 13.36700791579983),\n",
       "  (1, 13.338274219950595, 13.36684522266431),\n",
       "  (2, 13.334926852520399, 13.366110371066231),\n",
       "  (3, 13.33009474484998, 13.36403681248753),\n",
       "  (4, 13.32197920657128, 13.358959522576418),\n",
       "  (5, 13.306630616169258, 13.347186441095184),\n",
       "  (6, 13.275330302215938, 13.320533749528622),\n",
       "  (7, 13.209030060440867, 13.261087718246646),\n",
       "  (8, 13.067418557519877, 13.13087792629577),\n",
       "  (9, 12.771435593474497, 12.855214882943265),\n",
       "  (10, 12.19138545101825, 12.310660798687216),\n",
       "  (11, 11.194127340161405, 11.3674714545586),\n",
       "  (12, 9.81037889310444, 10.047261924246284),\n",
       "  (13, 8.338358763727491, 8.630083502720144),\n",
       "  (14, 7.079358821592538, 7.409678277174308),\n",
       "  (15, 6.096346914280169, 6.452500808234211),\n",
       "  (16, 5.328392709002282, 5.702146163151697),\n",
       "  (17, 4.716404083837013, 5.102724314837812),\n",
       "  (18, 4.221157856800997, 4.617032590399031),\n",
       "  (19, 3.815425620528719, 4.219048021436413),\n",
       "  (20, 3.479171767545349, 3.889465582315493),\n",
       "  (21, 3.197347105868971, 3.6136872372383624),\n",
       "  (22, 2.9585666412945333, 3.3806019273640446),\n",
       "  (23, 2.754167913691709, 3.1817069089277017),\n",
       "  (24, 2.5775148109371417, 3.0104550937965047),\n",
       "  (25, 2.4234830240260137, 2.861769974096633),\n",
       "  (26, 2.288081200340151, 2.7316852727283725),\n",
       "  (27, 2.1681722808270196, 2.6170769682137567),\n",
       "  (28, 2.0612680431913586, 2.5154635620805808),\n",
       "  (29, 1.9653768688792619, 2.424856720775038),\n",
       "  (30, 1.878890217738908, 2.3436491328205618),\n",
       "  (31, 1.8004973756854667, 2.270529923167522),\n",
       "  (32, 1.7291209887450614, 2.204420540164522),\n",
       "  (33, 1.66386798797563, 2.1444259075691647),\n",
       "  (34, 1.6039919867505326, 2.089797000671923),\n",
       "  (35, 1.548864281022943, 2.039902003701979),\n",
       "  (36, 1.4979513362465957, 1.9942039382217709),\n",
       "  (37, 1.4507971910936561, 1.9522431922342471),\n",
       "  (38, 1.4070096081598948, 1.913623778931002),\n",
       "  (39, 1.3662490964576, 1.8780024494716123)],\n",
       " [(0, 13.368462644546108, 13.257232193318877),\n",
       "  (1, 13.365725023039749, 13.257126108053074),\n",
       "  (2, 13.362306693050401, 13.256433410371272),\n",
       "  (3, 13.357295624909563, 13.254335920759441),\n",
       "  (4, 13.348735132995627, 13.249030172328883),\n",
       "  (5, 13.332311252141915, 13.236484545444412),\n",
       "  (6, 13.298490607072763, 13.207725036842309),\n",
       "  (7, 13.226478588386819, 13.143095843922728),\n",
       "  (8, 13.07251733596523, 13.00111185272382),\n",
       "  (9, 12.751953484667093, 12.701258946760614),\n",
       "  (10, 12.130307990850124, 12.114962311673251),\n",
       "  (11, 11.082158358547103, 11.120710739877103),\n",
       "  (12, 9.667131954889252, 9.772876076054724),\n",
       "  (13, 8.201345905794543, 8.374956643932514),\n",
       "  (14, 6.964859925789044, 7.198208225449406),\n",
       "  (15, 6.000203511983634, 6.281813685129438),\n",
       "  (16, 5.2451569646669345, 5.5637231303954255),\n",
       "  (17, 4.643447355030263, 4.990137724461632),\n",
       "  (18, 4.157012466287231, 4.525704241972934),\n",
       "  (19, 3.7589229907388413, 4.1454596145458575),\n",
       "  (20, 3.429279086670888, 3.8307581412083826),\n",
       "  (21, 3.1531544647548877, 3.5674705228313206),\n",
       "  (22, 2.919281262233596, 3.3448601796624735),\n",
       "  (23, 2.7191041827193687, 3.1547458819059737),\n",
       "  (24, 2.5460842805770696, 2.990862620012948),\n",
       "  (25, 2.3951854446985177, 2.8483788327609436),\n",
       "  (26, 2.2624958481642263, 2.72353612256482),\n",
       "  (27, 2.1449489675539612, 2.6133826633141517),\n",
       "  (28, 2.0401178044583004, 2.5155767326394316),\n",
       "  (29, 1.946062726351898, 2.4282418680930564),\n",
       "  (30, 1.8612184901955324, 2.349859643781661),\n",
       "  (31, 1.784309893690577, 2.2791897588710253),\n",
       "  (32, 1.7142883854009558, 2.2152099850768567),\n",
       "  (33, 1.6502840794797622, 2.157070632358564),\n",
       "  (34, 1.591569152726052, 2.104059710967039),\n",
       "  (35, 1.5375297046439267, 2.055576044313641),\n",
       "  (36, 1.487643953459948, 2.0111083462009542),\n",
       "  (37, 1.4414652104996317, 1.9702188124207312),\n",
       "  (38, 1.398608485536874, 1.9325301582495371),\n",
       "  (39, 1.3587398722323658, 1.897715306998372)],\n",
       " [(0, 13.333424111009126, 13.393453302665977),\n",
       "  (1, 13.329726233629584, 13.392317489140265),\n",
       "  (2, 13.324159305274566, 13.389419938412734),\n",
       "  (3, 13.31433911463015, 13.382530929320245),\n",
       "  (4, 13.295046343903632, 13.366728447627974),\n",
       "  (5, 13.25481292133843, 13.33115506343817),\n",
       "  (6, 13.168846757648323, 13.252277202835078),\n",
       "  (7, 12.985871096025441, 13.081261268834774),\n",
       "  (8, 12.610250608317312, 12.726445709593612),\n",
       "  (9, 11.902464960046428, 12.052032201978724),\n",
       "  (10, 10.765335007896974, 10.957459167436804),\n",
       "  (11, 9.324525667218554, 9.553692458433902),\n",
       "  (12, 7.913782773537687, 8.165520146929648),\n",
       "  (13, 6.753499220718504, 7.021255134486977),\n",
       "  (14, 5.847657652418074, 6.131216343216255),\n",
       "  (15, 5.133880586976185, 5.432269153254137),\n",
       "  (16, 4.561868507692253, 4.872970437390015),\n",
       "  (17, 4.097132618016286, 4.41902524965175),\n",
       "  (18, 3.7149526235187738, 4.046352760013543),\n",
       "  (19, 3.3970172898473407, 3.7371777046368355),\n",
       "  (20, 3.1295785398567086, 3.478086430385266),\n",
       "  (21, 2.9022329998300043, 3.258855029895404),\n",
       "  (22, 2.707050221297169, 3.071636697940065),\n",
       "  (23, 2.537936005551358, 2.910367463720307),\n",
       "  (24, 2.39016590188577, 2.770325863091293),\n",
       "  (25, 2.2600433538897065, 2.6478062282671404),\n",
       "  (26, 2.1446488278113813, 2.5398761753245065),\n",
       "  (27, 2.041654984588423, 2.4441961141625916),\n",
       "  (28, 1.9491896731672578, 2.358884246241497),\n",
       "  (29, 1.8657336097374413, 2.2824149284041124),\n",
       "  (30, 1.790043346732503, 2.213541613234715),\n",
       "  (31, 1.7210928157359087, 2.1512380111088953),\n",
       "  (32, 1.6580286220953622, 2.0946528630844887),\n",
       "  (33, 1.6001356019530062, 2.043074954660293),\n",
       "  (34, 1.546810094678844, 1.995905886134862),\n",
       "  (35, 1.4975390558141872, 1.9526387531124807),\n",
       "  (36, 1.4518836200554157, 1.9128413549880738),\n",
       "  (37, 1.409466076363055, 1.8761428906573137),\n",
       "  (38, 1.3699594759610176, 1.8422233538543686),\n",
       "  (39, 1.333079285006411, 1.8108050294175233)],\n",
       " [(0, 13.343255026018412, 13.358701747934726),\n",
       "  (1, 13.340729951416858, 13.358681239889785),\n",
       "  (2, 13.337598015322692, 13.358112875772349),\n",
       "  (3, 13.333071500485596, 13.356278259845686),\n",
       "  (4, 13.325458809731183, 13.351595533739312),\n",
       "  (5, 13.31103437029582, 13.340541509169448),\n",
       "  (6, 13.281566063149072, 13.315291866383843),\n",
       "  (7, 13.219054582370708, 13.258694623817496),\n",
       "  (8, 13.085330493485936, 13.134301127331561),\n",
       "  (9, 12.805087446169148, 12.869968128355135),\n",
       "  (10, 12.252735067078913, 12.344523462944409),\n",
       "  (11, 11.292302817067528, 11.42403786216945),\n",
       "  (12, 9.935540216697163, 10.11274399732257),\n",
       "  (13, 8.462438234684269, 8.677106383227775),\n",
       "  (14, 7.183934566733139, 7.425246210982727),\n",
       "  (15, 6.180209884829245, 6.442720604389266),\n",
       "  (16, 5.395664129135513, 5.676511690849948),\n",
       "  (17, 4.770844955657627, 5.067769468145105),\n",
       "  (18, 4.265615857603333, 4.576939316569701),\n",
       "  (19, 3.8521206850972707, 4.176675223128075),\n",
       "  (20, 3.509893742660909, 3.8468009233008438),\n",
       "  (21, 3.223544556245474, 3.5720534168141307),\n",
       "  (22, 2.9813952145013767, 3.340810911256374),\n",
       "  (23, 2.7745332262422804, 3.144200727667547),\n",
       "  (24, 2.596116490351349, 2.975426024751099),\n",
       "  (25, 2.440856726786298, 2.8292526250742736),\n",
       "  (26, 2.304635032468051, 2.7016207922622377),\n",
       "  (27, 2.184216089533344, 2.5893544525213708),\n",
       "  (28, 2.077035814031727, 2.4899450458445163),\n",
       "  (29, 1.9810433863938297, 2.4013914432605636),\n",
       "  (30, 1.894583389250599, 2.322081357943219),\n",
       "  (31, 1.8163074755591226, 2.2507031807375535),\n",
       "  (32, 1.745107792084727, 2.1861800354507683),\n",
       "  (33, 1.6800664688952105, 2.1276200690537395),\n",
       "  (34, 1.6204170185468674, 2.0742786489023946),\n",
       "  (35, 1.5655146072826336, 2.025529346665061),\n",
       "  (36, 1.5148129738841662, 1.9808414565742254),\n",
       "  (37, 1.4678463623778488, 1.9397624152998052),\n",
       "  (38, 1.4242152636560406, 1.9019039324933935),\n",
       "  (39, 1.3835750728845337, 1.8669309566113277)],\n",
       " [(0, 13.341905824671068, 13.362105654050948),\n",
       "  (1, 13.339022648225853, 13.361877784089481),\n",
       "  (2, 13.335257858111689, 13.360837271134066),\n",
       "  (3, 13.32943423389531, 13.357909931621851),\n",
       "  (4, 13.318995873204656, 13.35071392351027),\n",
       "  (5, 13.298283882312964, 13.33392669185547),\n",
       "  (6, 13.254799411659274, 13.295743495014245),\n",
       "  (7, 13.161463073993302, 13.210535592534436),\n",
       "  (8, 12.962371528228058, 13.025312178486072),\n",
       "  (9, 12.55436755076472, 12.642065748287193),\n",
       "  (10, 11.792136608800325, 11.921949149048736),\n",
       "  (11, 10.590930792976026, 10.781438119831641),\n",
       "  (12, 9.11516828589868, 9.371703368138762),\n",
       "  (13, 7.719151094257027, 8.027671445964291),\n",
       "  (14, 6.597001075462701, 6.9387907593720675),\n",
       "  (15, 5.725751737469294, 6.089445953530005),\n",
       "  (16, 5.03712816744333, 5.417484022917417),\n",
       "  (17, 4.483213260373391, 4.877318506994006),\n",
       "  (18, 4.03212700798917, 4.437731043039339),\n",
       "  (19, 3.660732295981641, 4.075902086186658),\n",
       "  (20, 3.35159801777403, 3.7747363265409937),\n",
       "  (21, 3.091486975562173, 3.521358405552072),\n",
       "  (22, 2.8703209579068036, 3.306023348113636),\n",
       "  (23, 2.6803966760142277, 3.121298372333868),\n",
       "  (24, 2.515789483195009, 2.9614596614523343),\n",
       "  (25, 2.371906016753258, 2.82205389875878),\n",
       "  (26, 2.2451525052449255, 2.6995808889114468),\n",
       "  (27, 2.13269035523448, 2.5912629876077746),\n",
       "  (28, 2.0322561149566076, 2.494876115305652),\n",
       "  (29, 1.942028281410708, 2.408624478925803),\n",
       "  (30, 1.8605280379972557, 2.331046577303085),\n",
       "  (31, 1.7865446333687325, 2.2609438954666867),\n",
       "  (32, 1.7190787833767718, 2.1973262979153954),\n",
       "  (33, 1.6572993769054896, 2.13936988148909),\n",
       "  (34, 1.6005100949556235, 2.086384230233828),\n",
       "  (35, 1.5481234810648234, 2.0377868267078787),\n",
       "  (36, 1.499640655955369, 1.9930829458951398),\n",
       "  (37, 1.4546353369878537, 1.9518497704679665),\n",
       "  (38, 1.4127411615747905, 1.91372377010714),\n",
       "  (39, 1.3736415617227906, 1.8783906149048977)]]"
      ]
     },
     "execution_count": 34,
     "metadata": {},
     "output_type": "execute_result"
    }
   ],
   "source": [
    "err"
   ]
  },
  {
   "cell_type": "code",
   "execution_count": 35,
   "metadata": {},
   "outputs": [
    {
     "name": "stdout",
     "output_type": "stream",
     "text": [
      "Average Test MSE of The 5 Models:  1.8663688714807467\n"
     ]
    }
   ],
   "source": [
    "#Print the final test mse\n",
    "err_final = [e[-1][-1] for e in err]\n",
    "print(\"Average Test MSE of The 5 Models: \",np.array(err_final).mean())"
   ]
  },
  {
   "cell_type": "code",
   "execution_count": 238,
   "metadata": {},
   "outputs": [
    {
     "name": "stdout",
     "output_type": "stream",
     "text": [
      "For the MF with GD \n",
      "Mean error on TRAIN: 12.40499678832716\n",
      "Mean error on  TEST: 12.412558218023136\n"
     ]
    }
   ],
   "source": [
    "#print the final conclusion:\n",
    "print(\"For the MF with GD \")\n",
    "print(\"Mean error on TRAIN: \" + str(result[1]))\n",
    "print(\"Mean error on  TEST: \" + str(result[2]))"
   ]
  },
  {
   "cell_type": "markdown",
   "metadata": {},
   "source": [
    "## Model Optimization\n",
    "In this section we will discuss the methods to optimize the Matrix Factorization Model, i.e. how to determine the optimal number of iterations, learning rate and latent factors."
   ]
  },
  {
   "cell_type": "markdown",
   "metadata": {},
   "source": [
    "### Number of Iterations\n",
    "Too few iterations can lead to underfitting and too many can lead to overfitting. To find the optimal number of iterations, we need to monitor the value of cross-validation error during the training process. If the cross-validation error decreases with number of iterations increasing, we can improve the performance of the model by increasing iterations. If the cross-validation error starts to increase with the increasing of iterations, we should stop training the model."
   ]
  },
  {
   "cell_type": "code",
   "execution_count": 38,
   "metadata": {
    "collapsed": true
   },
   "outputs": [],
   "source": [
    "mf_1 = MatrixFactorization(itr=100)"
   ]
  },
  {
   "cell_type": "code",
   "execution_count": null,
   "metadata": {},
   "outputs": [
    {
     "name": "stdout",
     "output_type": "stream",
     "text": [
      "Training No. 1\n"
     ]
    },
    {
     "name": "stderr",
     "output_type": "stream",
     "text": [
      "/Users/zzfang/anaconda3/lib/python3.6/site-packages/ipykernel_launcher.py:52: FutureWarning: Method .as_matrix will be removed in a future version. Use .values instead.\n",
      "/Users/zzfang/anaconda3/lib/python3.6/site-packages/ipykernel_launcher.py:53: FutureWarning: Method .as_matrix will be removed in a future version. Use .values instead.\n"
     ]
    },
    {
     "name": "stdout",
     "output_type": "stream",
     "text": [
      "Iteration: 1; mse_traing: 13.3345; mse_test: 13.3915\n",
      "Iteration: 2; mse_traing: 13.3315; mse_test: 13.3910\n",
      "Iteration: 3; mse_traing: 13.3275; mse_test: 13.3895\n",
      "Iteration: 4; mse_traing: 13.3212; mse_test: 13.3859\n",
      "Iteration: 5; mse_traing: 13.3095; mse_test: 13.3773\n",
      "Iteration: 6; mse_traing: 13.2860; mse_test: 13.3578\n",
      "Iteration: 7; mse_traing: 13.2366; mse_test: 13.3138\n",
      "Iteration: 8; mse_traing: 13.1305; mse_test: 13.2164\n",
      "Iteration: 9; mse_traing: 12.9058; mse_test: 13.0067\n",
      "Iteration: 10; mse_traing: 12.4515; mse_test: 12.5789\n",
      "Iteration: 11; mse_traing: 11.6234; mse_test: 11.7939\n",
      "Iteration: 12; mse_traing: 10.3668; mse_test: 10.5941\n",
      "Iteration: 13; mse_traing: 8.8874; mse_test: 9.1714\n",
      "Iteration: 14; mse_traing: 7.5282; mse_test: 7.8577\n",
      "Iteration: 15; mse_traing: 6.4430; mse_test: 6.8064\n",
      "Iteration: 16; mse_traing: 5.5987; mse_test: 5.9861\n",
      "Iteration: 17; mse_traing: 4.9309; mse_test: 5.3347\n",
      "Iteration: 18; mse_traing: 4.3938; mse_test: 4.8088\n",
      "Iteration: 19; mse_traing: 3.9561; mse_test: 4.3792\n",
      "Iteration: 20; mse_traing: 3.5952; mse_test: 4.0245\n"
     ]
    }
   ],
   "source": [
    "err_1 = mf_1.train_n_times()"
   ]
  },
  {
   "cell_type": "markdown",
   "metadata": {},
   "source": [
    "# Future Work"
   ]
  },
  {
   "cell_type": "markdown",
   "metadata": {
    "collapsed": true
   },
   "source": [
    "## MF with ALS"
   ]
  },
  {
   "cell_type": "code",
   "execution_count": null,
   "metadata": {
    "collapsed": true
   },
   "outputs": [],
   "source": [
    "r_mat = df_ratings.pivot(index='userId', columns = 'movieId', values = 'rating')\n",
    "\n",
    "U[:,0] = np.mean(r_mat, axis = 1)\n",
    "M[:,0] = np.mean(r_mat, axis = 0)\n",
    "\n",
    "UI = U[:,X[:,j].nonzero()[0]]\n",
    "\n",
    "for u in range(num_users):\n",
    "    vec = X[u,:].nonzero()[0]\n",
    "    MI = M[vec,:]\n",
    "    n = max(len(vec),1)\n",
    "    A = np.dot(MI.T,MI) + lmda*n*np.eye(num_features)\n",
    "    V = np.dot(MI.T,X[u,X[u,:].nonzero()[0]])\n",
    "    U[u,:] = np.linalg.solve(A,V)\n",
    "        \n",
    "for m in range(num_movies):\n",
    "    vec = X[:,m].nonzero()[0]\n",
    "    UI = U[vec,:]\n",
    "    n = max(len(vec),1)\n",
    "    A = np.dot(UI.T,UI) + lmda*n*np.eye(num_features)\n",
    "    V = np.dot(UI.T,X[X[:,m].nonzero()[0],j])\n",
    "    M[m,:] = np.linalg.solve(A,V)\n",
    "        \n",
    "pred = np.dot(U.T,M)\n",
    "    "
   ]
  }
 ],
 "metadata": {
  "kernelspec": {
   "display_name": "Python [default]",
   "language": "python",
   "name": "python3"
  },
  "language_info": {
   "codemirror_mode": {
    "name": "ipython",
    "version": 3
   },
   "file_extension": ".py",
   "mimetype": "text/x-python",
   "name": "python",
   "nbconvert_exporter": "python",
   "pygments_lexer": "ipython3",
   "version": "3.5.3"
  }
 },
 "nbformat": 4,
 "nbformat_minor": 2
}
