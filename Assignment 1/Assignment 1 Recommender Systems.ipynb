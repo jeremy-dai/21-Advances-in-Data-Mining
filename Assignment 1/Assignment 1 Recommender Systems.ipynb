{
 "cells": [
  {
   "cell_type": "markdown",
   "metadata": {},
   "source": [
    "In this task, we will be working on the MovieLens 1M dataset which can be fetched from moivelens . This set contains about 1.000.000 ratings given to about 4.000 movies by about 6.000 users. Additionally, some information is provided about movies (genre, title, production year) and users (gender, age, occupation). Our task is to\n",
    "implement in Python several recommendation algorithms that have been discussed during the course\n",
    "estimate their accuracy with the Root Mean Squared Error, RMSE, and the Mean Absolute Error, MAE\n",
    "To make sure that the results are reliable, 5-fold cross- validation is used.\n",
    "The algorithms that we will implement are:\n",
    "- Naive Approaches\n",
    "- Matrix factorization"
   ]
  },
  {
   "cell_type": "code",
   "execution_count": 1,
   "metadata": {
    "collapsed": true
   },
   "outputs": [],
   "source": [
    "# Import packages\n",
    "import numpy as np\n",
    "import pandas as pd\n",
    "import sklearn\n",
    "import os\n",
    "from sklearn.model_selection import KFold\n",
    "from sklearn import linear_model\n",
    "\n",
    "# Read the Ratings File\n",
    "DATA_DIR = '../data'\n",
    "RATING_FILE = 'ratings.csv'\n",
    "\n",
    "ratings_raw = pd.read_csv(os.path.join(DATA_DIR, RATING_FILE),sep=',')"
   ]
  },
  {
   "cell_type": "code",
   "execution_count": 2,
   "metadata": {},
   "outputs": [
    {
     "data": {
      "text/html": [
       "<div>\n",
       "<style>\n",
       "    .dataframe thead tr:only-child th {\n",
       "        text-align: right;\n",
       "    }\n",
       "\n",
       "    .dataframe thead th {\n",
       "        text-align: left;\n",
       "    }\n",
       "\n",
       "    .dataframe tbody tr th {\n",
       "        vertical-align: top;\n",
       "    }\n",
       "</style>\n",
       "<table border=\"1\" class=\"dataframe\">\n",
       "  <thead>\n",
       "    <tr style=\"text-align: right;\">\n",
       "      <th></th>\n",
       "      <th>userId</th>\n",
       "      <th>movieId</th>\n",
       "      <th>rating</th>\n",
       "      <th>timestamp</th>\n",
       "    </tr>\n",
       "  </thead>\n",
       "  <tbody>\n",
       "    <tr>\n",
       "      <th>0</th>\n",
       "      <td>1</td>\n",
       "      <td>1</td>\n",
       "      <td>4.0</td>\n",
       "      <td>964982703</td>\n",
       "    </tr>\n",
       "    <tr>\n",
       "      <th>1</th>\n",
       "      <td>1</td>\n",
       "      <td>3</td>\n",
       "      <td>4.0</td>\n",
       "      <td>964981247</td>\n",
       "    </tr>\n",
       "    <tr>\n",
       "      <th>2</th>\n",
       "      <td>1</td>\n",
       "      <td>6</td>\n",
       "      <td>4.0</td>\n",
       "      <td>964982224</td>\n",
       "    </tr>\n",
       "    <tr>\n",
       "      <th>3</th>\n",
       "      <td>1</td>\n",
       "      <td>47</td>\n",
       "      <td>5.0</td>\n",
       "      <td>964983815</td>\n",
       "    </tr>\n",
       "    <tr>\n",
       "      <th>4</th>\n",
       "      <td>1</td>\n",
       "      <td>50</td>\n",
       "      <td>5.0</td>\n",
       "      <td>964982931</td>\n",
       "    </tr>\n",
       "  </tbody>\n",
       "</table>\n",
       "</div>"
      ],
      "text/plain": [
       "   userId  movieId  rating  timestamp\n",
       "0       1        1     4.0  964982703\n",
       "1       1        3     4.0  964981247\n",
       "2       1        6     4.0  964982224\n",
       "3       1       47     5.0  964983815\n",
       "4       1       50     5.0  964982931"
      ]
     },
     "execution_count": 2,
     "metadata": {},
     "output_type": "execute_result"
    }
   ],
   "source": [
    "ratings = ratings_raw.copy()\n",
    "ratings.head()"
   ]
  },
  {
   "cell_type": "code",
   "execution_count": 3,
   "metadata": {},
   "outputs": [
    {
     "name": "stdout",
     "output_type": "stream",
     "text": [
      "The max rating is: 5.0 . And the min rating is: 0.5\n"
     ]
    }
   ],
   "source": [
    "# Data Wrangling\n",
    "print (\"The max rating is:\",ratings.rating.max(),\". And the min rating is:\",ratings.rating.min())"
   ]
  },
  {
   "cell_type": "code",
   "execution_count": 4,
   "metadata": {},
   "outputs": [
    {
     "name": "stderr",
     "output_type": "stream",
     "text": [
      "/Users/jeremydai/anaconda/lib/python3.5/site-packages/ipykernel/__main__.py:1: SettingWithCopyWarning: \n",
      "A value is trying to be set on a copy of a slice from a DataFrame\n",
      "\n",
      "See the caveats in the documentation: http://pandas.pydata.org/pandas-docs/stable/indexing.html#indexing-view-versus-copy\n",
      "  if __name__ == '__main__':\n"
     ]
    }
   ],
   "source": [
    "ratings.rating[ratings.rating<1]=1"
   ]
  },
  {
   "cell_type": "code",
   "execution_count": null,
   "metadata": {
    "collapsed": true
   },
   "outputs": [],
   "source": [
    "# need to do more\n",
    "'''\n",
    "# Fill NaN values in user_id and movie_id column with 0\n",
    "ratings['user_id'] = ratings['user_id'].fillna(0)\n",
    "ratings['movie_id'] = ratings['movie_id'].fillna(0)\n",
    "\n",
    "# Replace NaN values in rating column with average of all values\n",
    "ratings['rating'] = ratings['rating'].fillna(ratings['rating'].mean())\n",
    "'''"
   ]
  },
  {
   "cell_type": "markdown",
   "metadata": {},
   "source": [
    "## Naive Approaches\n",
    "\n",
    "The first 4 formulas from slide 17: the global average rating, the av- erage rating per item, the average rating per user, and an “optimal” linear combination of the 3 averages. (The global average does not depend on the specific user or item, hence it is constant - therefore we model its contribution by a single parameter γ.)"
   ]
  },
  {
   "cell_type": "markdown",
   "metadata": {},
   "source": [
    "The “average rating” recommender requires no further explanation. However, when building models for “average user rating” or “average movie rating” you must take into account that during the sampling process some users or some movies might disappear from the training sets – all their ratings will enter the test set. To handle such cases, use the “global average rating” as a fall-back value.\n",
    "Additionally, improve predictions by rounding values bigger than 5 to 5 and smaller than 1 to 1 (valid ratings are always between 1 and 5).\n",
    "Thus there are 4 naive approaches: global average, user average, movie average and a linear combination of the three averages (with fall-back rules)."
   ]
  },
  {
   "cell_type": "code",
   "execution_count": 19,
   "metadata": {
    "collapsed": true
   },
   "outputs": [],
   "source": [
    "nfolds=5\n",
    "\n",
    "# set up the empty result list\n",
    "err_train=[]\n",
    "err_test=[]"
   ]
  },
  {
   "cell_type": "code",
   "execution_count": 17,
   "metadata": {
    "collapsed": true
   },
   "outputs": [],
   "source": [
    "kf = KFold(n_splits=nfolds, random_state = 0, shuffle = True)"
   ]
  },
  {
   "cell_type": "code",
   "execution_count": 27,
   "metadata": {},
   "outputs": [
    {
     "name": "stderr",
     "output_type": "stream",
     "text": [
      "/Users/jeremydai/anaconda/lib/python3.5/site-packages/ipykernel/__main__.py:4: SettingWithCopyWarning: \n",
      "A value is trying to be set on a copy of a slice from a DataFrame.\n",
      "Try using .loc[row_indexer,col_indexer] = value instead\n",
      "\n",
      "See the caveats in the documentation: http://pandas.pydata.org/pandas-docs/stable/indexing.html#indexing-view-versus-copy\n",
      "/Users/jeremydai/anaconda/lib/python3.5/site-packages/ipykernel/__main__.py:6: SettingWithCopyWarning: \n",
      "A value is trying to be set on a copy of a slice from a DataFrame.\n",
      "Try using .loc[row_indexer,col_indexer] = value instead\n",
      "\n",
      "See the caveats in the documentation: http://pandas.pydata.org/pandas-docs/stable/indexing.html#indexing-view-versus-copy\n"
     ]
    }
   ],
   "source": [
    "for train_index, test_index in kf.split(ratings.userId):\n",
    "    train, test = ratings.iloc[train_index], ratings.iloc[test_index]\n",
    "    gmr = train.rating.mean()\n",
    "    train['diff'] = (train.rating - gmr)**2\n",
    "    err_train.append(np.sqrt(train['diff'].mean()))\n",
    "    test['diff'] = (test.rating - gmr)**2\n",
    "    err_test.append(np.sqrt(test['diff'].mean()))"
   ]
  },
  {
   "cell_type": "code",
   "execution_count": 29,
   "metadata": {},
   "outputs": [
    {
     "name": "stdout",
     "output_type": "stream",
     "text": [
      "For the global average rating \n",
      "Mean error on TRAIN: 1.03607933603437\n",
      "Mean error on  TEST: 1.036079372847295\n"
     ]
    }
   ],
   "source": [
    "#print the final conclusion:\n",
    "print(\"For the global average rating \")\n",
    "print(\"Mean error on TRAIN: \" + str(np.mean(err_train)))\n",
    "print(\"Mean error on  TEST: \" + str(np.mean(err_test)))"
   ]
  },
  {
   "cell_type": "markdown",
   "metadata": {},
   "source": [
    "## average user rating"
   ]
  },
  {
   "cell_type": "code",
   "execution_count": 31,
   "metadata": {
    "collapsed": true
   },
   "outputs": [],
   "source": [
    "# set up the empty result list\n",
    "err_train=[]\n",
    "err_test=[]\n",
    "\n",
    "for train_index, test_index in kf.split(ratings.userId):\n",
    "    train, test = ratings.iloc[train_index], ratings.iloc[test_index]\n",
    "    ave_user = train.groupby(['userId'])['rating'].mean().to_frame().reset_index()\n",
    "    ave_user.columns = ['userId', 'pred'] \n",
    "    \n",
    "    train_pred = train.merge(ave_user,on=['userId'], how='left')\n",
    "    test_pred = test.merge(ave_user,on=['userId'], how='left')\n",
    "    \n",
    "    gmr = train.rating.mean()\n",
    "    train_pred['pred'].fillna(gmr, inplace = True)\n",
    "    test_pred['pred'].fillna(gmr, inplace = True)\n",
    "\n",
    "    train_pred['diff'] = (train_pred.rating - train_pred.pred)**2\n",
    "    err_train.append(np.sqrt(train_pred['diff'].mean()))\n",
    "    test_pred['diff'] = (test_pred.rating - test_pred.pred)**2\n",
    "    err_test.append(np.sqrt(test_pred['diff'].mean()))"
   ]
  },
  {
   "cell_type": "code",
   "execution_count": 32,
   "metadata": {},
   "outputs": [
    {
     "name": "stdout",
     "output_type": "stream",
     "text": [
      "For the user average rating \n",
      "Mean error on TRAIN: 0.9414273189579973\n",
      "Mean error on  TEST: 0.9500774977254043\n"
     ]
    }
   ],
   "source": [
    "#print the final conclusion:\n",
    "print(\"For the user average rating \")\n",
    "print(\"Mean error on TRAIN: \" + str(np.mean(err_train)))\n",
    "print(\"Mean error on  TEST: \" + str(np.mean(err_test)))"
   ]
  },
  {
   "cell_type": "markdown",
   "metadata": {},
   "source": [
    "## average movie rating"
   ]
  },
  {
   "cell_type": "code",
   "execution_count": 33,
   "metadata": {
    "collapsed": true
   },
   "outputs": [],
   "source": [
    "# set up the empty result list\n",
    "err_train=[]\n",
    "err_test=[]\n",
    "\n",
    "for train_index, test_index in kf.split(ratings.movieId):\n",
    "    train, test = ratings.iloc[train_index], ratings.iloc[test_index]\n",
    "    ave_movie = train.groupby(['movieId'])['rating'].mean().to_frame().reset_index()\n",
    "    ave_movie.columns = ['movieId', 'pred'] \n",
    "    \n",
    "    train_pred = train.merge(ave_movie,on=['movieId'], how='left')\n",
    "    test_pred = test.merge(ave_movie,on=['movieId'], how='left')\n",
    "    \n",
    "    gmr = train.rating.mean()\n",
    "    train_pred['pred'].fillna(gmr, inplace = True)\n",
    "    test_pred['pred'].fillna(gmr, inplace = True)\n",
    "\n",
    "    train_pred['diff'] = (train_pred.rating - train_pred.pred)**2\n",
    "    err_train.append(np.sqrt(train_pred['diff'].mean()))\n",
    "    test_pred['diff'] = (test_pred.rating - test_pred.pred)**2\n",
    "    err_test.append(np.sqrt(test_pred['diff'].mean()))"
   ]
  },
  {
   "cell_type": "code",
   "execution_count": 34,
   "metadata": {},
   "outputs": [
    {
     "name": "stdout",
     "output_type": "stream",
     "text": [
      "For the movie average rating \n",
      "Mean error on TRAIN: 0.9249538388169952\n",
      "Mean error on  TEST: 0.9265259641995804\n"
     ]
    }
   ],
   "source": [
    "#print the final conclusion:\n",
    "print(\"For the movie average rating \")\n",
    "print(\"Mean error on TRAIN: \" + str(np.mean(err_train)))\n",
    "print(\"Mean error on  TEST: \" + str(np.mean(err_test)))"
   ]
  },
  {
   "cell_type": "markdown",
   "metadata": {},
   "source": [
    "## user movie linear regression rating"
   ]
  },
  {
   "cell_type": "code",
   "execution_count": 39,
   "metadata": {
    "collapsed": true
   },
   "outputs": [],
   "source": [
    "# set up the empty result list\n",
    "err_train=[]\n",
    "err_test=[]\n",
    "\n",
    "for train_index, test_index in kf.split(ratings.userId):\n",
    "    train, test = ratings.iloc[train_index], ratings.iloc[test_index]\n",
    "\n",
    "    ave_user = train.groupby(['userId'])['rating'].mean().to_frame().reset_index()\n",
    "    ave_user.columns = ['userId', 'pred_user'] \n",
    "    \n",
    "    ave_movie = train.groupby(['movieId'])['rating'].mean().to_frame().reset_index()\n",
    "    ave_movie.columns = ['movieId', 'pred_movie'] \n",
    "    \n",
    "   \n",
    "    train_pred = train.merge(ave_user,on=['userId'], how='left')\n",
    "    test_pred = test.merge(ave_user,on=['userId'], how='left')\n",
    "    train_pred = train_pred.merge(ave_movie,on=['movieId'], how='left')\n",
    "    test_pred = test_pred.merge(ave_movie,on=['movieId'], how='left')\n",
    "    \n",
    "    ## linear regression\n",
    "    reg = linear_model.LinearRegression()\n",
    "    \n",
    "    mask = ~np.isnan(train_pred['pred_user']) & ~np.isnan(train_pred['pred_movie']) & ~np.isnan(train_pred['rating'])\n",
    "    reg.fit (train_pred[['pred_user','pred_movie']][mask],train_pred['rating'][mask])\n",
    "\n",
    "    a1, a2 = reg.coef_\n",
    "    a0 = reg.intercept_\n",
    "    \n",
    "    train_pred['pred']=train_pred['pred_user']*a1+train_pred['pred_movie']*a2+a0\n",
    "    test_pred['pred']=test_pred['pred_user']*a1+test_pred['pred_movie']*a2+a0\n",
    "    \n",
    "    #rounding values bigger than 5 to 5 and smaller than 1 to 1 \n",
    "    train_pred['pred'][train_pred['pred']<1]=1\n",
    "    test_pred['pred'][test_pred['pred']<1]=1\n",
    "    train_pred['pred'][train_pred['pred']>5]=5\n",
    "    test_pred['pred'][test_pred['pred']>5]=5\n",
    "\n",
    "    gmr = train.rating.mean()\n",
    "    train_pred['pred'].fillna(gmr, inplace = True)\n",
    "    test_pred['pred'].fillna(gmr, inplace = True)\n",
    "\n",
    "    train_pred['diff'] = (train_pred.rating - train_pred.pred)**2\n",
    "    err_train.append(np.sqrt(train_pred['diff'].mean()))\n",
    "    test_pred['diff'] = (test_pred.rating - test_pred.pred)**2\n",
    "    err_test.append(np.sqrt(test_pred['diff'].mean()))"
   ]
  },
  {
   "cell_type": "code",
   "execution_count": 40,
   "metadata": {},
   "outputs": [
    {
     "name": "stdout",
     "output_type": "stream",
     "text": [
      "For the user movie linear regression rating \n",
      "Mean error on TRAIN: 0.8511163694734373\n",
      "Mean error on  TEST: 0.8592044774314213\n"
     ]
    }
   ],
   "source": [
    "#print the final conclusion:\n",
    "print(\"For the user movie linear regression rating \")\n",
    "print(\"Mean error on TRAIN: \" + str(np.mean(err_train)))\n",
    "print(\"Mean error on  TEST: \" + str(np.mean(err_test)))"
   ]
  },
  {
   "cell_type": "markdown",
   "metadata": {},
   "source": [
    "## Matrix factorization with Gradient Descent and Regularization\n",
    "This was described in the paper gravity-Tikk.pdf (the beginning of section 3.1).\n",
    "Additionally, it might be interesting (although not required!) to read an overview article on matrix factorization algorithms, ieeecomputer.pdf and a detailed presentation of a distributed version of the ALS algorithm ALS.pdf."
   ]
  },
  {
   "cell_type": "code",
   "execution_count": 358,
   "metadata": {},
   "outputs": [],
   "source": [
    "r_mat = ratings.pivot(index='userId', columns = 'movieId', values = 'rating')"
   ]
  },
  {
   "cell_type": "code",
   "execution_count": 359,
   "metadata": {
    "collapsed": true
   },
   "outputs": [],
   "source": [
    "#mask = ~np.isnan(r_mat)\n",
    "#r_mat = r_mat.fillna(0)"
   ]
  },
  {
   "cell_type": "code",
   "execution_count": 360,
   "metadata": {},
   "outputs": [],
   "source": [
    "num_users, num_movies= r_mat.shape\n",
    "num_features = 10\n",
    "lrate = 0.001\n",
    "lamb = 0.01\n",
    "nbr_iter = 4\n",
    "'''\n",
    "Normalize Ratings\n",
    "[Ynorm, Ymean] = normalizeRatings(Y, R);\n",
    "'''\n",
    "# Set Initial Parameters (User, Movie)\n",
    "User = np.random.rand(num_users, num_features) # user features\n",
    "Movie = np.random.rand(num_movies, num_features) # movie features"
   ]
  },
  {
   "cell_type": "code",
   "execution_count": 361,
   "metadata": {
    "collapsed": true
   },
   "outputs": [],
   "source": [
    "def gradient(User, Movie, r_mat):\n",
    "    pred = np.matmul(User, Movie.transpose())\n",
    "    err = r_mat - pred\n",
    "    #err = \n",
    "\n",
    "    User = User + lrate*(np.matmul(err.fillna(0),Movie) - lamb*User) \n",
    "    Movie = Movie + lrate*(np.matmul(err.fillna(0).transpose(),User) - lamb*Movie) \n",
    "    return User, Movie"
   ]
  },
  {
   "cell_type": "code",
   "execution_count": 362,
   "metadata": {},
   "outputs": [],
   "source": [
    "for iter_ in range(nbr_iter):\n",
    "    User, Movie = gradient(User, Movie, r_mat)"
   ]
  },
  {
   "cell_type": "code",
   "execution_count": 363,
   "metadata": {},
   "outputs": [
    {
     "data": {
      "text/plain": [
       "array([[-1.11513182e+08, -9.48746186e+07, -8.69378610e+07, ...,\n",
       "        -2.02640645e+02, -1.84405461e+02, -1.82416733e+02],\n",
       "       [-9.36381317e+06, -7.96666594e+06, -7.30021168e+06, ...,\n",
       "        -1.71020025e+01, -1.55782313e+01, -1.55333119e+01],\n",
       "       [-5.73245152e+06, -4.87713021e+06, -4.46913415e+06, ...,\n",
       "        -1.04417570e+01, -9.46700190e+00, -9.38846021e+00],\n",
       "       ...,\n",
       "       [-5.32022870e+08, -4.52641259e+08, -4.14775455e+08, ...,\n",
       "        -9.68290661e+02, -8.79424114e+02, -8.68426746e+02],\n",
       "       [-1.21598084e+07, -1.03454778e+07, -9.48002675e+06, ...,\n",
       "        -2.23673826e+01, -2.04516003e+01, -1.95982998e+01],\n",
       "       [-2.58066704e+09, -2.19561308e+09, -2.01193857e+09, ...,\n",
       "        -4.69538052e+03, -4.26680113e+03, -4.21215516e+03]])"
      ]
     },
     "execution_count": 363,
     "metadata": {},
     "output_type": "execute_result"
    }
   ],
   "source": [
    "# show prediction\n",
    "np.matmul(User, Movie.transpose())"
   ]
  },
  {
   "cell_type": "code",
   "execution_count": null,
   "metadata": {
    "collapsed": true
   },
   "outputs": [],
   "source": []
  }
 ],
 "metadata": {
  "kernelspec": {
   "display_name": "Python [conda env:anaconda]",
   "language": "python",
   "name": "conda-env-anaconda-py"
  },
  "language_info": {
   "codemirror_mode": {
    "name": "ipython",
    "version": 3
   },
   "file_extension": ".py",
   "mimetype": "text/x-python",
   "name": "python",
   "nbconvert_exporter": "python",
   "pygments_lexer": "ipython3",
   "version": "3.5.3"
  }
 },
 "nbformat": 4,
 "nbformat_minor": 2
}
