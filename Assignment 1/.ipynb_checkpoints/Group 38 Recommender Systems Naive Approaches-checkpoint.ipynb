{
 "cells": [
  {
   "cell_type": "markdown",
   "metadata": {},
   "source": [
    "# Recommender Systems Naive Approaches\n",
    "## Introduction\n",
    "In this task, we will be working on the MovieLens 1M dataset which can be fetched from moivelens. This set contains about 1.000.000 ratings given to about 4.000 movies by about 6.000 users. Our task adopted Naive Approaches in Python and estimated their accuracy withthe Mean Absolute Error, MAE.\n",
    "\n",
    "To make sure that the results are reliable, 5-fold cross- validation is used."
   ]
  },
  {
   "cell_type": "code",
   "execution_count": 80,
   "metadata": {
    "collapsed": true
   },
   "outputs": [],
   "source": [
    "# Import the packages\n",
    "import numpy as np\n",
    "import pandas as pd\n",
    "import sklearn\n",
    "import os\n",
    "from sklearn.model_selection import KFold\n",
    "from sklearn import linear_model\n",
    "import warnings\n",
    "warnings.filterwarnings('ignore') #ignore the warnings\n",
    "\n",
    "# Read the Ratings File\n",
    "file_path = '../data'\n",
    "RATING_FILE = 'ratings.csv'\n",
    "data = np.loadtxt(fo )\n",
    "ratings_raw = pd.read_csv(os.path.join(DATA_DIR, RATING_FILE),sep=',')"
   ]
  },
  {
   "cell_type": "code",
   "execution_count": 81,
   "metadata": {},
   "outputs": [
    {
     "data": {
      "text/html": [
       "<div>\n",
       "<style>\n",
       "    .dataframe thead tr:only-child th {\n",
       "        text-align: right;\n",
       "    }\n",
       "\n",
       "    .dataframe thead th {\n",
       "        text-align: left;\n",
       "    }\n",
       "\n",
       "    .dataframe tbody tr th {\n",
       "        vertical-align: top;\n",
       "    }\n",
       "</style>\n",
       "<table border=\"1\" class=\"dataframe\">\n",
       "  <thead>\n",
       "    <tr style=\"text-align: right;\">\n",
       "      <th></th>\n",
       "      <th>userId</th>\n",
       "      <th>movieId</th>\n",
       "      <th>rating</th>\n",
       "      <th>timestamp</th>\n",
       "    </tr>\n",
       "  </thead>\n",
       "  <tbody>\n",
       "    <tr>\n",
       "      <th>0</th>\n",
       "      <td>1</td>\n",
       "      <td>1</td>\n",
       "      <td>4.0</td>\n",
       "      <td>964982703</td>\n",
       "    </tr>\n",
       "    <tr>\n",
       "      <th>1</th>\n",
       "      <td>1</td>\n",
       "      <td>3</td>\n",
       "      <td>4.0</td>\n",
       "      <td>964981247</td>\n",
       "    </tr>\n",
       "    <tr>\n",
       "      <th>2</th>\n",
       "      <td>1</td>\n",
       "      <td>6</td>\n",
       "      <td>4.0</td>\n",
       "      <td>964982224</td>\n",
       "    </tr>\n",
       "    <tr>\n",
       "      <th>3</th>\n",
       "      <td>1</td>\n",
       "      <td>47</td>\n",
       "      <td>5.0</td>\n",
       "      <td>964983815</td>\n",
       "    </tr>\n",
       "    <tr>\n",
       "      <th>4</th>\n",
       "      <td>1</td>\n",
       "      <td>50</td>\n",
       "      <td>5.0</td>\n",
       "      <td>964982931</td>\n",
       "    </tr>\n",
       "  </tbody>\n",
       "</table>\n",
       "</div>"
      ],
      "text/plain": [
       "   userId  movieId  rating  timestamp\n",
       "0       1        1     4.0  964982703\n",
       "1       1        3     4.0  964981247\n",
       "2       1        6     4.0  964982224\n",
       "3       1       47     5.0  964983815\n",
       "4       1       50     5.0  964982931"
      ]
     },
     "execution_count": 81,
     "metadata": {},
     "output_type": "execute_result"
    }
   ],
   "source": [
    "ratings = ratings_raw.copy()\n",
    "ratings.head()"
   ]
  },
  {
   "cell_type": "code",
   "execution_count": 82,
   "metadata": {},
   "outputs": [
    {
     "name": "stdout",
     "output_type": "stream",
     "text": [
      "The max rating is: 5.0 . And the min rating is: 0.5\n"
     ]
    }
   ],
   "source": [
    "# Data Wrangling\n",
    "print (\"The max rating is:\",ratings.rating.max(),\". And the min rating is:\",ratings.rating.min())"
   ]
  },
  {
   "cell_type": "code",
   "execution_count": 83,
   "metadata": {},
   "outputs": [
    {
     "data": {
      "text/plain": [
       "userId       0\n",
       "movieId      0\n",
       "rating       0\n",
       "timestamp    0\n",
       "dtype: int64"
      ]
     },
     "execution_count": 83,
     "metadata": {},
     "output_type": "execute_result"
    }
   ],
   "source": [
    "# Set the lower bound to 1 instead of 0.5\n",
    "ratings.rating[ratings.rating<1]=1\n",
    "\n",
    "# Check is there is NaN values\n",
    "ratings.isnull().sum()"
   ]
  },
  {
   "cell_type": "markdown",
   "metadata": {},
   "source": [
    "There is no NaN values in user_id and movie_id columns\n",
    "\n",
    "## Naive Approaches\n",
    "\n",
    "The “average rating” recommender requires no further explanation. We will deploy four naive approaches:\n",
    "- the global average rating\n",
    "- the average rating per item\n",
    "- the average rating per user\n",
    "- an “optimal” linear combination of the 3 averages\n",
    "\n",
    "\n",
    "### 1. The global average rating"
   ]
  },
  {
   "cell_type": "code",
   "execution_count": 84,
   "metadata": {
    "collapsed": true
   },
   "outputs": [],
   "source": [
    "# set up the empty result list\n",
    "err_train1=[]\n",
    "err_test1=[]\n",
    "\n",
    "# set up the cross validation with 5 folds\n",
    "nfolds=5\n",
    "kf = KFold(n_splits=nfolds, random_state = 0, shuffle = True)\n",
    "for train_index, test_index in kf.split(ratings.userId):\n",
    "    train, test = ratings.iloc[train_index], ratings.iloc[test_index]\n",
    "    # calcuate the global meaning value\n",
    "    gmr = train.rating.mean()\n",
    "    # calcuate the MSE\n",
    "    train['diff'] = (train.rating - gmr)**2\n",
    "    err_train1.append(np.sqrt(train['diff'].mean()))\n",
    "    test['diff'] = (test.rating - gmr)**2\n",
    "    err_test1.append(np.sqrt(test['diff'].mean()))"
   ]
  },
  {
   "cell_type": "code",
   "execution_count": 85,
   "metadata": {},
   "outputs": [
    {
     "name": "stdout",
     "output_type": "stream",
     "text": [
      "For the global average rating \n",
      "MSE ON TRAIN: 1.0244140710185898\n",
      "MSE on  TEST: 1.0244173138607935\n"
     ]
    }
   ],
   "source": [
    "#print the final conclusion:\n",
    "print(\"For the global average rating \")\n",
    "print(\"MSE ON TRAIN: \" + str(np.mean(err_train1)))\n",
    "print(\"MSE on  TEST: \" + str(np.mean(err_test1)))"
   ]
  },
  {
   "cell_type": "markdown",
   "metadata": {},
   "source": [
    "### 2. The average user rating\n",
    "When building models for “average user rating” or “average movie rating”, we must take into account that during the sampling process some users or some movies might disappear from the training sets – all their ratings will enter the test set. To handle such cases, we use the “global average rating” as a fall-back value."
   ]
  },
  {
   "cell_type": "code",
   "execution_count": 86,
   "metadata": {
    "collapsed": true
   },
   "outputs": [],
   "source": [
    "# set up the empty result list\n",
    "err_train2=[]\n",
    "err_test2=[]\n",
    "\n",
    "# set up the cross validation with 5 folds\n",
    "for train_index, test_index in kf.split(ratings.userId):\n",
    "    train, test = ratings.iloc[train_index], ratings.iloc[test_index]\n",
    "    # calcuate the average rating per user using groupby function\n",
    "    ave_user = train.groupby(['userId'])['rating'].mean().to_frame().reset_index()\n",
    "    ave_user.columns = ['userId', 'pred'] \n",
    "    \n",
    "    # assign the average user rating as the prediction\n",
    "    train_pred = train.merge(ave_user,on=['userId'], how='left')\n",
    "    test_pred = test.merge(ave_user,on=['userId'], how='left')\n",
    "    \n",
    "    # use the “global average rating” as a fall-back value.\n",
    "    gmr = train.rating.mean()\n",
    "    test_pred['pred'].fillna(gmr, inplace = True)\n",
    "\n",
    "    # calcuate the MSE\n",
    "    train_pred['diff'] = (train_pred.rating - train_pred.pred)**2\n",
    "    err_train2.append(np.sqrt(train_pred['diff'].mean()))\n",
    "    test_pred['diff'] = (test_pred.rating - test_pred.pred)**2\n",
    "    err_test2.append(np.sqrt(test_pred['diff'].mean()))"
   ]
  },
  {
   "cell_type": "code",
   "execution_count": 87,
   "metadata": {},
   "outputs": [
    {
     "name": "stdout",
     "output_type": "stream",
     "text": [
      "For the user average rating \n",
      "Mean MSE on TRAIN: 0.9170435071734993\n",
      "Mean MSE on  TEST: 0.9243405869451401\n"
     ]
    }
   ],
   "source": [
    "#print the final conclusion:\n",
    "print(\"For the user average rating \")\n",
    "print(\"Mean MSE on TRAIN: \" + str(np.mean(err_train2)))\n",
    "print(\"Mean MSE on  TEST: \" + str(np.mean(err_test2)))"
   ]
  },
  {
   "cell_type": "markdown",
   "metadata": {},
   "source": [
    "### 3. The average movie rating"
   ]
  },
  {
   "cell_type": "code",
   "execution_count": 88,
   "metadata": {
    "collapsed": true
   },
   "outputs": [],
   "source": [
    "# set up the empty result list\n",
    "err_train3=[]\n",
    "err_test3=[]\n",
    "\n",
    "for train_index, test_index in kf.split(ratings.movieId):\n",
    "    train, test = ratings.iloc[train_index], ratings.iloc[test_index]\n",
    "    # calcuate the average rating per movie using groupby function\n",
    "    ave_movie = train.groupby(['movieId'])['rating'].mean().to_frame().reset_index()\n",
    "    ave_movie.columns = ['movieId', 'pred'] \n",
    "    \n",
    "    # assign the average movie rating as the prediction\n",
    "    train_pred = train.merge(ave_movie,on=['movieId'], how='left')\n",
    "    test_pred = test.merge(ave_movie,on=['movieId'], how='left')\n",
    "    \n",
    "    # use the “global average rating” as a fall-back value\n",
    "    gmr = train.rating.mean()\n",
    "    test_pred['pred'].fillna(gmr, inplace = True)\n",
    "\n",
    "    # calcuate the MSE\n",
    "    train_pred['diff'] = (train_pred.rating - train_pred.pred)**2\n",
    "    err_train3.append(np.sqrt(train_pred['diff'].mean()))\n",
    "    test_pred['diff'] = (test_pred.rating - test_pred.pred)**2\n",
    "    err_test3.append(np.sqrt(test_pred['diff'].mean()))"
   ]
  },
  {
   "cell_type": "code",
   "execution_count": 89,
   "metadata": {},
   "outputs": [
    {
     "name": "stdout",
     "output_type": "stream",
     "text": [
      "For the movie average rating: \n",
      "Mean MSE on TRAIN: 0.8532443161602952\n",
      "Mean MSE on  TEST: 0.9572987289292613\n"
     ]
    }
   ],
   "source": [
    "#print the final conclusion:\n",
    "print(\"For the movie average rating: \")\n",
    "print(\"Mean MSE on TRAIN: \" + str(np.mean(err_train3)))\n",
    "print(\"Mean MSE on  TEST: \" + str(np.mean(err_test3)))"
   ]
  },
  {
   "cell_type": "markdown",
   "metadata": {},
   "source": [
    "### 4. The user movie linear regression rating\n",
    "We will use a linear regression model to predict the ratings. Then we will improve predictions by rounding values bigger than 5 to 5 and smaller than 1 to 1 (valid ratings are always between 1 and 5)."
   ]
  },
  {
   "cell_type": "code",
   "execution_count": 90,
   "metadata": {
    "collapsed": true
   },
   "outputs": [],
   "source": [
    "# set up the empty result list\n",
    "err_train4=[]\n",
    "err_test4=[]\n",
    "\n",
    "for train_index, test_index in kf.split(ratings.userId):\n",
    "    train, test = ratings.iloc[train_index], ratings.iloc[test_index]\n",
    "\n",
    "    # calcuate the average user rating\n",
    "    ave_user = train.groupby(['userId'])['rating'].mean().to_frame().reset_index()\n",
    "    ave_user.columns = ['userId', 'pred_user'] \n",
    "    # calcuate the average movie rating\n",
    "    ave_movie = train.groupby(['movieId'])['rating'].mean().to_frame().reset_index()\n",
    "    ave_movie.columns = ['movieId', 'pred_movie'] \n",
    "    \n",
    "    # assign the average values based on user and movie IDs\n",
    "    train_pred = train.merge(ave_user,on=['userId'], how='left')\n",
    "    test_pred = test.merge(ave_user,on=['userId'], how='left')\n",
    "    train_pred = train_pred.merge(ave_movie,on=['movieId'], how='left')\n",
    "    test_pred = test_pred.merge(ave_movie,on=['movieId'], how='left')\n",
    "    \n",
    "    # set up the linear regression model\n",
    "    reg = linear_model.LinearRegression()\n",
    "    '''\n",
    "    set up a mask to hide NaN values # Not necessary in this case \n",
    "    mask = ~np.isnan(train_pred['pred_user']) & ~np.isnan(train_pred['pred_movie']) & ~np.isnan(train_pred['rating'])\n",
    "    reg.fit(train_pred[['pred_user','pred_movie']][mask],train_pred['rating'][mask])\n",
    "    ''' \n",
    "    reg.fit(train_pred[['pred_user','pred_movie']],train_pred['rating'])\n",
    " \n",
    "    # get model parameters for prediction\n",
    "    a1, a2 = reg.coef_\n",
    "    a0 = reg.intercept_\n",
    "    \n",
    "    # make predictions\n",
    "    train_pred['pred']=train_pred['pred_user']*a1+train_pred['pred_movie']*a2+a0\n",
    "    test_pred['pred']=test_pred['pred_user']*a1+test_pred['pred_movie']*a2+a0\n",
    "    \n",
    "    #rounding values bigger than 5 to 5 and smaller than 1 to 1 \n",
    "    train_pred['pred'][train_pred['pred']<1]=1\n",
    "    test_pred['pred'][test_pred['pred']<1]=1\n",
    "    train_pred['pred'][train_pred['pred']>5]=5\n",
    "    test_pred['pred'][test_pred['pred']>5]=5\n",
    "    \n",
    "    # use the “global average rating” as a fall-back value\n",
    "    gmr = train.rating.mean()\n",
    "    test_pred['pred'].fillna(gmr, inplace = True)\n",
    "\n",
    "    # calcuate the MSE\n",
    "    train_pred['diff'] = (train_pred.rating - train_pred.pred)**2\n",
    "    err_train4.append(np.sqrt(train_pred['diff'].mean()))\n",
    "    test_pred['diff'] = (test_pred.rating - test_pred.pred)**2\n",
    "    err_test4.append(np.sqrt(test_pred['diff'].mean()))"
   ]
  },
  {
   "cell_type": "code",
   "execution_count": 91,
   "metadata": {},
   "outputs": [
    {
     "name": "stdout",
     "output_type": "stream",
     "text": [
      "For the user movie linear regression rating: \n",
      "Mean MSE on TRAIN: 0.7867146084287131\n",
      "Mean MSE on  TEST: 0.8795261369743201\n"
     ]
    }
   ],
   "source": [
    "#print the final conclusion:\n",
    "print(\"For the user movie linear regression rating: \")\n",
    "print(\"Mean MSE on TRAIN: \" + str(np.mean(err_train4)))\n",
    "print(\"Mean MSE on  TEST: \" + str(np.mean(err_test4)))"
   ]
  },
  {
   "cell_type": "code",
   "execution_count": 92,
   "metadata": {},
   "outputs": [
    {
     "name": "stdout",
     "output_type": "stream",
     "text": [
      "Training Error And Test Error:\n",
      "Train1    1.024414\n",
      "Train2    0.917044\n",
      "Train3    0.853244\n",
      "Train4    0.786715\n",
      "dtype: float64 \n",
      "\n",
      " Test1    1.024417\n",
      "Test2    0.924341\n",
      "Test3    0.957299\n",
      "Test4    0.879526\n",
      "dtype: float64\n"
     ]
    }
   ],
   "source": [
    "## Conclusion\n",
    "err_train = pd.DataFrame({'Train1':err_train1, 'Train2':err_train2,'Train3':err_train3, 'Train4':err_train4})\n",
    "err_test = pd.DataFrame({'Test1':err_test1, 'Test2':err_test2,'Test3':err_test3, 'Test4':err_test4})\n",
    "\n",
    "print(\"Training Error And Test Error:\")\n",
    "print(err_train.mean(),'\\n\\n',err_test.mean())"
   ]
  },
  {
   "cell_type": "markdown",
   "metadata": {},
   "source": [
    "### Conclusion\n",
    "**Based on the MSE, we can see the linear model works best among the four approaches. Not suprisingly, the user or moive based method is better than just using the global average.**\n",
    "\n",
    "The Matrix Factorization method will be discussed in the other python notebook."
   ]
  }
 ],
 "metadata": {
  "kernelspec": {
   "display_name": "Python [conda env:anaconda]",
   "language": "python",
   "name": "conda-env-anaconda-py"
  },
  "language_info": {
   "codemirror_mode": {
    "name": "ipython",
    "version": 3
   },
   "file_extension": ".py",
   "mimetype": "text/x-python",
   "name": "python",
   "nbconvert_exporter": "python",
   "pygments_lexer": "ipython3",
   "version": "3.5.3"
  }
 },
 "nbformat": 4,
 "nbformat_minor": 2
}
