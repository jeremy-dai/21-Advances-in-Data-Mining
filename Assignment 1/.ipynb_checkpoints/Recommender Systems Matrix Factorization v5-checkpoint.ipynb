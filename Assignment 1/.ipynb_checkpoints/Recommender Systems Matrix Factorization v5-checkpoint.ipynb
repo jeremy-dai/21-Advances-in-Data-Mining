{
 "cells": [
  {
   "cell_type": "markdown",
   "metadata": {},
   "source": [
    "# Recommender Systems  Matrix Factorization \n",
    "# Introduction\n",
    "In this task, we implemented a Recommender Model based on **Matrix Factorization** algorithm. This model is used to recommend movies to users based on historical ratings data. In next sections we will discuss the dataset we used, approaches of Data Exploration, Data Preprocessing, Implementation and Optimization of the Model, and Experiments and Results.  "
   ]
  },
  {
   "cell_type": "code",
   "execution_count": 2,
   "metadata": {
    "collapsed": true
   },
   "outputs": [],
   "source": [
    "import numpy as np\n",
    "import pandas as pd\n",
    "import math\n",
    "import random\n",
    "import sys\n",
    "from sklearn.model_selection import KFold\n",
    "\n",
    "from math import sqrt\n",
    "\n",
    "#Import libs to plot the training process\n",
    "import matplotlib\n",
    "import matplotlib.pyplot as plt"
   ]
  },
  {
   "cell_type": "markdown",
   "metadata": {},
   "source": [
    "# Data\n",
    "The data set we used in this experiment is the MovieLens 1M dataset. There are 5 files in the dataset and we only use the file ratings.csv. The file ratings.csv contains 100836 ratings created by 610 users about 9742 movies; each line of this file below the header represents one rating of one movie(represented by movieId) by one user(represented by userId) and its timestamp. To make things easier, we only use the 3 columns: userId, movieId and rating. The following figure shows how the data looks like: "
   ]
  },
  {
   "cell_type": "markdown",
   "metadata": {},
   "source": [
    "![Original Dataset](./figures/figure1.png)\n",
    "\n",
    "<center>figure 1: Some Lines of Ratings.csv</center>"
   ]
  },
  {
   "cell_type": "markdown",
   "metadata": {},
   "source": [
    "# Approaches\n",
    "Approaches  to implement recommender system in this assignment are listed below."
   ]
  },
  {
   "cell_type": "markdown",
   "metadata": {},
   "source": [
    "## Data Exploration\n",
    "The purpose of Initial Data Analysis is to understand what is in a dataset and the characteristics of the data. We calculated the mean value and plotted the distribution of ratings."
   ]
  },
  {
   "cell_type": "code",
   "execution_count": 3,
   "metadata": {},
   "outputs": [
    {
     "data": {
      "text/html": [
       "<div>\n",
       "<style scoped>\n",
       "    .dataframe tbody tr th:only-of-type {\n",
       "        vertical-align: middle;\n",
       "    }\n",
       "\n",
       "    .dataframe tbody tr th {\n",
       "        vertical-align: top;\n",
       "    }\n",
       "\n",
       "    .dataframe thead th {\n",
       "        text-align: right;\n",
       "    }\n",
       "</style>\n",
       "<table border=\"1\" class=\"dataframe\">\n",
       "  <thead>\n",
       "    <tr style=\"text-align: right;\">\n",
       "      <th></th>\n",
       "      <th>userId</th>\n",
       "      <th>movieId</th>\n",
       "      <th>rating</th>\n",
       "    </tr>\n",
       "  </thead>\n",
       "  <tbody>\n",
       "    <tr>\n",
       "      <th>0</th>\n",
       "      <td>1</td>\n",
       "      <td>1</td>\n",
       "      <td>4.0</td>\n",
       "    </tr>\n",
       "    <tr>\n",
       "      <th>1</th>\n",
       "      <td>1</td>\n",
       "      <td>3</td>\n",
       "      <td>4.0</td>\n",
       "    </tr>\n",
       "    <tr>\n",
       "      <th>2</th>\n",
       "      <td>1</td>\n",
       "      <td>6</td>\n",
       "      <td>4.0</td>\n",
       "    </tr>\n",
       "    <tr>\n",
       "      <th>3</th>\n",
       "      <td>1</td>\n",
       "      <td>47</td>\n",
       "      <td>5.0</td>\n",
       "    </tr>\n",
       "    <tr>\n",
       "      <th>4</th>\n",
       "      <td>1</td>\n",
       "      <td>50</td>\n",
       "      <td>5.0</td>\n",
       "    </tr>\n",
       "  </tbody>\n",
       "</table>\n",
       "</div>"
      ],
      "text/plain": [
       "   userId  movieId  rating\n",
       "0       1        1     4.0\n",
       "1       1        3     4.0\n",
       "2       1        6     4.0\n",
       "3       1       47     5.0\n",
       "4       1       50     5.0"
      ]
     },
     "execution_count": 3,
     "metadata": {},
     "output_type": "execute_result"
    }
   ],
   "source": [
    "#Reading The Data into DataFrame\n",
    "#Define the file path\n",
    "file_path = './ml-latest-small//ratings.csv'#\"./ml-latest-small/ratings.csv\" \n",
    "df_ratings = pd.read_csv(file_path, header=0, names=['userId', 'movieId', 'rating'], index_col=False)\n",
    "\n",
    "df_ratings.head(5) #Top 5 records in the dataset "
   ]
  },
  {
   "cell_type": "code",
   "execution_count": 4,
   "metadata": {},
   "outputs": [
    {
     "data": {
      "text/plain": [
       "3.501556983616962"
      ]
     },
     "execution_count": 4,
     "metadata": {},
     "output_type": "execute_result"
    }
   ],
   "source": [
    "#The average rating in the dataset\n",
    "df_ratings.rating.mean()"
   ]
  },
  {
   "cell_type": "markdown",
   "metadata": {},
   "source": [
    "The mean of the ratings is about 3.5"
   ]
  },
  {
   "cell_type": "markdown",
   "metadata": {},
   "source": [
    "The following figure shows the distribution of the ratings."
   ]
  },
  {
   "cell_type": "code",
   "execution_count": 14,
   "metadata": {},
   "outputs": [
    {
     "name": "stderr",
     "output_type": "stream",
     "text": [
      "/Users/zzfang/anaconda3/lib/python3.6/site-packages/matplotlib/axes/_axes.py:6462: UserWarning: The 'normed' kwarg is deprecated, and has been replaced by the 'density' kwarg.\n",
      "  warnings.warn(\"The 'normed' kwarg is deprecated, and has been \"\n"
     ]
    },
    {
     "data": {
      "image/png": "[encoded data removed]",
      "text/plain": [
       "<Figure size 432x288 with 1 Axes>"
      ]
     },
     "metadata": {},
     "output_type": "display_data"
    }
   ],
   "source": [
    "#Show distribution of ratings\n",
    "\n",
    "data = df_ratings.rating.tolist()\n",
    "\n",
    "plt.title(\"Distribution of Ratings\")\n",
    "plt.hist(data, bins=10, normed=0, facecolor=\"blue\", edgecolor='black', alpha=0.7)\n",
    "plt.xlabel(\"rating\")\n",
    "plt.ylabel(\"frequency\")\n",
    "\n",
    "plt.show()"
   ]
  },
  {
   "cell_type": "markdown",
   "metadata": {},
   "source": [
    "<center>figure 2: Distribution of The Ratings<\\center>"
   ]
  },
  {
   "cell_type": "code",
   "execution_count": 6,
   "metadata": {},
   "outputs": [
    {
     "name": "stdout",
     "output_type": "stream",
     "text": [
      "Range of userId:  [ 1 , 610 ]\n",
      "Number of userId:  610\n",
      "Range of movieId:  [ 1 , 193609 ]\n",
      "Number of userId:  9724\n"
     ]
    }
   ],
   "source": [
    "#Show huge gap of the numbering \n",
    "\n",
    "print(\"Range of userId: \", \"[\",df_ratings.userId.min(), \",\",df_ratings.userId.max(), \"]\")\n",
    "print(\"Number of userId: \", len(df_ratings.userId.unique()))\n",
    "\n",
    "print(\"Range of movieId: \", \"[\", df_ratings.movieId.min(), \",\", df_ratings.movieId.max(), \"]\")\n",
    "print(\"Number of userId: \", len(df_ratings.movieId.unique()))"
   ]
  },
  {
   "cell_type": "markdown",
   "metadata": {},
   "source": [
    "There are are 9724 movies but the movieIds range from 1 to 193609, so there is a huge gap in the numbering of movieIds, which costs huge storage waste and high sparsity in rating matrix."
   ]
  },
  {
   "cell_type": "markdown",
   "metadata": {},
   "source": [
    "## Data Preprocessing\n",
    "The purpose of data preprocessing is to fix the huge gap of the numbering of the original movieId. To reduce the large gap of the numbering, we put the unique movieIds and userIds in lists and use the indices of the lists of new Ids of movies and users. After renumberring the Ids, a rating matrix will be constructed according to the new Ids."
   ]
  },
  {
   "cell_type": "code",
   "execution_count": 7,
   "metadata": {
    "collapsed": true
   },
   "outputs": [],
   "source": [
    "# Renumbering user and movie IDs\n",
    "uniqueMovieIds = df_ratings.movieId.unique() #Obtain the unique movie Ids\n",
    "uniqueUserIds = df_ratings.userId.unique() #Obtain the unique user Ids\n",
    "\n",
    "#Create New movieIds according to unique movie Ids\n",
    "newMovieIds = [np.where(uniqueMovieIds==x)[0][0] for x in df_ratings['movieId'].tolist()]\n",
    "newMovieIds = np.array(newMovieIds)\n",
    "\n",
    "#Create New userIds according to unique user Ids\n",
    "newUserIds = [np.where(uniqueUserIds==x)[0][0] for x in df_ratings['userId'].tolist()]\n",
    "newUserIds = np.array(newUserIds)"
   ]
  },
  {
   "cell_type": "code",
   "execution_count": 8,
   "metadata": {
    "collapsed": true
   },
   "outputs": [],
   "source": [
    "#Add new movieIds and new userIds to the dataframe\n",
    "df_ratings['newMovieId'] = newMovieIds\n",
    "df_ratings['newUserId'] = newUserIds\n",
    "\n",
    "#Reconstruct the dataframe\n",
    "df_ratings = df_ratings[[\"newUserId\",\"newMovieId\",\"rating\"]]"
   ]
  },
  {
   "cell_type": "code",
   "execution_count": 9,
   "metadata": {},
   "outputs": [
    {
     "name": "stdout",
     "output_type": "stream",
     "text": [
      "(610, 9724)\n"
     ]
    }
   ],
   "source": [
    "#Construct The Rating Matrix acorting to the new ids\n",
    "num_users = df_ratings['newUserId'].max()+1  #There are 610 users\n",
    "num_movies = df_ratings['newMovieId'].max()+1 #The Max Value of movieId\n",
    "\n",
    "ratings = np.zeros((num_users , num_movies))\n",
    "\n",
    "print(ratings.shape) #Show the shape of the rating matrix\n",
    "\n",
    "for i in range(df_ratings.shape[0]):\n",
    "    ratings[df_ratings.loc[i, 'newUserId']][df_ratings.loc[i,'newMovieId']] = df_ratings.loc[i, 'rating']"
   ]
  },
  {
   "cell_type": "code",
   "execution_count": 10,
   "metadata": {},
   "outputs": [
    {
     "name": "stdout",
     "output_type": "stream",
     "text": [
      "The density of rating matrix:  0.016999683055613623\n"
     ]
    }
   ],
   "source": [
    "# Calculate the density of the matrix\n",
    "density = len(np.nonzero(ratings)[0])/(ratings.shape[0]*ratings.shape[1])\n",
    "print(\"The density of rating matrix: \", density)"
   ]
  },
  {
   "cell_type": "markdown",
   "metadata": {},
   "source": [
    "The density of the rating matrix is about 0.017; it is still very sparse because most users only reviewed few movies compared with the large number of movies."
   ]
  },
  {
   "cell_type": "markdown",
   "metadata": {},
   "source": [
    "## Algorithm for Recommandation\n",
    "We used **Matrix Factorization** for the recommender system. Matrix Factorization is a class of collaborative filtering algorithms. The algorithm attemps to decompose the rating matrix $R$ into the product of 2 lower dimensionality matrices U and M,  in which the users and items are represented in a lower dimensional latent space(K-dimensional Vector).  During the training process, the algorithm will try to minimize the loss function, which is presented by following formula:\n",
    "<center>$||R_{m,n}- U_{m,k}\\times M_{n,k}~T||^2+\\lambda (||U_{m, k}||^2 + ||M_{n, k}||^2)$ \n",
    "    \n",
    "In above formula, $||X||^2$ means the sum of squares of items of matrix X:\n",
    "<center>$||X||^2 = \\sum_{x\\in X}x^2$\n",
    "    \n",
    "**Gradient Descent** and **Alternating Least Square(ALS)** is used to minimize the loss function.\n",
    "\n",
    "After training the parametres of the K-dimensional vectors of users and movies, the rating of movie m given by user u will be the dot product of the user and movie vectors.\n",
    "\n",
    "<center>$r_{u,m} = u\\cdot m$"
   ]
  },
  {
   "cell_type": "markdown",
   "metadata": {},
   "source": [
    "## Methods for Processing Missing Ids\n",
    "During the test of a model, there might be some userIds and movieIds which are present in test set but not present in the training set. Because the parametres of the vectors of these users or movies are not trained before, it is unreliable to use the dot product of their vectors to calculate the ratings.\n",
    "\n",
    "We considered to check which Ids are missing in the training set after splitting the dataset into training set and test set and add some samples from test set to the training set. It seems that this method worked well but it can cause **Data Leakage**[5]; i.e. **Information from outside the training set is used to create the model, which can cause one to create overly optimistic if not completely invalid predictive models.**\n",
    "\n",
    "Instead, we will use the mean value for smoothing, i.e. we will treat the mean of all ratings in the training set as the rating of movie m by user u if u or m not present in the dataset."
   ]
  },
  {
   "cell_type": "markdown",
   "metadata": {},
   "source": [
    "## Cross Validation and Evaluation \n",
    "**5-fold** cross validation[6] is applied in our experiment to monitor the training process; i.e. We splitted the data into 5 non-overlapping parts and developed 5 same models; each model will choose one part as test set and the remaining 4 as training set. Mean Squared Error(mse) is used to evaluate the models. The final results will be the average mse of the 5 models."
   ]
  },
  {
   "cell_type": "markdown",
   "metadata": {},
   "source": [
    "The code implementing the Matrix Factorization model is listed below"
   ]
  },
  {
   "cell_type": "code",
   "execution_count": 11,
   "metadata": {
    "collapsed": true
   },
   "outputs": [],
   "source": [
    "#MatrixFactorization Model\n",
    "class MatrixFactorization():\n",
    "    def __init__( self, R=ratings, df=df_ratings, K=20, lr=0.001, rp=0.01, itr= 3, nfolds=5, method='GD', draw=False, threshold=0): \n",
    "        #change itr and set thresholds\n",
    "        \"\"\"\n",
    "        Arguments/Hyperparamters\n",
    "        -R: user-movie: rating matrix\n",
    "        -K: number of latent dimensions of user & movie vectors\n",
    "        -lr: learning rate\n",
    "        -rp: regularization parametre\n",
    "        -itr: number of iterations\n",
    "        -df: dataframe of three columns: user, movie and rating\n",
    "        -method: GD or ALS\n",
    "        \"\"\"     \n",
    "        self.R=R\n",
    "        self.df = df\n",
    "        self.num_users, self.num_movies = R.shape\n",
    "        self.K = K\n",
    "        self.lr = lr\n",
    "        self.rp = rp\n",
    "        self.itr = itr\n",
    "        self.nfolds = nfolds\n",
    "        self.method = method\n",
    "        self.draw=draw\n",
    "        self.threshold = threshold\n",
    "              \n",
    "    def train_n_times(self):\n",
    "        # set up the empty result list\n",
    "        err=[]\n",
    "        kf = KFold(n_splits= self.nfolds, shuffle=True)\n",
    "        n_t = 1\n",
    "        for train_index, test_index in kf.split(self.df):\n",
    "            print('Training No.', n_t)\n",
    "            n_t += 1\n",
    "            training_set, test_set = self.df.iloc[train_index], self.df.iloc[test_index]\n",
    "            self.check_matrix = np.zeros(self.R.shape)\n",
    "            training_process = self.train(training_set, test_set)\n",
    "            err.append(training_process )\n",
    "        return (err)\n",
    "            \n",
    "    def gradient_descent(self, training):\n",
    "        #Update the parametres of user&movie matrix in one iteration\n",
    "        for u, m, r in training:\n",
    "                error = self.R[u][m] - self.predict_um(u,m)\n",
    "                self.U[u] += self.lr*(error*self.M[m]-self.rp*self.U[u])\n",
    "                self.M[m] += self.lr*(error*self.U[u] - self.rp*self.M[m])\n",
    "    \n",
    "    def ALS(self, training):\n",
    "        #Update the parametres of user&movie matrix in one iteration\n",
    "        r_mat= np.zeros((self.num_users , self.num_movies))\n",
    "        for u, m, r in training:\n",
    "            r_mat[u][m] = r\n",
    "        self.U[:,0] = np.mean(r_mat, axis = 1)\n",
    "        self.M[:,0] = np.mean(r_mat, axis = 0)\n",
    "        \n",
    "        for u in range(self.num_users):\n",
    "            vec = r_mat[u,:].nonzero()[0]\n",
    "            MI = self.M[vec,:]\n",
    "            n = max(len(vec),1)\n",
    "            A = np.dot(MI.T,MI) + self.rp*n*np.eye(self.K)\n",
    "            V = np.dot(MI.T,r_mat[u,vec])\n",
    "            self.U[u,:] = np.linalg.solve(A,V)\n",
    "\n",
    "        for m in range(self.num_movies):\n",
    "            vec = r_mat[:,m].nonzero()[0]\n",
    "            UI = self.U[vec,:]\n",
    "            n = max(len(vec),1)\n",
    "            A = np.dot(UI.T,UI) + self.rp*n*np.eye(self.K)\n",
    "            V = np.dot(UI.T,r_mat[vec,m])\n",
    "            self.M[m,:] = np.linalg.solve(A,V)\n",
    "\n",
    "    def train(self, training_set, test_set):\n",
    "        #Initialize user & movie matrices \n",
    "        np.random.seed(2019)\n",
    "        self.U = np.random.normal(scale=1./self.K, size=(self.num_users, self.K))\n",
    "        np.random.seed(2019)\n",
    "        self.M = np.random.normal(scale=1./self.K, size=(self.num_movies, self.K))\n",
    "        \n",
    "        #Perform stochastic gradient descent \n",
    "        training_process = []\n",
    "        training = training_set.as_matrix().astype(int)\n",
    "        test = test_set.as_matrix().astype(int)\n",
    "        for i in range(self.itr):\n",
    "            if self.method == 'GD':\n",
    "                self.gradient_descent(training)\n",
    "            elif self.method == 'ALS':\n",
    "                self.ALS(training)\n",
    "            else:\n",
    "                sys.exit(\"Oops! Use GD or ALS as your method\")\n",
    "            mse_training = self.calculate_mse(training)\n",
    "            mse_test = self.calculate_mse(test, mode=\"test\")\n",
    "            training_process.append((i, mse_training, mse_test))\n",
    "        \n",
    "            print(\"Iteration: %d; mse_traing: %.4f; mse_test: %.4f\"%(i+1, mse_training, mse_test))\n",
    "            if mse_training <= self.threshold:\n",
    "                break\n",
    "        if self.draw==True:\n",
    "            self.drawplot(training_process)\n",
    "        return training_process\n",
    "            \n",
    "         \n",
    "    def drawplot(self,training_process):\n",
    "        iterations = [i for i, mse_training, mse_test in training_process]\n",
    "        mse_training = [mse_training for i, mse_training, mse_test in training_process]\n",
    "        mse_test = [mse_test for i, mse_training, mse_test in training_process]\n",
    "        plt.figure(figsize=(16, 4))\n",
    "        plt.title(\"Training Error And Validation Error\")\n",
    "        plt.plot(iterations, mse_training, color='blue', label = 'training error')\n",
    "        plt.plot(iterations, mse_test, color='orange', label='validation error')\n",
    "        plt.xticks(iterations, iterations)\n",
    "        plt.xlabel(\"Iterations\")\n",
    "        plt.ylabel(\"Mean Square Error\")\n",
    "        plt.legend()\n",
    "        plt.grid(axis=\"y\")\n",
    "        plt.show()\n",
    "   \n",
    "    def round_of_rating(self, R):\n",
    "        R[np.where(R<1)]=1\n",
    "        R[np.where(R>5)] = 5     \n",
    "        return R\n",
    "    \n",
    "    \n",
    "    def predictAll(self):\n",
    "        #Predict All the Ratings, return a full rating matrix\n",
    "        predictions = self.U.dot(self.M.T)\n",
    "        return self.round_of_rating(predictions)       \n",
    "    \n",
    "    def predict_um(self, u, m, mode=\"train\"):\n",
    "        #Predict the rating of user u to movie m\n",
    "        \n",
    "        if mode==\"test\":\n",
    "            if np.count_nonzero(self.check_matrix[u])==0 or np.count_nonzero(self.check_matrix.T[m])==0:\n",
    "               #userId or movieId not present in training_set                \n",
    "                   return self.check_matrix.mean()\n",
    "            return self.U[u,:].dot(self.M[m].T)\n",
    "            \n",
    "        \n",
    "        prediction = self.U[u,:].dot(self.M[m].T)\n",
    "        self.check_matrix[u][m]=prediction\n",
    "        return prediction\n",
    "    \n",
    "    def calculate_mse(self, d, mode=\"train\"):\n",
    "        #Calculate mse for Training/Testing set\n",
    "        #train_pred['diff'] = (d.rating - self.predictALL))**2\n",
    "        #err_train.append(np.sqrt(train_pred['diff'].mean()))\n",
    "        num_of_d = len(d)\n",
    "        error = 0\n",
    "        \n",
    "        for i, j, r  in d:\n",
    "            prediction = self.predict_um(i,j, mode)\n",
    "            error += (prediction - self.R[i][j] )**2\n",
    "            \n",
    "        error = error/num_of_d\n",
    "        return error"
   ]
  },
  {
   "cell_type": "markdown",
   "metadata": {},
   "source": [
    "## Usage of The Model\n",
    "A user can run Matrix Factorization algorithm by instantiating an instant of the above Matrix Factorization class. Through passing different parametres to constructor, the user can choose the number of latent factors, learning rate, regularization parametre, number of iterations and the optimizer(**Gradient Descent**(**GD**) or **Alternating Least Square**(**ALS**)). \n",
    "\n",
    "<br>After instantiating the instant, the user can call the train_n_times() method of the object to train the model. The training process will be plotted after each training.\n",
    "Some examples of running the algorithm are listed below:"
   ]
  },
  {
   "cell_type": "code",
   "execution_count": 15,
   "metadata": {},
   "outputs": [
    {
     "name": "stdout",
     "output_type": "stream",
     "text": [
      "Training No. 1\n"
     ]
    },
    {
     "name": "stderr",
     "output_type": "stream",
     "text": [
      "/Users/zzfang/anaconda3/lib/python3.6/site-packages/ipykernel_launcher.py:80: FutureWarning: Method .as_matrix will be removed in a future version. Use .values instead.\n",
      "/Users/zzfang/anaconda3/lib/python3.6/site-packages/ipykernel_launcher.py:81: FutureWarning: Method .as_matrix will be removed in a future version. Use .values instead.\n"
     ]
    },
    {
     "name": "stdout",
     "output_type": "stream",
     "text": [
      "Iteration: 1; mse_traing: 13.3420; mse_test: 13.3608\n",
      "Iteration: 2; mse_traing: 13.3386; mse_test: 13.3600\n",
      "Iteration: 3; mse_traing: 13.3334; mse_test: 13.3577\n",
      "Iteration: 4; mse_traing: 13.3245; mse_test: 13.3517\n",
      "Training No. 2\n",
      "Iteration: 1; mse_traing: 13.3463; mse_test: 13.3435\n",
      "Iteration: 2; mse_traing: 13.3428; mse_test: 13.3427\n",
      "Iteration: 3; mse_traing: 13.3375; mse_test: 13.3404\n",
      "Iteration: 4; mse_traing: 13.3282; mse_test: 13.3345\n",
      "Training No. 3\n",
      "Iteration: 1; mse_traing: 13.3580; mse_test: 13.2972\n",
      "Iteration: 2; mse_traing: 13.3545; mse_test: 13.2964\n",
      "Iteration: 3; mse_traing: 13.3494; mse_test: 13.2940\n",
      "Iteration: 4; mse_traing: 13.3405; mse_test: 13.2881\n",
      "Training No. 4\n",
      "Iteration: 1; mse_traing: 13.3503; mse_test: 13.3279\n",
      "Iteration: 2; mse_traing: 13.3467; mse_test: 13.3271\n",
      "Iteration: 3; mse_traing: 13.3415; mse_test: 13.3248\n",
      "Iteration: 4; mse_traing: 13.3323; mse_test: 13.3188\n",
      "Training No. 5\n",
      "Iteration: 1; mse_traing: 13.3299; mse_test: 13.4096\n",
      "Iteration: 2; mse_traing: 13.3265; mse_test: 13.4088\n",
      "Iteration: 3; mse_traing: 13.3215; mse_test: 13.4065\n",
      "Iteration: 4; mse_traing: 13.3128; mse_test: 13.4007\n"
     ]
    }
   ],
   "source": [
    "#A running example with 4 iterations and Gradient Descent as Optimization Method\n",
    "#learning_rate = 0.001, regularization_parametre = 0.01, number_of_latent_factors = 20\n",
    "mf = MatrixFactorization(itr=4)\n",
    "err = mf.train_n_times() #record the error during the training process"
   ]
  },
  {
   "cell_type": "code",
   "execution_count": 16,
   "metadata": {},
   "outputs": [
    {
     "name": "stdout",
     "output_type": "stream",
     "text": [
      "Training No. 1\n"
     ]
    },
    {
     "name": "stderr",
     "output_type": "stream",
     "text": [
      "/Users/zzfang/anaconda3/lib/python3.6/site-packages/ipykernel_launcher.py:80: FutureWarning: Method .as_matrix will be removed in a future version. Use .values instead.\n",
      "/Users/zzfang/anaconda3/lib/python3.6/site-packages/ipykernel_launcher.py:81: FutureWarning: Method .as_matrix will be removed in a future version. Use .values instead.\n"
     ]
    },
    {
     "name": "stdout",
     "output_type": "stream",
     "text": [
      "Iteration: 1; mse_traing: 0.4335; mse_test: 2.8988\n",
      "Iteration: 2; mse_traing: 0.3663; mse_test: 3.0507\n",
      "Iteration: 3; mse_traing: 0.3279; mse_test: 2.8568\n",
      "Iteration: 4; mse_traing: 0.2935; mse_test: 2.4415\n",
      "Training No. 2\n",
      "Iteration: 1; mse_traing: 0.4316; mse_test: 2.7144\n",
      "Iteration: 2; mse_traing: 0.3567; mse_test: 2.8087\n",
      "Iteration: 3; mse_traing: 0.3282; mse_test: 2.7839\n",
      "Iteration: 4; mse_traing: 0.3046; mse_test: 2.4351\n",
      "Training No. 3\n",
      "Iteration: 1; mse_traing: 0.4241; mse_test: 2.7463\n",
      "Iteration: 2; mse_traing: 0.3592; mse_test: 2.8863\n",
      "Iteration: 3; mse_traing: 0.3273; mse_test: 2.7749\n",
      "Iteration: 4; mse_traing: 0.3060; mse_test: 2.4084\n",
      "Training No. 4\n",
      "Iteration: 1; mse_traing: 0.4319; mse_test: 2.7756\n",
      "Iteration: 2; mse_traing: 0.3587; mse_test: 2.8160\n",
      "Iteration: 3; mse_traing: 0.3321; mse_test: 2.7143\n",
      "Iteration: 4; mse_traing: 0.3066; mse_test: 2.3405\n",
      "Training No. 5\n",
      "Iteration: 1; mse_traing: 0.4230; mse_test: 2.7748\n",
      "Iteration: 2; mse_traing: 0.3563; mse_test: 2.8648\n",
      "Iteration: 3; mse_traing: 0.3202; mse_test: 2.6970\n",
      "Iteration: 4; mse_traing: 0.2944; mse_test: 2.3921\n"
     ]
    }
   ],
   "source": [
    "#A running example with 4 iterations and ALS as Optimization Method\n",
    "#learning_rate = 0.001, regularization_parametre = 0.01, number_of_latent_factors = 20\n",
    "mf = MatrixFactorization(itr=4, method='ALS')\n",
    "err = mf.train_n_times() #record the error during the training process"
   ]
  },
  {
   "cell_type": "markdown",
   "metadata": {},
   "source": [
    "## Model Optimization\n",
    "In this section we will discuss the methods to optimize the Matrix Factorization Model, i.e. how to determine the optimal number of iterations, learning rate and latent factors."
   ]
  },
  {
   "cell_type": "markdown",
   "metadata": {},
   "source": [
    "### Learning Rate\n",
    "Learning Rate can influence the speed of convergence. A model with a too small learning rate need more time to train and might be trapped in local optimum while too large learning rate can cause the model to miss the optimum. \n",
    "<br> In this experiment we try several learning rate and choose the one which uses minimal iterations to reach a particular mse."
   ]
  },
  {
   "cell_type": "markdown",
   "metadata": {},
   "source": [
    "### Number of Latent Factors\n",
    "The number of **latent factors** determines the amount of abstract information that we want to store in a lower dimension space.[1]\n",
    "<br>We searched some optimization methods and there are several methods for determining the number of factors, such as **Minimum Average Partial Method(MAP)**[2] , **Cattell's Scree Test**[3] , **K1-Kaiser Method**[4] et al."
   ]
  },
  {
   "cell_type": "markdown",
   "metadata": {},
   "source": [
    "### Number of Iterations\n",
    "Too few iterations can lead to underfitting and too many can lead to overfitting. To find the optimal number of iterations, we need to monitor the value of cross-validation error during the training process. If the cross-validation error decreases with number of iterations increasing, we can improve the performance of the model by increasing iterations. If the cross-validation error starts to increase with the increasing of iterations, we should stop training the model. Therefore, the corresponding iteration of the minimal mse on test set during the process is considered as the optimal number of iterations(NOI). In the case of 5-Fold Cross Validation, we will find the optimal NOIs on 5 models and if one of them reaches the majority, i.e. 3 of 5, we will use this number as the optimal NOI of the model. If none of them reaches the majority, we will consider the second best NOI of the models and so on."
   ]
  },
  {
   "cell_type": "markdown",
   "metadata": {},
   "source": [
    "## Evaluation\n",
    "After determining the optimal value of learning rate, number of latent factors and number of iterations, we will evaluate the performance of the model; i.e. we will run the algorithm by using the optimal value of the hyperparametres and calculate the average mse on training set and test set of the 5 same models using different fold as test data. The following code shows how to evaluate the model."
   ]
  },
  {
   "cell_type": "code",
   "execution_count": 238,
   "metadata": {},
   "outputs": [
    {
     "name": "stdout",
     "output_type": "stream",
     "text": [
      "For the MF with GD \n",
      "Mean error on TRAIN: 12.40499678832716\n",
      "Mean error on  TEST: 12.412558218023136\n"
     ]
    }
   ],
   "source": [
    "#Suppose the optimal values of hyperparametres are: K=20, lr=0.006, itr=60\n",
    "mf = MatrixFactorization(K=20, lr=0.006, itr=60)\n",
    "err = mf.train_n_times() #record the error during the training process\n",
    "\n",
    "result = np.mean(err, axis=0)[-1]\n",
    "\n",
    "#print the final conclusion:\n",
    "print(\"For the MF with GD \")\n",
    "print(\"Mean error on TRAIN: \" + str(result[1])) #Mean Error on Training set\n",
    "print(\"Mean error on  TEST: \" + str(result[2])) #Mean Error on Test set"
   ]
  },
  {
   "cell_type": "markdown",
   "metadata": {},
   "source": [
    "# Experiment & Result\n",
    "Because the optimization of the hyperparametres is time-consuming and there is limited time, we did not finish the optimization of the hyperparametres number of latent factors and learning rate. Therefore, we assumed the optimized number of latent factors is 20 and learning rate is 0.006. We did experiment to find the optimal number of iterations based on this assumption. The following 5 figures show the training process with 5-Fold Cross Validation. The minimal mse on test set(mse_test) and its coresponding iteration(itr) and mse on training set(mse_training) is marked in each figure."
   ]
  },
  {
   "cell_type": "markdown",
   "metadata": {},
   "source": [
    "![Original Dataset](./figures/lr0.006rp0.01GD1.png)\n",
    "<center>figure 2(a) Model 1</center>\n",
    "![Original Dataset](./figures/lr0.006rp0.01GD2.png)\n",
    "<center>figure 2(b) Model 2</center>\n",
    "![Original Dataset](./figures/lr0.006rp0.01GD3.png)\n",
    "<center>figure 2(c) Model 3</center>\n",
    "![Original Dataset](./figures/lr0.006rp0.01GD4.png)\n",
    "<center>figure 2(d) Model 4</center>\n",
    "![Original Dataset](./figures/lr0.006rp0.01GD5.png)\n",
    "<center>figure 2(e) Model 5</center>\n",
    "\n",
    "<center>figure 2: Training Process of The 5 Models</center>"
   ]
  },
  {
   "cell_type": "markdown",
   "metadata": {},
   "source": [
    "In the following table we listed the minimal mse of test set of each model and its corresponding optimal number of  iterations.\n",
    "\n",
    "\n",
    "| Model | model1 | model2 | model3 | model4 | model5 |\n",
    "| --- | --- | --- | --- | --- | --- |\n",
    "| opt_itr |27|26|26|26|27|\n",
    "\n",
    "<center>table 1:  Optimal Number of Iterations of Each Model<\\center>\n",
    "\n",
    "<br>\n",
    "Table 1 shows that the number 26 reached the majority(3 of 5), so we choose 26 as the optimal number of iteration, and evaluate the model with the assumption hyperparametres."
   ]
  },
  {
   "cell_type": "code",
   "execution_count": 13,
   "metadata": {},
   "outputs": [
    {
     "name": "stdout",
     "output_type": "stream",
     "text": [
      "Training No. 1\n"
     ]
    },
    {
     "name": "stderr",
     "output_type": "stream",
     "text": [
      "/Users/zzfang/anaconda3/lib/python3.6/site-packages/ipykernel_launcher.py:81: FutureWarning: Method .as_matrix will be removed in a future version. Use .values instead.\n",
      "/Users/zzfang/anaconda3/lib/python3.6/site-packages/ipykernel_launcher.py:82: FutureWarning: Method .as_matrix will be removed in a future version. Use .values instead.\n"
     ]
    },
    {
     "name": "stdout",
     "output_type": "stream",
     "text": [
      "Iteration: 1; mse_traing: 13.1015; mse_test: 13.0756\n",
      "Iteration: 2; mse_traing: 7.6816; mse_test: 7.8791\n",
      "Iteration: 3; mse_traing: 3.5312; mse_test: 3.8934\n",
      "Iteration: 4; mse_traing: 2.2390; mse_test: 2.6488\n",
      "Iteration: 5; mse_traing: 1.6744; mse_test: 2.1143\n",
      "Iteration: 6; mse_traing: 1.3608; mse_test: 1.8272\n",
      "Iteration: 7; mse_traing: 1.1610; mse_test: 1.6518\n",
      "Iteration: 8; mse_traing: 1.0230; mse_test: 1.5363\n",
      "Iteration: 9; mse_traing: 0.9221; mse_test: 1.4564\n",
      "Iteration: 10; mse_traing: 0.8450; mse_test: 1.3989\n",
      "Iteration: 11; mse_traing: 0.7836; mse_test: 1.3560\n",
      "Iteration: 12; mse_traing: 0.7333; mse_test: 1.3231\n",
      "Iteration: 13; mse_traing: 0.6912; mse_test: 1.2974\n",
      "Iteration: 14; mse_traing: 0.6553; mse_test: 1.2770\n",
      "Iteration: 15; mse_traing: 0.6241; mse_test: 1.2608\n",
      "Iteration: 16; mse_traing: 0.5965; mse_test: 1.2479\n",
      "Iteration: 17; mse_traing: 0.5714; mse_test: 1.2375\n",
      "Iteration: 18; mse_traing: 0.5484; mse_test: 1.2291\n",
      "Iteration: 19; mse_traing: 0.5269; mse_test: 1.2225\n",
      "Iteration: 20; mse_traing: 0.5068; mse_test: 1.2173\n",
      "Iteration: 21; mse_traing: 0.4878; mse_test: 1.2134\n",
      "Iteration: 22; mse_traing: 0.4698; mse_test: 1.2104\n",
      "Iteration: 23; mse_traing: 0.4528; mse_test: 1.2084\n",
      "Iteration: 24; mse_traing: 0.4366; mse_test: 1.2071\n",
      "Iteration: 25; mse_traing: 0.4214; mse_test: 1.2065\n",
      "Iteration: 26; mse_traing: 0.4069; mse_test: 1.2065\n",
      "Training No. 2\n",
      "Iteration: 1; mse_traing: 13.0757; mse_test: 13.1481\n",
      "Iteration: 2; mse_traing: 7.6493; mse_test: 8.0578\n",
      "Iteration: 3; mse_traing: 3.5319; mse_test: 3.9891\n",
      "Iteration: 4; mse_traing: 2.2307; mse_test: 2.7273\n",
      "Iteration: 5; mse_traing: 1.6681; mse_test: 2.1870\n",
      "Iteration: 6; mse_traing: 1.3583; mse_test: 1.8953\n",
      "Iteration: 7; mse_traing: 1.1613; mse_test: 1.7156\n",
      "Iteration: 8; mse_traing: 1.0248; mse_test: 1.5961\n",
      "Iteration: 9; mse_traing: 0.9246; mse_test: 1.5127\n",
      "Iteration: 10; mse_traing: 0.8476; mse_test: 1.4520\n",
      "Iteration: 11; mse_traing: 0.7861; mse_test: 1.4066\n",
      "Iteration: 12; mse_traing: 0.7356; mse_test: 1.3716\n",
      "Iteration: 13; mse_traing: 0.6933; mse_test: 1.3443\n",
      "Iteration: 14; mse_traing: 0.6572; mse_test: 1.3226\n",
      "Iteration: 15; mse_traing: 0.6259; mse_test: 1.3053\n",
      "Iteration: 16; mse_traing: 0.5982; mse_test: 1.2914\n",
      "Iteration: 17; mse_traing: 0.5732; mse_test: 1.2802\n",
      "Iteration: 18; mse_traing: 0.5502; mse_test: 1.2712\n",
      "Iteration: 19; mse_traing: 0.5288; mse_test: 1.2640\n",
      "Iteration: 20; mse_traing: 0.5087; mse_test: 1.2582\n",
      "Iteration: 21; mse_traing: 0.4898; mse_test: 1.2536\n",
      "Iteration: 22; mse_traing: 0.4720; mse_test: 1.2502\n",
      "Iteration: 23; mse_traing: 0.4551; mse_test: 1.2477\n",
      "Iteration: 24; mse_traing: 0.4391; mse_test: 1.2460\n",
      "Iteration: 25; mse_traing: 0.4240; mse_test: 1.2450\n",
      "Iteration: 26; mse_traing: 0.4097; mse_test: 1.2447\n",
      "Training No. 3\n",
      "Iteration: 1; mse_traing: 13.0931; mse_test: 13.0935\n",
      "Iteration: 2; mse_traing: 7.6710; mse_test: 7.9467\n",
      "Iteration: 3; mse_traing: 3.5344; mse_test: 3.9414\n",
      "Iteration: 4; mse_traing: 2.2377; mse_test: 2.6903\n",
      "Iteration: 5; mse_traing: 1.6719; mse_test: 2.1614\n",
      "Iteration: 6; mse_traing: 1.3594; mse_test: 1.8781\n",
      "Iteration: 7; mse_traing: 1.1609; mse_test: 1.7044\n",
      "Iteration: 8; mse_traing: 1.0239; mse_test: 1.5893\n",
      "Iteration: 9; mse_traing: 0.9235; mse_test: 1.5088\n",
      "Iteration: 10; mse_traing: 0.8466; mse_test: 1.4503\n",
      "Iteration: 11; mse_traing: 0.7853; mse_test: 1.4064\n",
      "Iteration: 12; mse_traing: 0.7351; mse_test: 1.3724\n",
      "Iteration: 13; mse_traing: 0.6930; mse_test: 1.3457\n",
      "Iteration: 14; mse_traing: 0.6569; mse_test: 1.3245\n",
      "Iteration: 15; mse_traing: 0.6256; mse_test: 1.3074\n",
      "Iteration: 16; mse_traing: 0.5979; mse_test: 1.2936\n",
      "Iteration: 17; mse_traing: 0.5728; mse_test: 1.2825\n",
      "Iteration: 18; mse_traing: 0.5498; mse_test: 1.2735\n",
      "Iteration: 19; mse_traing: 0.5285; mse_test: 1.2663\n",
      "Iteration: 20; mse_traing: 0.5084; mse_test: 1.2605\n",
      "Iteration: 21; mse_traing: 0.4895; mse_test: 1.2560\n",
      "Iteration: 22; mse_traing: 0.4717; mse_test: 1.2525\n",
      "Iteration: 23; mse_traing: 0.4548; mse_test: 1.2500\n",
      "Iteration: 24; mse_traing: 0.4388; mse_test: 1.2482\n",
      "Iteration: 25; mse_traing: 0.4237; mse_test: 1.2472\n",
      "Iteration: 26; mse_traing: 0.4094; mse_test: 1.2467\n",
      "Training No. 4\n",
      "Iteration: 1; mse_traing: 13.0829; mse_test: 13.1406\n",
      "Iteration: 2; mse_traing: 7.6883; mse_test: 7.9844\n",
      "Iteration: 3; mse_traing: 3.5548; mse_test: 3.9327\n",
      "Iteration: 4; mse_traing: 2.2472; mse_test: 2.6720\n",
      "Iteration: 5; mse_traing: 1.6789; mse_test: 2.1380\n",
      "Iteration: 6; mse_traing: 1.3655; mse_test: 1.8517\n",
      "Iteration: 7; mse_traing: 1.1663; mse_test: 1.6753\n",
      "Iteration: 8; mse_traing: 1.0285; mse_test: 1.5577\n",
      "Iteration: 9; mse_traing: 0.9275; mse_test: 1.4752\n",
      "Iteration: 10; mse_traing: 0.8499; mse_test: 1.4150\n",
      "Iteration: 11; mse_traing: 0.7880; mse_test: 1.3696\n",
      "Iteration: 12; mse_traing: 0.7372; mse_test: 1.3344\n",
      "Iteration: 13; mse_traing: 0.6946; mse_test: 1.3068\n",
      "Iteration: 14; mse_traing: 0.6582; mse_test: 1.2849\n",
      "Iteration: 15; mse_traing: 0.6265; mse_test: 1.2674\n",
      "Iteration: 16; mse_traing: 0.5984; mse_test: 1.2534\n",
      "Iteration: 17; mse_traing: 0.5730; mse_test: 1.2422\n",
      "Iteration: 18; mse_traing: 0.5496; mse_test: 1.2333\n",
      "Iteration: 19; mse_traing: 0.5279; mse_test: 1.2261\n",
      "Iteration: 20; mse_traing: 0.5076; mse_test: 1.2205\n",
      "Iteration: 21; mse_traing: 0.4885; mse_test: 1.2161\n",
      "Iteration: 22; mse_traing: 0.4705; mse_test: 1.2128\n",
      "Iteration: 23; mse_traing: 0.4536; mse_test: 1.2104\n",
      "Iteration: 24; mse_traing: 0.4376; mse_test: 1.2087\n",
      "Iteration: 25; mse_traing: 0.4225; mse_test: 1.2077\n",
      "Iteration: 26; mse_traing: 0.4083; mse_test: 1.2073\n",
      "Training No. 5\n",
      "Iteration: 1; mse_traing: 13.0829; mse_test: 13.1637\n",
      "Iteration: 2; mse_traing: 7.6882; mse_test: 8.0289\n",
      "Iteration: 3; mse_traing: 3.5277; mse_test: 3.9979\n",
      "Iteration: 4; mse_traing: 2.2301; mse_test: 2.7373\n",
      "Iteration: 5; mse_traing: 1.6655; mse_test: 2.1983\n",
      "Iteration: 6; mse_traing: 1.3538; mse_test: 1.9097\n",
      "Iteration: 7; mse_traing: 1.1561; mse_test: 1.7334\n",
      "Iteration: 8; mse_traing: 1.0199; mse_test: 1.6170\n",
      "Iteration: 9; mse_traing: 0.9204; mse_test: 1.5362\n",
      "Iteration: 10; mse_traing: 0.8442; mse_test: 1.4777\n",
      "Iteration: 11; mse_traing: 0.7835; mse_test: 1.4340\n",
      "Iteration: 12; mse_traing: 0.7336; mse_test: 1.4003\n",
      "Iteration: 13; mse_traing: 0.6915; mse_test: 1.3739\n",
      "Iteration: 14; mse_traing: 0.6556; mse_test: 1.3528\n",
      "Iteration: 15; mse_traing: 0.6243; mse_test: 1.3359\n",
      "Iteration: 16; mse_traing: 0.5966; mse_test: 1.3223\n",
      "Iteration: 17; mse_traing: 0.5716; mse_test: 1.3113\n",
      "Iteration: 18; mse_traing: 0.5486; mse_test: 1.3025\n",
      "Iteration: 19; mse_traing: 0.5273; mse_test: 1.2954\n",
      "Iteration: 20; mse_traing: 0.5073; mse_test: 1.2897\n",
      "Iteration: 21; mse_traing: 0.4884; mse_test: 1.2853\n",
      "Iteration: 22; mse_traing: 0.4705; mse_test: 1.2819\n",
      "Iteration: 23; mse_traing: 0.4537; mse_test: 1.2794\n",
      "Iteration: 24; mse_traing: 0.4377; mse_test: 1.2777\n",
      "Iteration: 25; mse_traing: 0.4226; mse_test: 1.2767\n",
      "Iteration: 26; mse_traing: 0.4083; mse_test: 1.2763\n",
      "For the MF with GD \n",
      "Mean error on TRAIN: 0.4085010185869275\n",
      "Mean error on  TEST: 1.2362925391832518\n"
     ]
    }
   ],
   "source": [
    "#Evaluate the model with the assumpted optimal hyperparametres\n",
    "mf_1 = MatrixFactorization(K= 20, lr=0.006, itr=26)\n",
    "\n",
    "err = mf_1.train_n_times() #record the error during the training process\n",
    "\n",
    "result = np.mean(err, axis=0)[-1]\n",
    "\n",
    "#print the final conclusion:\n",
    "print(\"For the MF with GD \")\n",
    "print(\"Mean error on TRAIN: \" + str(result[1])) #Mean Error on Training set\n",
    "print(\"Mean error on  TEST: \" + str(result[2])) #Mean Error on Test set"
   ]
  },
  {
   "cell_type": "markdown",
   "metadata": {},
   "source": [
    "The mean mse on training set is about 0.41 while on test set is about 1.24."
   ]
  },
  {
   "cell_type": "markdown",
   "metadata": {},
   "source": [
    "# Discussion \n",
    "In the section Experiment & Result, we optimized the number of iterations and evaluate the model under the assumption of number of latent factors and learning rate. The result shows that the mse on test set is much larger than that on training set, which means there is overfitting. To prevent overfitting, we can increase the value of regularization parametre(rp) or decrease the number of latent factors."
   ]
  },
  {
   "cell_type": "markdown",
   "metadata": {},
   "source": [
    "# Conclusion & Future Work\n",
    "In this assignment we finished implementing the recommender model based on Matrix Factorization algorithm and discussed the model optimization methods. In the future we will continue exploring and implementing the optimization method for number of latent factors and learning rate. Besides, to make the program more efficient, we are going to explore how to implement the algorithm concurrently and parallelly."
   ]
  },
  {
   "cell_type": "markdown",
   "metadata": {
    "collapsed": true
   },
   "source": [
    "# Reference\n",
    "\n",
    "[1]Liao, Kevin. “Prototyping a Recommender System Step by Step Part 2: Alternating Least Square (ALS) Matrix Factorization in Collaborative Filtering.” Medium, Towards Data Science, 19 Nov. 2018, https://towardsdatascience.com/prototyping-a-recommender-system-step-by-step-part-2-alternating-least-square-als-matrix-4a76c58714a1.<br>\n",
    "[2]Liao, K. (2018, November 19). Prototyping a Recommender System Step by Step Part 2: Alternating Least Square (ALS) Matrix Factorization in Collaborative Filtering. Retrieved from https://towardsdatascience.com/prototyping-a-recommender-system-step-by-step-part-2-alternating-least-square-als-matrix-4a76c58714a1<br>\n",
    "[3]D'agostino, R. B., & Russell, H. K. (2014, September 29). Scree Test. Retrieved from https://onlinelibrary.wiley.com/doi/abs/10.1002/9781118445112.stat05605<br>\n",
    "[4]Retrieved from https://psycnet.apa.org/fulltext/2016-15750-001.html<br>\n",
    "[5]Retrieved from https://psycnet.apa.org/fulltext/2016-15750-001.html<br>\n",
    "[6]Retrieved from https://psycnet.apa.org/fulltext/2016-15750-001.html<br>"
   ]
  },
  {
   "cell_type": "code",
   "execution_count": null,
   "metadata": {
    "collapsed": true
   },
   "outputs": [],
   "source": []
  }
 ],
 "metadata": {
  "kernelspec": {
   "display_name": "Python [default]",
   "language": "python",
   "name": "python3"
  },
  "language_info": {
   "codemirror_mode": {
    "name": "ipython",
    "version": 3
   },
   "file_extension": ".py",
   "mimetype": "text/x-python",
   "name": "python",
   "nbconvert_exporter": "python",
   "pygments_lexer": "ipython3",
   "version": "3.5.3"
  }
 },
 "nbformat": 4,
 "nbformat_minor": 2
}
