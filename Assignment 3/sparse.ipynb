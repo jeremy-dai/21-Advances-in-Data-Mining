{
 "cells": [
  {
   "cell_type": "markdown",
   "metadata": {},
   "source": [
    "# Implement PageRank algorithm "
   ]
  },
  {
   "cell_type": "markdown",
   "metadata": {},
   "source": [
    "## Import package and data"
   ]
  },
  {
   "cell_type": "code",
   "execution_count": 2,
   "metadata": {
    "collapsed": true
   },
   "outputs": [],
   "source": [
    "import numpy as np\n",
    "import pandas as pd\n",
    "import matplotlib.pyplot as plt\n",
    "from scipy.sparse import csc_matrix\n",
    "%matplotlib inline  "
   ]
  },
  {
   "cell_type": "code",
   "execution_count": 27,
   "metadata": {
    "collapsed": true
   },
   "outputs": [],
   "source": [
    "df = pd.read_csv('graph.csv') #'graph_small.csv'"
   ]
  },
  {
   "cell_type": "code",
   "execution_count": 28,
   "metadata": {
    "collapsed": true
   },
   "outputs": [],
   "source": [
    "# create sparse matrix\n",
    "N = len(set(np.concatenate((df['page_id_to'].unique(),df['page_id_from'].unique()), axis=None)))\n",
    "values = df.groupby('page_id_from')['page_id_to'].transform(lambda x: 1/len(x))\n",
    "M = csc_matrix((values, (df.page_id_to, df.page_id_from)),shape=(N, N))"
   ]
  },
  {
   "cell_type": "code",
   "execution_count": 35,
   "metadata": {
    "collapsed": true
   },
   "outputs": [],
   "source": [
    "beta = 0.8\n",
    "v = np.zeros(N) + 1/N\n",
    "MSE =[]"
   ]
  },
  {
   "cell_type": "code",
   "execution_count": 36,
   "metadata": {
    "collapsed": true
   },
   "outputs": [],
   "source": [
    "for i in range(25):\n",
    "    '''\n",
    "    Run 25 iterations of the “classical” update rule from slide 10, with Beta=0.8\n",
    "    '''\n",
    "    v_old = v\n",
    "    #v = np.zeros(N) + (1-beta)/N\n",
    "    v = beta * M * v + (1-beta)/N\n",
    "    MSE.append(np.mean((v - v_old)**2))"
   ]
  },
  {
   "cell_type": "code",
   "execution_count": 37,
   "metadata": {},
   "outputs": [
    {
     "data": {
      "text/plain": [
       "[<matplotlib.lines.Line2D at 0x13a321048>]"
      ]
     },
     "execution_count": 37,
     "metadata": {},
     "output_type": "execute_result"
    },
    {
     "data": {
      "image/png": "[encoded data removed]",
      "text/plain": [
       "<Figure size 432x288 with 1 Axes>"
      ]
     },
     "metadata": {},
     "output_type": "display_data"
    }
   ],
   "source": [
    "# Plot the MSE of the differences\n",
    "plt.plot(MSE)"
   ]
  },
  {
   "cell_type": "code",
   "execution_count": 38,
   "metadata": {},
   "outputs": [
    {
     "data": {
      "text/plain": [
       "0.8756096381873256"
      ]
     },
     "execution_count": 38,
     "metadata": {},
     "output_type": "execute_result"
    }
   ],
   "source": [
    "sum(v)"
   ]
  },
  {
   "cell_type": "markdown",
   "metadata": {
    "collapsed": true
   },
   "source": [
    "Because of the deadends, we have only 87.6% of original traffic left.\n",
    "\n",
    "## What is the maximal number of nodes of G such that your algorithm could be executed?\n",
    "With 1GB RAM and the average out-degree of a graph G of 15:\n",
    "\n",
    "Assume we can compute on $n$ nodes of G. We need space for $n$ numbers in $v$ and $15*n$ numbers in the sparse matrix. If we ignore the space needed for doing multiplication, we need space for $16*n$ numbers. $$ram = 16 * n * 64 \\div 8 * 10^{-9} = 1 GB$$"
   ]
  },
  {
   "cell_type": "code",
   "execution_count": 9,
   "metadata": {},
   "outputs": [
    {
     "name": "stdout",
     "output_type": "stream",
     "text": [
      "The maximal number of nodes of G is 7812500\n"
     ]
    }
   ],
   "source": [
    "node= 10**9 * 8 / 64 / 16\n",
    "print('The maximal number of nodes of G is %6d'%(node))"
   ]
  },
  {
   "cell_type": "code",
   "execution_count": null,
   "metadata": {
    "collapsed": true
   },
   "outputs": [],
   "source": []
  }
 ],
 "metadata": {
  "kernelspec": {
   "display_name": "Python [default]",
   "language": "python",
   "name": "python3"
  },
  "language_info": {
   "codemirror_mode": {
    "name": "ipython",
    "version": 3
   },
   "file_extension": ".py",
   "mimetype": "text/x-python",
   "name": "python",
   "nbconvert_exporter": "python",
   "pygments_lexer": "ipython3",
   "version": "3.5.3"
  }
 },
 "nbformat": 4,
 "nbformat_minor": 2
}
