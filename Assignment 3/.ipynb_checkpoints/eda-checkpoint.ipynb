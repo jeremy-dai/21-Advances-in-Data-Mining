{
 "cells": [
  {
   "cell_type": "markdown",
   "metadata": {},
   "source": [
    "- Dead ends: find nodes with no outgoing edges. How many have you found?\n",
    "- Distribution of in-degrees: for every node compute the number of incoming edges\n",
    "- Distribution of out-degrees: for every node compute the number of outgoing edges\n",
    "- Make nice & informative plots of both distributions\n",
    "- What is the average out-degree and the average in-degree of the graph?"
   ]
  },
  {
   "cell_type": "code",
   "execution_count": 1,
   "metadata": {
    "collapsed": true
   },
   "outputs": [],
   "source": [
    "import numpy as np\n",
    "import pandas as pd"
   ]
  },
  {
   "cell_type": "code",
   "execution_count": 2,
   "metadata": {
    "collapsed": true
   },
   "outputs": [],
   "source": [
    "#df = pd.read_csv('graph_small.csv')\n",
    "df = pd.read_csv('graph.csv')"
   ]
  },
  {
   "cell_type": "code",
   "execution_count": 3,
   "metadata": {
    "collapsed": true
   },
   "outputs": [],
   "source": [
    "import matplotlib as plt\n",
    "%matplotlib inline  "
   ]
  },
  {
   "cell_type": "code",
   "execution_count": 4,
   "metadata": {},
   "outputs": [
    {
     "data": {
      "text/plain": [
       "83826"
      ]
     },
     "execution_count": 4,
     "metadata": {},
     "output_type": "execute_result"
    }
   ],
   "source": [
    "# Dead ends: find nodes with no outgoing edge\n",
    "is_in_from = df.page_id_to.isin(set(df.page_id_from))\n",
    "dead_ends = df.page_id_to[~is_in_from]\n",
    "len(dead_ends)"
   ]
  },
  {
   "cell_type": "code",
   "execution_count": 5,
   "metadata": {},
   "outputs": [
    {
     "data": {
      "text/plain": [
       "633673"
      ]
     },
     "execution_count": 5,
     "metadata": {},
     "output_type": "execute_result"
    }
   ],
   "source": [
    "# nodes with no incoming edge\n",
    "is_in_to = df.page_id_from.isin(set(df.page_id_to))\n",
    "len(df.page_id_from[~is_in_to])"
   ]
  },
  {
   "cell_type": "code",
   "execution_count": 6,
   "metadata": {
    "collapsed": true
   },
   "outputs": [],
   "source": [
    "# Distribution of in-degrees\n",
    "#in_degrees = df.groupby('page_id_to')['page_id_from'].apply(len)\n",
    "in_degrees = df.page_id_to.value_counts()"
   ]
  },
  {
   "cell_type": "code",
   "execution_count": 15,
   "metadata": {},
   "outputs": [
    {
     "data": {
      "text/plain": [
       "<matplotlib.axes._subplots.AxesSubplot at 0x1222f04e0>"
      ]
     },
     "execution_count": 15,
     "metadata": {},
     "output_type": "execute_result"
    },
    {
     "data": {
      "image/png": "[encoded data removed]",
      "text/plain": [
       "<Figure size 432x288 with 1 Axes>"
      ]
     },
     "metadata": {},
     "output_type": "display_data"
    }
   ],
   "source": [
    "in_degrees.hist(range=(0, 50))"
   ]
  },
  {
   "cell_type": "code",
   "execution_count": 16,
   "metadata": {
    "collapsed": true
   },
   "outputs": [],
   "source": [
    "# Distribution of out-degrees\n",
    "out_degrees = df.page_id_from.value_counts()"
   ]
  },
  {
   "cell_type": "code",
   "execution_count": 18,
   "metadata": {},
   "outputs": [
    {
     "data": {
      "text/plain": [
       "<matplotlib.axes._subplots.AxesSubplot at 0x120fa1828>"
      ]
     },
     "execution_count": 18,
     "metadata": {},
     "output_type": "execute_result"
    },
    {
     "data": {
      "image/png": "[encoded data removed]",
      "text/plain": [
       "<Figure size 432x288 with 1 Axes>"
      ]
     },
     "metadata": {},
     "output_type": "display_data"
    }
   ],
   "source": [
    "out_degrees.hist(range=(0, 100))"
   ]
  },
  {
   "cell_type": "code",
   "execution_count": 19,
   "metadata": {},
   "outputs": [
    {
     "data": {
      "text/plain": [
       "13.736067306692545"
      ]
     },
     "execution_count": 19,
     "metadata": {},
     "output_type": "execute_result"
    }
   ],
   "source": [
    "# average\n",
    "ave_out_degrees = out_degrees.mean()\n",
    "ave_out_degrees "
   ]
  },
  {
   "cell_type": "code",
   "execution_count": 20,
   "metadata": {},
   "outputs": [
    {
     "data": {
      "text/plain": [
       "16.510346910507295"
      ]
     },
     "execution_count": 20,
     "metadata": {},
     "output_type": "execute_result"
    }
   ],
   "source": [
    "ave_in_degrees = in_degrees.mean()\n",
    "ave_in_degrees "
   ]
  },
  {
   "cell_type": "markdown",
   "metadata": {},
   "source": [
    "## Estimate RAM requirement\n",
    "How much RAM would you need to store the transition matrix M and the initial vector v in RAM? Assume double precision (64 bits per number)."
   ]
  },
  {
   "cell_type": "code",
   "execution_count": 21,
   "metadata": {
    "collapsed": true
   },
   "outputs": [],
   "source": [
    "n_node = len(set(np.concatenate((df['page_id_to'].unique(),df['page_id_from'].unique()), axis=None)))"
   ]
  },
  {
   "cell_type": "code",
   "execution_count": 22,
   "metadata": {},
   "outputs": [
    {
     "name": "stdout",
     "output_type": "stream",
     "text": [
      "We need  492798.121992 Mb RAM\n"
     ]
    }
   ],
   "source": [
    "ram = n_node * n_node * 64 / 8 * 10**-6\n",
    "print('We need ', ram, 'Mb RAM')"
   ]
  },
  {
   "cell_type": "code",
   "execution_count": 23,
   "metadata": {},
   "outputs": [
    {
     "name": "stdout",
     "output_type": "stream",
     "text": [
      "We need  76.094736 Mb RAM if we store M in a sparse matrix\n"
     ]
    }
   ],
   "source": [
    "# store M in a sparse matrix (in RAM)\n",
    "ram_sparse = 3 * len(df) * 64 / 8 * 10**-6\n",
    "print('We need ', ram_sparse, 'Mb RAM if we store M in a sparse matrix')"
   ]
  },
  {
   "cell_type": "code",
   "execution_count": 24,
   "metadata": {},
   "outputs": [
    {
     "name": "stdout",
     "output_type": "stream",
     "text": [
      "We need  29.058096 Mb RAM if we store M as described on slide 17.\n"
     ]
    }
   ],
   "source": [
    "# use data structures as described on slide 17.\n",
    "ram_p17= (df.page_id_from.nunique() * 2 + len(df)) * 64 / 8 * 10**-6\n",
    "print('We need ', ram_p17, 'Mb RAM if we store M as described on slide 17.')"
   ]
  }
 ],
 "metadata": {
  "kernelspec": {
   "display_name": "Python [default]",
   "language": "python",
   "name": "python3"
  },
  "language_info": {
   "codemirror_mode": {
    "name": "ipython",
    "version": 3
   },
   "file_extension": ".py",
   "mimetype": "text/x-python",
   "name": "python",
   "nbconvert_exporter": "python",
   "pygments_lexer": "ipython3",
   "version": "3.5.3"
  }
 },
 "nbformat": 4,
 "nbformat_minor": 2
}
