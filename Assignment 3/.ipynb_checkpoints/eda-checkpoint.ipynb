{
 "cells": [
  {
   "cell_type": "markdown",
   "metadata": {},
   "source": [
    "# Investigate the graph\n",
    "\n",
    "## Import package and data"
   ]
  },
  {
   "cell_type": "code",
   "execution_count": 1,
   "metadata": {
    "collapsed": true
   },
   "outputs": [],
   "source": [
    "import numpy as np\n",
    "import pandas as pd\n",
    "import seaborn as sns\n",
    "import matplotlib.pyplot as plt\n",
    "%matplotlib inline  "
   ]
  },
  {
   "cell_type": "code",
   "execution_count": 2,
   "metadata": {
    "collapsed": true
   },
   "outputs": [],
   "source": [
    "#df = pd.read_csv('graph_small.csv')\n",
    "df = pd.read_csv('graph.csv')"
   ]
  },
  {
   "cell_type": "markdown",
   "metadata": {},
   "source": [
    "## Dead ends: find nodes with no outgoing edges."
   ]
  },
  {
   "cell_type": "code",
   "execution_count": 3,
   "metadata": {},
   "outputs": [
    {
     "name": "stdout",
     "output_type": "stream",
     "text": [
      "We find  633673  nodes with no incoming edges\n"
     ]
    }
   ],
   "source": [
    "# nodes with no incoming edge\n",
    "is_in_to = df.page_id_from.isin(set(df.page_id_to))\n",
    "print('We find ',len(df.page_id_from[~is_in_to]), ' nodes with no incoming edges')"
   ]
  },
  {
   "cell_type": "markdown",
   "metadata": {},
   "source": [
    "## Is this graph strongly connected?"
   ]
  },
  {
   "cell_type": "code",
   "execution_count": 4,
   "metadata": {},
   "outputs": [
    {
     "name": "stdout",
     "output_type": "stream",
     "text": [
      "We find  83826  dead ends, which are the nodes with no outgoing edges\n"
     ]
    }
   ],
   "source": [
    "# Dead ends: find nodes with no outgoing edge\n",
    "is_in_from = df.page_id_to.isin(set(df.page_id_from))\n",
    "dead_ends = df.page_id_to[~is_in_from]\n",
    "print('We find ',len(dead_ends), ' dead ends, which are the nodes with no outgoing edges')"
   ]
  },
  {
   "cell_type": "markdown",
   "metadata": {},
   "source": [
    "**The graph is not strongly connected because not every node is reachable from every other node.**\n",
    "\n",
    "\n",
    "## Distribution of in-degrees & Distribution of out-degrees"
   ]
  },
  {
   "cell_type": "markdown",
   "metadata": {},
   "source": [
    "** The following figure shows the distribution of in-degrees: for every node compute the number of incoming edges **"
   ]
  },
  {
   "cell_type": "code",
   "execution_count": 5,
   "metadata": {
    "collapsed": true
   },
   "outputs": [],
   "source": [
    "# in-degrees\n",
    "in_degrees = df.page_id_to.value_counts()\n",
    "# out-degrees\n",
    "out_degrees = df.page_id_from.value_counts()"
   ]
  },
  {
   "cell_type": "code",
   "execution_count": 6,
   "metadata": {},
   "outputs": [
    {
     "data": {
      "text/plain": [
       "Text(0.5,0,'out-degrees')"
      ]
     },
     "execution_count": 6,
     "metadata": {},
     "output_type": "execute_result"
    },
    {
     "data": {
      "image/png": "[encoded data removed]",
      "text/plain": [
       "<Figure size 432x288 with 2 Axes>"
      ]
     },
     "metadata": {},
     "output_type": "display_data"
    }
   ],
   "source": [
    "plt.subplot(121) \n",
    "sns.boxplot(x= in_degrees)\n",
    "plt.xlabel('in-degrees')\n",
    "plt.subplot(122) \n",
    "sns.boxplot(x= out_degrees)\n",
    "plt.xlabel('out-degrees')"
   ]
  },
  {
   "cell_type": "markdown",
   "metadata": {},
   "source": [
    "From the above box plots, we can see that there are many outliers in the in-dgress and out-degrees. It means there are some pages attracting lots of net traffic(with more than 10k links), while other pages connecting to more than 1k other pages. \n",
    "\n",
    "To better show the distribution, we will limit the x-axis.\n",
    "\n",
    "** The following figure shows the distribution of out-degrees: for every node compute the number of outgoing edges **"
   ]
  },
  {
   "cell_type": "code",
   "execution_count": 7,
   "metadata": {},
   "outputs": [
    {
     "data": {
      "text/plain": [
       "Text(0.5,0,'out-degrees, cut at 100')"
      ]
     },
     "execution_count": 7,
     "metadata": {},
     "output_type": "execute_result"
    },
    {
     "data": {
      "image/png": "[encoded data removed]",
      "text/plain": [
       "<Figure size 432x288 with 2 Axes>"
      ]
     },
     "metadata": {},
     "output_type": "display_data"
    }
   ],
   "source": [
    "plt.subplot(121) \n",
    "in_degrees.hist(range=(0, 50))\n",
    "plt.xlabel('in-degrees, cut at 50')\n",
    "\n",
    "plt.subplot(122) \n",
    "out_degrees.hist(range=(0, 100))\n",
    "plt.xlabel('out-degrees, cut at 100')"
   ]
  },
  {
   "cell_type": "markdown",
   "metadata": {},
   "source": [
    "We can see that most pages have less than 15 coming links and less than 25 outgoing link. "
   ]
  },
  {
   "cell_type": "markdown",
   "metadata": {},
   "source": [
    "## The average out-degree and the average in-degree of the graph"
   ]
  },
  {
   "cell_type": "code",
   "execution_count": 8,
   "metadata": {},
   "outputs": [
    {
     "name": "stdout",
     "output_type": "stream",
     "text": [
      "The average out-degree of the graph is  13.74\n"
     ]
    }
   ],
   "source": [
    "# average\n",
    "ave_out_degrees = out_degrees.mean()\n",
    "print('The average out-degree of the graph is %6.2f'%(ave_out_degrees))"
   ]
  },
  {
   "cell_type": "code",
   "execution_count": 9,
   "metadata": {},
   "outputs": [
    {
     "name": "stdout",
     "output_type": "stream",
     "text": [
      "The average in-degree of the graph is  16.51\n"
     ]
    }
   ],
   "source": [
    "ave_in_degrees = in_degrees.mean()\n",
    "print('The average in-degree of the graph is %6.2f'%(ave_in_degrees))"
   ]
  },
  {
   "cell_type": "markdown",
   "metadata": {},
   "source": [
    "## Estimate RAM requirement\n",
    "### How much RAM would you need to store the transition matrix M and the initial vector v in RAM? \n",
    "Assume double precision (64 bits per number)."
   ]
  },
  {
   "cell_type": "code",
   "execution_count": 10,
   "metadata": {
    "collapsed": true
   },
   "outputs": [],
   "source": [
    "n_node = len(set(np.concatenate((df['page_id_to'].unique(),df['page_id_from'].unique()), axis=None)))"
   ]
  },
  {
   "cell_type": "code",
   "execution_count": 50,
   "metadata": {},
   "outputs": [
    {
     "name": "stdout",
     "output_type": "stream",
     "text": [
      "We have 248193 nodes in total\n"
     ]
    }
   ],
   "source": [
    "print('We have %6d nodes in total'%(n_node))"
   ]
  },
  {
   "cell_type": "markdown",
   "metadata": {},
   "source": [
    "Let's test how much memory a pandas dataframe uses"
   ]
  },
  {
   "cell_type": "code",
   "execution_count": 59,
   "metadata": {},
   "outputs": [
    {
     "data": {
      "text/plain": [
       "Index    80\n",
       "0        64\n",
       "1        64\n",
       "2        64\n",
       "3        64\n",
       "dtype: int64"
      ]
     },
     "execution_count": 59,
     "metadata": {},
     "output_type": "execute_result"
    }
   ],
   "source": [
    "dummy = pd.DataFrame([[1,0,0,4],[1,0,0,5],[1,0,0,6],[1,0,0,4],[1,0,0,4],[1,0,0,5],[1,0,0,6],[1,0,0,4]])\n",
    "dummy.memory_usage(index=True, deep=True)"
   ]
  },
  {
   "cell_type": "markdown",
   "metadata": {},
   "source": [
    "The pandas dataframe uses 80 bytes for index and 8 bytes per record"
   ]
  },
  {
   "cell_type": "code",
   "execution_count": 65,
   "metadata": {},
   "outputs": [
    {
     "name": "stdout",
     "output_type": "stream",
     "text": [
      "We need 458.96 Gb RAM to store the transition matrix M and the initial vector v\n"
     ]
    }
   ],
   "source": [
    "# 8 bytes for each number and 80 bytes for index\n",
    "ram_mat = (n_node**2*8 + 80) * 1024**-3 # RAM for transition matrix M (GB)\n",
    "ram_vec = (n_node   *8 + 80) * 1024**-3 # RAM for initial vector v (GB)\n",
    "ram = ram_mat + ram_vec # Total ram\n",
    "print('We need %6.2f Gb RAM to store the transition matrix M and the initial vector v'%(ram))"
   ]
  },
  {
   "cell_type": "markdown",
   "metadata": {},
   "source": [
    "### How much RAM would you need to store M in a sparse matrix (in RAM)?"
   ]
  },
  {
   "cell_type": "markdown",
   "metadata": {},
   "source": [
    "Let's test how much memory a sparse matrix uses"
   ]
  },
  {
   "cell_type": "code",
   "execution_count": 76,
   "metadata": {},
   "outputs": [
    {
     "data": {
      "text/plain": [
       "24"
      ]
     },
     "execution_count": 76,
     "metadata": {},
     "output_type": "execute_result"
    }
   ],
   "source": [
    "from scipy.sparse import csr_matrix\n",
    "dummy = csr_matrix(np.arange(4).reshape((2,2)))\n",
    "dummy.data.nbytes"
   ]
  },
  {
   "cell_type": "code",
   "execution_count": 77,
   "metadata": {},
   "outputs": [
    {
     "data": {
      "text/plain": [
       "12"
      ]
     },
     "execution_count": 77,
     "metadata": {},
     "output_type": "execute_result"
    }
   ],
   "source": [
    "dummy.indptr.nbytes "
   ]
  },
  {
   "cell_type": "code",
   "execution_count": 78,
   "metadata": {},
   "outputs": [
    {
     "data": {
      "text/plain": [
       "12"
      ]
     },
     "execution_count": 78,
     "metadata": {},
     "output_type": "execute_result"
    }
   ],
   "source": [
    "dummy.indices.nbytes "
   ]
  },
  {
   "cell_type": "markdown",
   "metadata": {},
   "source": [
    "The sparse matrix uses (rows + 1)*4 bytes for indptr, 8 bytes per non-zero record and 4 bytes for indices per  non-zero record."
   ]
  },
  {
   "cell_type": "code",
   "execution_count": 79,
   "metadata": {},
   "outputs": [
    {
     "name": "stdout",
     "output_type": "stream",
     "text": [
      "We need  37.23 MB RAM if we store M in a sparse matrix\n"
     ]
    }
   ],
   "source": [
    "# 12 bytes for each number and 80 bytes for index\n",
    "ram_indptr = (n_node + 1)*4 * 1024**-2 # RAM for indptr (MB)\n",
    "ram_record = len(df)    *12 * 1024**-2 # RAM for records (MB)\n",
    "ram_sparse = ram_indptr + ram_record # Total ram\n",
    "print('We need %6.2f MB RAM if we store M in a sparse matrix'%(ram_sparse))"
   ]
  },
  {
   "cell_type": "markdown",
   "metadata": {},
   "source": [
    "### How much RAM would you need using data structures as described on slide 17?"
   ]
  },
  {
   "cell_type": "markdown",
   "metadata": {},
   "source": [
    "Let's test how much memory a pandas dataframe uses for lists"
   ]
  },
  {
   "cell_type": "code",
   "execution_count": 84,
   "metadata": {},
   "outputs": [
    {
     "data": {
      "text/plain": [
       "Index     80\n",
       "0         24\n",
       "1         24\n",
       "2        192\n",
       "dtype: int64"
      ]
     },
     "execution_count": 84,
     "metadata": {},
     "output_type": "execute_result"
    }
   ],
   "source": [
    "dummy = pd.DataFrame([[1,2,[1,2]],[1,2,[1,2]],[1,2,[1,2]]])\n",
    "dummy.memory_usage(index=True, deep=True)"
   ]
  },
  {
   "cell_type": "markdown",
   "metadata": {},
   "source": [
    "The pandas dataframe use 48 bytes for list index per list"
   ]
  },
  {
   "cell_type": "code",
   "execution_count": 85,
   "metadata": {},
   "outputs": [
    {
     "name": "stdout",
     "output_type": "stream",
     "text": [
      "We need  38.28 Mb RAM if we store M as described on slide 17.\n"
     ]
    }
   ],
   "source": [
    "# use data structures as described on slide 17.\n",
    "n_row = df.page_id_from.nunique() \n",
    "ram_numbers = (n_row*2+len(df))*8 * 1024**-2 # RAM for numbers (MB)\n",
    "ram_index   = (n_row * 48 + 80)   * 1024**-2 # RAM for records (MB)\n",
    "ram_p17= ram_numbers + ram_index\n",
    "print('We need %6.2f Mb RAM if we store M as described on slide 17.'%(ram_p17))"
   ]
  }
 ],
 "metadata": {
  "kernelspec": {
   "display_name": "Python [default]",
   "language": "python",
   "name": "python3"
  },
  "language_info": {
   "codemirror_mode": {
    "name": "ipython",
    "version": 3
   },
   "file_extension": ".py",
   "mimetype": "text/x-python",
   "name": "python",
   "nbconvert_exporter": "python",
   "pygments_lexer": "ipython3",
   "version": "3.5.3"
  }
 },
 "nbformat": 4,
 "nbformat_minor": 2
}
