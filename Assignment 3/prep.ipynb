{
 "cells": [
  {
   "cell_type": "markdown",
   "metadata": {},
   "source": [
    "# Data preprocessing "
   ]
  },
  {
   "cell_type": "code",
   "execution_count": 1,
   "metadata": {
    "collapsed": true
   },
   "outputs": [],
   "source": [
    "import numpy as np\n",
    "import pandas as pd\n",
    "import time"
   ]
  },
  {
   "cell_type": "markdown",
   "metadata": {},
   "source": [
    "## Try different preprocessing methods"
   ]
  },
  {
   "cell_type": "code",
   "execution_count": 30,
   "metadata": {
    "collapsed": true
   },
   "outputs": [],
   "source": [
    "def preprocess1(file_path):\n",
    "    df = pd.read_csv(file_path, sep='\\t')\n",
    "    df = df[['page_id_from','page_id_to']] #Extract only the 1st and the 3rd column\n",
    "    # Convert page_id’s into consecutive integers\n",
    "    uniqueIds = list(set(np.concatenate((df['page_id_to'].unique(),df['page_id_from'].unique()), axis=None)))\n",
    "    uniqueIds = pd.Series(uniqueIds )\n",
    "    new_page_id_from = [np.where(uniqueIds==x)[0][0] for x in df['page_id_from'].tolist()]\n",
    "    new_page_id_to =  [np.where(uniqueIds==x)[0][0] for x in df['page_id_to'].tolist()]\n",
    "    df['page_id_from']  = np.array(new_page_id_from)\n",
    "    df['page_id_to']  = np.array(new_page_id_to)\n",
    "    return df\n",
    "\n",
    "def preprocess2(file_path):\n",
    "    df = pd.read_csv(file_path, sep='\\t')\n",
    "    df = df[['page_id_from','page_id_to']] \n",
    "    # Convert page_id’s into consecutive integers\n",
    "    uniqueIds1 = df['page_id_from'].unique()\n",
    "    uniqueIds2 = df['page_id_to'][~df['page_id_to'].isin(uniqueIds1)].unique()\n",
    "    uniqueIds = np.concatenate((uniqueIds1,uniqueIds2), axis=None)\n",
    "    new_page_id_from = [np.where(uniqueIds==x)[0][0] for x in df['page_id_from'].tolist()]\n",
    "    new_page_id_to =  [np.where(uniqueIds==x)[0][0] for x in df['page_id_to'].tolist()]\n",
    "    df['page_id_from']  = np.array(new_page_id_from)\n",
    "    df['page_id_to']  = np.array(new_page_id_to)\n",
    "    return df\n",
    "\n",
    "def preprocess3(file_path):\n",
    "    df = pd.read_csv(file_path, sep='\\t')\n",
    "    df = df[['page_id_from','page_id_to']] \n",
    "    # Convert page_id’s into consecutive integers\n",
    "    uniqueIds1 = df['page_id_from'].unique()\n",
    "    uniqueIds2 = df['page_id_to'][~df['page_id_to'].isin(uniqueIds1)].unique()\n",
    "    uniqueIds = np.concatenate((uniqueIds1,uniqueIds2), axis=None)\n",
    "    df['page_id_from']  = df['page_id_from'].map(lambda x:np.where(uniqueIds==x)[0][0])\n",
    "    df['page_id_to']  = df['page_id_to'].map(lambda x:np.where(uniqueIds==x)[0][0])\n",
    "    return df\n",
    "\n",
    "def preprocess4(file_path):\n",
    "    df = pd.read_csv(file_path, sep='\\t')\n",
    "    df = df[['page_id_from','page_id_to']] \n",
    "    # Convert page_id’s into consecutive integers\n",
    "    uniqueIds1 = df['page_id_from'].unique()\n",
    "    uniqueIds2 = df['page_id_to'][~df['page_id_to'].isin(uniqueIds1)].unique()\n",
    "    uniqueIds = np.concatenate((uniqueIds1,uniqueIds2), axis=None)\n",
    "    # use a dictionary instead\n",
    "    dic = {v: k for k, v in enumerate(uniqueIds)}\n",
    "    df['page_id_from']  = df['page_id_from'].map(lambda x:dic[x])\n",
    "    df['page_id_to']  = df['page_id_to'].map(lambda x:dic[x])\n",
    "    return df"
   ]
  },
  {
   "cell_type": "code",
   "execution_count": 2,
   "metadata": {
    "collapsed": true
   },
   "outputs": [],
   "source": [
    "file_path = \"wikilink_graph.2002-03-01.csv\""
   ]
  },
  {
   "cell_type": "code",
   "execution_count": 20,
   "metadata": {},
   "outputs": [
    {
     "name": "stdout",
     "output_type": "stream",
     "text": [
      "0.5937988758087158\n"
     ]
    }
   ],
   "source": [
    "t0 = time.time()\n",
    "df = preprocess1(file_path)\n",
    "df.to_csv('graph_small.csv',index = False)\n",
    "print(time.time() - t0)"
   ]
  },
  {
   "cell_type": "code",
   "execution_count": 21,
   "metadata": {},
   "outputs": [
    {
     "name": "stdout",
     "output_type": "stream",
     "text": [
      "0.06493592262268066\n"
     ]
    }
   ],
   "source": [
    "t0 = time.time()\n",
    "df = preprocess2(file_path)\n",
    "df.to_csv('graph_small.csv',index = False)\n",
    "print(time.time() - t0)"
   ]
  },
  {
   "cell_type": "code",
   "execution_count": 22,
   "metadata": {},
   "outputs": [
    {
     "name": "stdout",
     "output_type": "stream",
     "text": [
      "0.06723690032958984\n"
     ]
    }
   ],
   "source": [
    "t0 = time.time()\n",
    "df = preprocess3(file_path)\n",
    "df.to_csv('graph_small.csv',index = False)\n",
    "print(time.time() - t0)"
   ]
  },
  {
   "cell_type": "code",
   "execution_count": 23,
   "metadata": {},
   "outputs": [
    {
     "name": "stdout",
     "output_type": "stream",
     "text": [
      "0.05719113349914551\n"
     ]
    }
   ],
   "source": [
    "t0 = time.time()\n",
    "df = preprocess4(file_path)\n",
    "df.to_csv('graph_small.csv',index = False)\n",
    "print(time.time() - t0)"
   ]
  },
  {
   "cell_type": "markdown",
   "metadata": {},
   "source": [
    "** After applying different methods on the small dataset, we will use the 4th method, which takes least amount of time.**\n",
    "\n",
    "##  Save the prepared data on HD"
   ]
  },
  {
   "cell_type": "code",
   "execution_count": 24,
   "metadata": {
    "collapsed": true
   },
   "outputs": [],
   "source": [
    "file_path = \"wikilink_graph.2004-03-01.csv\""
   ]
  },
  {
   "cell_type": "code",
   "execution_count": 33,
   "metadata": {
    "collapsed": true
   },
   "outputs": [],
   "source": [
    "df = preprocess4(file_path)\n",
    "df.to_csv('graph.csv',index = False)"
   ]
  }
 ],
 "metadata": {
  "kernelspec": {
   "display_name": "Python [default]",
   "language": "python",
   "name": "python3"
  },
  "language_info": {
   "codemirror_mode": {
    "name": "ipython",
    "version": 3
   },
   "file_extension": ".py",
   "mimetype": "text/x-python",
   "name": "python",
   "nbconvert_exporter": "python",
   "pygments_lexer": "ipython3",
   "version": "3.5.3"
  }
 },
 "nbformat": 4,
 "nbformat_minor": 2
}
