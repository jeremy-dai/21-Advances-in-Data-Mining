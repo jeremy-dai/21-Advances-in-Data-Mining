{
 "cells": [
  {
   "cell_type": "markdown",
   "metadata": {},
   "source": [
    "## Introduction\n",
    "In this experiment we are going to implement the Locality Sensitive Hashing(LSH) algorithm to find the possible similar pairs, and optimize the algorithm to find as many true pairs as possible in limited time.\n",
    "\n",
    "## Data preparation\n",
    "There are about 100.000 users that watched in total 17.770 movies;\n",
    "- Each user watched between 300 and 3000 movies\n",
    "- The file contains about 65.000.000 records (720 MB) of the form:\n",
    "`<user_id, movie_id> : “user_id watched movie_id”`\n",
    "- Similarity between users: Jaccard similarity of sets of movies they watched: \n",
    "``` \n",
    "jsim(S1, S2) = #intersect(S1, S2)/#union(S1, S2)\n",
    "``` "
   ]
  },
  {
   "cell_type": "code",
   "execution_count": 39,
   "metadata": {
    "collapsed": true
   },
   "outputs": [],
   "source": [
    "# import packages\n",
    "import numpy as np\n",
    "import pandas as pd\n",
    "import time\n",
    "import csv\n",
    "from collections import defaultdict\n",
    "#from scipy.sparse import csc_matrix\n",
    "import matplotlib.pyplot as plt\n",
    "%matplotlib inline  \n",
    "\n",
    "t0 = time.time()\n",
    "np.random.seed(seed=100)"
   ]
  },
  {
   "cell_type": "code",
   "execution_count": 40,
   "metadata": {},
   "outputs": [],
   "source": [
    "#  load the data\n",
    "FILE = '../data/user_movie.npy'\n",
    "df = pd.DataFrame(np.load(FILE), columns = ['user','movie']) #Read the data into dataframe\n",
    "\n",
    "m_by_u = df.groupby('user')['movie'].apply(list)"
   ]
  },
  {
   "cell_type": "code",
   "execution_count": 41,
   "metadata": {},
   "outputs": [
    {
     "name": "stdout",
     "output_type": "stream",
     "text": [
      "Packages importing and data preparation takes 0.50 minutes\n"
     ]
    }
   ],
   "source": [
    "import_time = round(time.time()-t0)# Calculate the importing time\n",
    "print(\"Packages importing and data preparation take {0:.2f} minutes\".format(import_time/60))"
   ]
  },
  {
   "cell_type": "markdown",
   "metadata": {},
   "source": [
    "## MinHash\n",
    "\n",
    "The dataset is so small that random permutations is used instead of hash functions. \n",
    "In this way we can avoid time consuming loops."
   ]
  },
  {
   "cell_type": "markdown",
   "metadata": {},
   "source": [
    "Note: we have compared the computing time for two minhashing function.\n",
    "1. use csc_matrix with two loops (signature then user)\n",
    "2. use one loop for users, calculating all sigatures for one user at the same time\n",
    "\n",
    "**The second method takes about half of them of the 1st one. Therefore, we adopt the second method for minhashing.**"
   ]
  },
  {
   "cell_type": "code",
   "execution_count": 42,
   "metadata": {
    "collapsed": true
   },
   "outputs": [],
   "source": [
    "# Relatively short signatures (50-150) should result in good results (and take less time to compute)\n",
    "n_sig = 150"
   ]
  },
  {
   "cell_type": "code",
   "execution_count": 43,
   "metadata": {},
   "outputs": [
    {
     "name": "stdout",
     "output_type": "stream",
     "text": [
      "Method 1, discarded due to slowness\n"
     ]
    }
   ],
   "source": [
    "print('Method 1 is discarded due to slowness')\n",
    "\n",
    "# set user as the column, movie as the row in the sparse matrix\n",
    "#mat = csc_matrix(([1]*df.shape[0], (df.iloc[:,1], df.iloc[:,0])))\n",
    "\n",
    "#n_movie = mat.shape[0]\n",
    "#n_user = mat.shape[1]\n",
    "\n",
    "def minhashing(mat, n_sig = n_sig):\n",
    "    # create the sig matrix using minhashing\n",
    "    sig_matrix = np.zeros([n_sig, n_user])\n",
    "    for i in range(n_sig):\n",
    "        perm = mat[np.random.permutation(n_movie)]\n",
    "        for j in range(n_user):\n",
    "            sig_matrix[i,j] = int(perm.indices[perm.indptr[j]:perm.indptr[j+1]].min())\n",
    "        if i%10==9: # check the progress\n",
    "            print(n_sig - i - 1,' signatures remaining to be created')\n",
    "    return sig_matrix\n",
    "#sig_matrix = minhashing(mat,n_sig)\n",
    "\n",
    "#cal_time = round(time.time()-import_time)\n",
    "#print(\"Minhashing takes {0:.2f} minutes\".format(cal_time/60))"
   ]
  },
  {
   "cell_type": "code",
   "execution_count": 44,
   "metadata": {},
   "outputs": [
    {
     "name": "stdout",
     "output_type": "stream",
     "text": [
      "103702  users remaining\n",
      "93702  users remaining\n",
      "83702  users remaining\n",
      "73702  users remaining\n",
      "63702  users remaining\n",
      "53702  users remaining\n",
      "43702  users remaining\n",
      "33702  users remaining\n",
      "23702  users remaining\n",
      "13702  users remaining\n",
      "3702  users remaining\n"
     ]
    }
   ],
   "source": [
    "n_movie = df.movie.max()+1\n",
    "n_user = df.user.max()+1\n",
    "\n",
    "def minhashing2(m_by_u, n_sig = n_sig):\n",
    "    # create the permuation matrix of shape (n_sig, n_movie)\n",
    "    perm_matrix = np.array([np.random.permutation(n_movie) for i in range(n_sig)])\n",
    "    sig_matrix = np.zeros([n_sig, n_user])\n",
    "    \n",
    "    # loop through users instead of permuations to fill in permuation matrix\n",
    "    for i,item in m_by_u.items():\n",
    "        sig =  perm_matrix[:,item].min(axis=1)\n",
    "        sig_matrix[:,i] = sig\n",
    "        # check the progress: print out how many users remaining\n",
    "        if i%10000==0: \n",
    "            print(n_user - i - 1,' users remaining')\n",
    "    return sig_matrix\n",
    "sig_matrix = minhashing2(m_by_u,n_sig)"
   ]
  },
  {
   "cell_type": "code",
   "execution_count": 45,
   "metadata": {},
   "outputs": [
    {
     "name": "stdout",
     "output_type": "stream",
     "text": [
      "Minhashing completed, taking 1.65 minutes\n"
     ]
    }
   ],
   "source": [
    "cal_time = round(time.time()-t0)\n",
    "print(\"Minhashing completed, taking {0:.2f} minutes\".format(cal_time/60 - import_time/60))"
   ]
  },
  {
   "cell_type": "code",
   "execution_count": 46,
   "metadata": {
    "collapsed": true
   },
   "outputs": [],
   "source": [
    "# save/load sig matrix to save time\n",
    "# np.savetxt('sig.txt', sig_matrix, fmt='%d')\n",
    "# sig_matrix = np.loadtxt('sig.txt', dtype=int)"
   ]
  },
  {
   "cell_type": "markdown",
   "metadata": {},
   "source": [
    "## Implement the LSH algorithm\n",
    "\n",
    "### jsim functions for signatures matrix and movies by user list"
   ]
  },
  {
   "cell_type": "code",
   "execution_count": 47,
   "metadata": {
    "collapsed": true
   },
   "outputs": [],
   "source": [
    "def check_estimate_pair(pair,n_sig):\n",
    "    # check if the pair from the bucket is similar based on sig matrix\n",
    "    sigi = sig_matrix[:,pair[0]]#.tolist()#.ravel().tolist()[0]\n",
    "    sigj = sig_matrix[:,pair[1]]#.tolist()#.ravel().tolist()[0]\n",
    "    # estimate_jsim\n",
    "    intersect = np.count_nonzero(sigi == sigj)\n",
    "    jsim = intersect/n_sig\n",
    "    if jsim > 0.40:\n",
    "        return True\n",
    "\n",
    "def check_true_pair(pair):\n",
    "    # check if the similar pair based on sig matrix is a true pair based on original data\n",
    "    a = m_by_u[pair[0]]\n",
    "    b = m_by_u[pair[1]]\n",
    "    intersect = len(set(a) & set(b))\n",
    "    union = len(a) + len(b) - intersect\n",
    "    jsim = intersect/union\n",
    "    if jsim > 0.5:\n",
    "        return True"
   ]
  },
  {
   "cell_type": "markdown",
   "metadata": {},
   "source": [
    "### Choosing bands, rows and the bucket selection creteria\n",
    "When there are many users that fall into the same bucket then checking if all the potential pairs are really similar might be very expensive, we will leave the bucket with more than 300 items for later. "
   ]
  },
  {
   "cell_type": "code",
   "execution_count": 48,
   "metadata": {
    "collapsed": true
   },
   "outputs": [],
   "source": [
    "bands = 30\n",
    "rows = 5\n",
    "max_bucket_item = 300"
   ]
  },
  {
   "cell_type": "markdown",
   "metadata": {},
   "source": [
    "we have compared the results for two hashing functions.\n",
    "1. use sum of the band as the hashing function\n",
    "2. use the tuple of numbers and default hash() \n",
    "\n",
    "**The second method dramatically decrease the number of false postive items. We adopt the second method for our assignment**"
   ]
  },
  {
   "cell_type": "code",
   "execution_count": 49,
   "metadata": {
    "collapsed": true
   },
   "outputs": [],
   "source": [
    "def LSH_bucket(sig_matrix, max_bucket_item = 25):\n",
    "    unique_pairs = set() \n",
    "    for b in range(bands):\n",
    "        bucket_list = defaultdict(set) # remove the duplicate items\n",
    "        s = np.sum(sig_matrix[b*rows:(b+1)*rows,:], axis =0)\n",
    "        for index, x in np.ndenumerate(s):\n",
    "            bucket_list[x].add(index[0])\n",
    "        for key, value in bucket_list.items():\n",
    "            if len(value) > 1 and len(value) < max_bucket_item: \n",
    "                for i in value:\n",
    "                    for j in value:\n",
    "                        if i < j and ((i,j) not in unique_pairs): # remove the duplicate pair\n",
    "                            unique_pairs.add((i,j))\n",
    "    return unique_pairs"
   ]
  },
  {
   "cell_type": "code",
   "execution_count": 50,
   "metadata": {
    "collapsed": true
   },
   "outputs": [],
   "source": [
    "def LSH_bucket_2(sig_matrix, max_bucket_item = 25):\n",
    "    unique_pairs = set() \n",
    "    for b in range(bands):\n",
    "        bucket_list = defaultdict(set) # remove the duplicate items\n",
    "        df = pd.DataFrame(sig_matrix[b*rows:(b+1)*rows,:])\n",
    "        h = df.apply(lambda x: hash(tuple(x)), axis = 0)\n",
    "        for index, x in np.ndenumerate(h):\n",
    "            bucket_list[x].add(index[0])\n",
    "        for key, value in bucket_list.items():\n",
    "            if len(value) > 1 and len(value) < max_bucket_item: \n",
    "                for i in value:\n",
    "                    for j in value:\n",
    "                        if i < j and ((i,j) not in unique_pairs): # remove the duplicate pair\n",
    "                            unique_pairs.add((i,j))\n",
    "    return unique_pairs"
   ]
  },
  {
   "cell_type": "markdown",
   "metadata": {},
   "source": [
    "## Check, no write out"
   ]
  },
  {
   "cell_type": "code",
   "execution_count": 51,
   "metadata": {},
   "outputs": [],
   "source": [
    "def print_not_write():\n",
    "    unique_pairs = LSH_bucket_2(sig_matrix,max_bucket_item)\n",
    "    print('Unique pairs: ',len(unique_pairs))\n",
    "\n",
    "    sim_pairs = []\n",
    "    for pair in unique_pairs:\n",
    "        if check_estimate_pair(pair,n_sig):\n",
    "            sim_pairs.append(pair)\n",
    "    print('Similar pairs based on sig matrix: ',len(sim_pairs))\n",
    "\n",
    "    true_pairs = []\n",
    "    for pair in sim_pairs:\n",
    "        if check_true_pair(pair):\n",
    "            true_pairs.append(pair) \n",
    "    print('True similar pairs: ', len(true_pairs))\n",
    "#print_not_write()\n",
    "\n",
    "#cal_time = round(time.time()-t0)\n",
    "#print(\"Total running time is {0:.2f} minutes\".format(cal_time/60)) "
   ]
  },
  {
   "cell_type": "markdown",
   "metadata": {},
   "source": [
    "## Optimization of LSH\n",
    "The aim of this experiment is to use LSH find as more true similar pairs as possible in limited time(30 minutes). Therefore, we only consider the running time and the number of true similar pairs(igroring the precision). We are going to maximize the number of similar pairs within 30 minutes by tuning the parametres of LSH. \n",
    " \n",
    "Generally, higher number of bands implies lower similarity threshold, so the algorithm might find more similar pairs if we increase the number of bands[1], but the running time will be longer and the number of false positive will also increase which cost more memory. We tried several groups of the parametres and record the number of true similar pairs found and the running time.\n",
    "\n",
    "- Suppose user1, user2 has s similarity\n",
    "- Then probability user1, user2 identical in one particular band: s^r\n",
    "- Probability that the signatures agree on one row (1-s^r)^b\n",
    "- Probability user1, user2 identical in at least one band: 1 - (1-s^r)^b\n",
    "\n",
    "If we have 150 signatures, the probability of detection for different similarity can be shown in the following figure."
   ]
  },
  {
   "cell_type": "code",
   "execution_count": 52,
   "metadata": {},
   "outputs": [
    {
     "data": {
      "image/png": "[encoded data removed]",
      "text/plain": [
       "<Figure size 432x288 with 1 Axes>"
      ]
     },
     "metadata": {},
     "output_type": "display_data"
    }
   ],
   "source": [
    "s = np.linspace(0,1,300)\n",
    "for b in [10,15,25,30,50]:\n",
    "    plt.plot(s,1 - (1-s**(150/b))**b, label = b)\n",
    "    plt.legend(loc='upper left', frameon=False) \n",
    "    plt.xlabel('s')\n",
    "    plt.xlabel('Probability of detection')"
   ]
  },
  {
   "cell_type": "markdown",
   "metadata": {},
   "source": [
    "Too many slices would give a lot of false positives while too few slices would only be able to identify the highest degrees of similarity. From the figure, we can see the b = 25 or 30 seems a good option. In the following table we list the result."
   ]
  },
  {
   "cell_type": "markdown",
   "metadata": {},
   "source": [
    "| Group                               | 1        | 2 |  |3|  |4| |\n",
    "|-----------------------------------|----------|---|---|\n",
    "| bands                             | 10       | 15 |   |25| |30| |\n",
    "| rows                              | 15        |10   |   |6|   |5|  |\n",
    "| True Pairs                     | 1           |  26 |   |373|  |633|    |\n",
    "| Running Time(min)              | 0.68     |  1.02 |  |4.30| |8.92| |\n"
   ]
  },
  {
   "cell_type": "markdown",
   "metadata": {},
   "source": [
    "When the number of bands is greater than 30, we found there are so many candidates(posible similar pairs) that it has reached the limit of our computer. So in this experiment we choiced 30 as the optimal number of bands."
   ]
  },
  {
   "cell_type": "markdown",
   "metadata": {},
   "source": [
    "## Write to text file, for final submital"
   ]
  },
  {
   "cell_type": "code",
   "execution_count": 56,
   "metadata": {},
   "outputs": [],
   "source": [
    "'''\n",
    "To make sure the program will not exceed the required runtime,\n",
    "we will close the result.txt file after any new pair is appended to it\n",
    "'''\n",
    "def LSH_bucket_true_paris(sig_matrix, max_bucket_item = 25): \n",
    "    unique_pairs = set() \n",
    "    large_bucket = [] # to save large buckets\n",
    "    for b in range(bands):\n",
    "        bucket_list = defaultdict(set)\n",
    "        df = pd.DataFrame(sig_matrix[b*rows:(b+1)*rows,:])\n",
    "        h = df.apply(lambda x: hash(tuple(x)), axis = 0)\n",
    "        for index, x in np.ndenumerate(h):\n",
    "            # create the buckets\n",
    "            bucket_list[x].add(index[0])\n",
    "        # loop through the buckets\n",
    "        for key, value in bucket_list.items():\n",
    "            if len(value) > 1:\n",
    "                if len(value) > max_bucket_item: \n",
    "                    large_bucket.append(value)\n",
    "                else:\n",
    "                    # find unqiue pairs\n",
    "                    for i in value:\n",
    "                        for j in value:\n",
    "                            if i < j and ((i,j) not in unique_pairs): # remove the duplicate pair\n",
    "                                unique_pairs.add((i,j))\n",
    "                                if check_estimate_pair((i,j),n_sig): # if the pairs are similar based on sig matrix\n",
    "                                    if check_true_pair((i,j)): # if the paris are truly similar based on raw data\n",
    "                                        with open('ans.txt','a') as file:\n",
    "                                            # write this pair to ans.txt\n",
    "                                            writer = csv.DictWriter(file,fieldnames=['user1', 'user2'])\n",
    "                                            writer.writerow({'user1':i,'user2':j})\n",
    "    # process large buckets\n",
    "    print('Process buckets with more than 30 users')\n",
    "    for value in large_bucket:\n",
    "        for i in value:\n",
    "            for j in value:\n",
    "                if i < j and ((i,j) not in unique_pairs):\n",
    "                    unique_pairs.add((i,j))\n",
    "                    if check_estimate_pair((i,j),n_sig): # if the pairs are similar based on sig matrix\n",
    "                        if check_true_pair((i,j)): # if the paris are truly similar based on raw data\n",
    "                            with open('ans.txt','a') as file:\n",
    "                                writer = csv.DictWriter(file,fieldnames=['user1', 'user2'])\n",
    "                                writer.writerow({'user1':i,'user2':j})            "
   ]
  },
  {
   "cell_type": "code",
   "execution_count": null,
   "metadata": {
    "collapsed": true
   },
   "outputs": [],
   "source": [
    "LSH_bucket_true_paris(sig_matrix,max_bucket_item)"
   ]
  },
  {
   "cell_type": "markdown",
   "metadata": {},
   "source": [
    "## Total Time"
   ]
  },
  {
   "cell_type": "code",
   "execution_count": null,
   "metadata": {},
   "outputs": [],
   "source": [
    "cal_time = round(time.time()-t0)\n",
    "print(\"Total running time is {0:.2f} minutes\".format(cal_time/60))"
   ]
  },
  {
   "cell_type": "markdown",
   "metadata": {},
   "source": [
    "## Conclusion and Future Work\n",
    "In this experiment we implement the Locality Sensitive Hashing(LSH) and optimize the number of bands(number of raws within each band). We found 633 pairs within limited time (when disgarding buckets with more than 300 items. "
   ]
  },
  {
   "cell_type": "markdown",
   "metadata": {},
   "source": [
    "## Reference:\n",
    "[1]Gupta, S. (2019, April 1). Locality Sensitive Hashing. Retrieved from https://towardsdatascience.com/understanding-locality-sensitive-hashing-49f6d1f6134.\n",
    "\n",
    "[2][hash tuple](https://stackoverflow.com/questions/25757042/create-hash-value-for-each-row-of-data-with-selected-columns-in-dataframe-in-pyt/25757564)\n",
    "\n",
    "[3][hash string](https://www.pythoncentral.io/hashing-strings-with-python/)"
   ]
  },
  {
   "cell_type": "code",
   "execution_count": null,
   "metadata": {
    "collapsed": true
   },
   "outputs": [],
   "source": []
  }
 ],
 "metadata": {
  "kernelspec": {
   "display_name": "Python [default]",
   "language": "python",
   "name": "python3"
  },
  "language_info": {
   "codemirror_mode": {
    "name": "ipython",
    "version": 3
   },
   "file_extension": ".py",
   "mimetype": "text/x-python",
   "name": "python",
   "nbconvert_exporter": "python",
   "pygments_lexer": "ipython3",
   "version": "3.5.3"
  }
 },
 "nbformat": 4,
 "nbformat_minor": 2
}
