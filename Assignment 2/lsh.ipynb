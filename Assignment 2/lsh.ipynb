{
 "cells": [
  {
   "cell_type": "markdown",
   "metadata": {},
   "source": [
    "## Introduction\n",
    "About 100.000 users that watched in total 17.770 movies;\n",
    "- Each user watched between 300 and 3000 movies\n",
    "- The file contains about 65.000.000 records (720 MB) of the form:\n",
    "`<user_id, movie_id> : “user_id watched movie_id”`\n",
    "- Similarity between users: Jaccard similarity of sets of movies they watched: \n",
    "``` \n",
    "jsim(S1, S2) = #intersect(S1, S2)/#union(S1, S2)\n",
    "``` \n",
    "- Task: find (with help of LSH) pairs of users whose jsim > 0.5\n",
    "\n",
    "Process:\n",
    "1. Tune it (signature length, number of bands, number of rows per band)\n",
    "2. Randomize, optimize, benchmark, polish the code, ...\n",
    "3. Dump results to a text file ans.txt (just a csv list of records: user1, user2) \n",
    "\n",
    "## Data preparation"
   ]
  },
  {
   "cell_type": "code",
   "execution_count": 148,
   "metadata": {
    "collapsed": true
   },
   "outputs": [],
   "source": [
    "# import packages\n",
    "import numpy as np\n",
    "import pandas as pd\n",
    "import time\n",
    "import csv\n",
    "from collections import defaultdict\n",
    "from scipy.sparse import csc_matrix\n",
    "\n",
    "t0 = time.time()\n",
    "np.random.seed(seed=20)"
   ]
  },
  {
   "cell_type": "code",
   "execution_count": 149,
   "metadata": {},
   "outputs": [],
   "source": [
    "#  load the data\n",
    "FILE = '../data/user_movie.npy'\n",
    "df = pd.DataFrame(np.load(FILE), columns = ['user','movie'])\n",
    "\n",
    "m_by_u = df.groupby('user')['movie'].apply(list)\n",
    "n_movie = len(df.movie.unique())"
   ]
  },
  {
   "cell_type": "markdown",
   "metadata": {},
   "source": [
    "## MinHash\n",
    "\n",
    "The dataset is so small that random permutations is used instead of hash functions. \n",
    "In this way we can avoid time consuming loops."
   ]
  },
  {
   "cell_type": "code",
   "execution_count": 150,
   "metadata": {
    "collapsed": true
   },
   "outputs": [],
   "source": [
    "# set user as the column, movie as the row in the sparse matrix\n",
    "mat = csc_matrix(([1]*df.shape[0], (df.iloc[:,1], df.iloc[:,0])))"
   ]
  },
  {
   "cell_type": "code",
   "execution_count": 151,
   "metadata": {
    "collapsed": true
   },
   "outputs": [],
   "source": [
    "# Relatively short signatures (50-150) should result in good results (and take less time to compute).\n",
    "n_sig = 90"
   ]
  },
  {
   "cell_type": "code",
   "execution_count": 152,
   "metadata": {},
   "outputs": [],
   "source": [
    "def minhashing(mat, n_sig = n_sig):\n",
    "    # create the sig matrix using minhashing\n",
    "    sig_matrix = np.array([])\n",
    "    for i in range(n_sig):\n",
    "        perm = mat[np.random.permutation(n_movie)]\n",
    "        # return the index of the first occurrence of 1\n",
    "        sig = perm.argmax(axis=0)\n",
    "        if sig_matrix.any():\n",
    "            sig_matrix = np.vstack((sig_matrix,sig))\n",
    "        else:\n",
    "            sig_matrix = sig\n",
    "        if i%10==0 and i: # check the progress\n",
    "            print(i,' signatures have been created')\n",
    "    return sig_matrix"
   ]
  },
  {
   "cell_type": "code",
   "execution_count": 153,
   "metadata": {},
   "outputs": [
    {
     "name": "stdout",
     "output_type": "stream",
     "text": [
      "10  signatures have been created\n",
      "20  signatures have been created\n",
      "30  signatures have been created\n",
      "40  signatures have been created\n",
      "50  signatures have been created\n",
      "60  signatures have been created\n",
      "70  signatures have been created\n",
      "80  signatures have been created\n"
     ]
    }
   ],
   "source": [
    "sig_matrix = minhashing(mat,n_sig)"
   ]
  },
  {
   "cell_type": "code",
   "execution_count": 154,
   "metadata": {},
   "outputs": [
    {
     "name": "stdout",
     "output_type": "stream",
     "text": [
      "From data importing to minhashing, it takes 11.55 minutes\n"
     ]
    }
   ],
   "source": [
    "cal_time = round(time.time()-t0)\n",
    "print(\"From data importing to minhashing, it takes {0:.2f} minutes\".format(cal_time/60))"
   ]
  },
  {
   "cell_type": "code",
   "execution_count": 155,
   "metadata": {},
   "outputs": [
    {
     "data": {
      "text/plain": [
       "(90, 103703)"
      ]
     },
     "execution_count": 155,
     "metadata": {},
     "output_type": "execute_result"
    }
   ],
   "source": [
    "# check the dimension of the sig matrix\n",
    "sig_matrix.shape"
   ]
  },
  {
   "cell_type": "markdown",
   "metadata": {},
   "source": [
    "## Implement the LSH algorithm\n",
    "\n",
    "When there are many users that fall into the same bucket (i.e., there are many candidates for being similar to each other) then checking if all the potential pairs are really similar might be very expensive: you have to check k(k-1)/2 pairs, when the bucket has k elements. Postpone evaluation of such a bucket till the very end (or just ignore it – they are really expensive). Or better: consider increasing the number of rows per band – that will reduce the chance of encountering big buckets.\n",
    "\n",
    "Note that b*r doesn’t have to be exactly the length of the signature. For example, when you work with signature of length n=100, you may consider e.g., b=3, r=33, b=6, r=15, etc. – any combination of b\n",
    " \n",
    "To make sure that your program will not exceed the 30 minutes runtime you are advised to close the result.txt file after any new pair is appended to it (and open it again, when you want to append a new one)."
   ]
  },
  {
   "cell_type": "code",
   "execution_count": 156,
   "metadata": {
    "collapsed": true
   },
   "outputs": [],
   "source": [
    "def calculate_jsim(a,b):\n",
    "    intersect = len(set(a) & set(b))\n",
    "    union = len(a) + len(b) - intersect\n",
    "    jsim = intersect/union\n",
    "    return jsim"
   ]
  },
  {
   "cell_type": "code",
   "execution_count": 157,
   "metadata": {
    "collapsed": true
   },
   "outputs": [],
   "source": [
    "def check_unique_pair(pair):\n",
    "    # check if the pair from the bucket is similar based on sig matrix\n",
    "    sigi = sig_matrix[:,pair[0]].ravel().tolist()[0]\n",
    "    sigj = sig_matrix[:,pair[1]].ravel().tolist()[0]\n",
    "    jsim = calculate_jsim(sigi, sigj)\n",
    "    if jsim > 0.5:\n",
    "        return True\n",
    "\n",
    "def check_true_pair(pair):\n",
    "    # check if the similar pair based on sig matrix is a true pair\n",
    "    jsim = calculate_jsim(m_by_u[pair[0]], m_by_u[pair[1]])\n",
    "    if jsim > 0.5:\n",
    "        return True"
   ]
  },
  {
   "cell_type": "markdown",
   "metadata": {},
   "source": [
    "Too many slices would give a lot of false positives while too few slices would only be able to identify the highest degrees of similarity."
   ]
  },
  {
   "cell_type": "code",
   "execution_count": 163,
   "metadata": {
    "collapsed": true
   },
   "outputs": [],
   "source": [
    "bands = 3\n",
    "rows = 30\n",
    "max_bucket_item = 80"
   ]
  },
  {
   "cell_type": "markdown",
   "metadata": {},
   "source": [
    "## Check, no write out"
   ]
  },
  {
   "cell_type": "code",
   "execution_count": 159,
   "metadata": {
    "collapsed": true
   },
   "outputs": [],
   "source": [
    "def LSH_bucket(sig_matrix, max_bucket_item = 25):\n",
    "    unique_pairs = set() \n",
    "    for b in range(bands):\n",
    "        bucket_list = defaultdict(set) # remove the duplicate items\n",
    "        s = np.sum(sig_matrix[b*rows:(b+1)*rows,:], axis =0)\n",
    "        for index, x in np.ndenumerate(s):\n",
    "            bucket_list[x].add(index[1])\n",
    "        for key, value in bucket_list.items():\n",
    "            if len(value) > 1 and len(value) < max_bucket_item: \n",
    "                for i in value:\n",
    "                    for j in value:\n",
    "                        if i < j and ((i,j) not in unique_pairs): # remove the duplicate pair\n",
    "                            unique_pairs.add((i,j))\n",
    "    return unique_pairs"
   ]
  },
  {
   "cell_type": "code",
   "execution_count": 160,
   "metadata": {},
   "outputs": [
    {
     "name": "stdout",
     "output_type": "stream",
     "text": [
      "Unique pairs:  813429\n",
      "Similar pairs based on sig matrix:  0\n",
      "True similar pairs:  []\n"
     ]
    }
   ],
   "source": [
    "def print_not_write():\n",
    "    unique_pairs = LSH_bucket(sig_matrix,max_bucket_item)\n",
    "    print('Unique pairs: ',len(unique_pairs))\n",
    "\n",
    "    sim_pairs = []\n",
    "    for pair in unique_pairs:\n",
    "        if check_unique_pair(pair):\n",
    "            sim_pairs.append(t_pair)\n",
    "    print('Similar pairs based on sig matrix: ',len(sim_pairs))\n",
    "\n",
    "    true_pairs = []\n",
    "    for pair in sim_pairs:\n",
    "        if check_true_pair(pair):\n",
    "            true_pairs.append(pair) \n",
    "    print('True similar pairs: ', true_pairs)  \n",
    "print_not_write()"
   ]
  },
  {
   "cell_type": "markdown",
   "metadata": {},
   "source": [
    "## Write to text file, for final submital"
   ]
  },
  {
   "cell_type": "code",
   "execution_count": 164,
   "metadata": {},
   "outputs": [],
   "source": [
    "def LSH_bucket_true_paris(sig_matrix, max_bucket_item = 25): \n",
    "    unique_pairs = set() \n",
    "    for b in range(bands):\n",
    "        bucket_list = defaultdict(set) # remove the duplicate items\n",
    "        s = np.sum(sig_matrix[b*rows:(b+1)*rows,:], axis =0)\n",
    "        for index, x in np.ndenumerate(s):\n",
    "            bucket_list[x].add(index[1])\n",
    "        for key, value in bucket_list.items():\n",
    "            if len(value) > 1 and len(value) < max_bucket_item: \n",
    "                for i in value:\n",
    "                    for j in value:\n",
    "                        if i < j and ((i,j) not in unique_pairs): # remove the duplicate pair\n",
    "                            unique_pairs.add((i,j))\n",
    "                            if check_unique_pair((i,j)):\n",
    "                                if check_true_pair((i,j)):\n",
    "                                    with open('ans.txt','a') as file:\n",
    "                                        writer = csv.DictWriter(file,fieldnames=['user1', 'user2'])\n",
    "                                        writer.writerow({'user1':i,'user2':j})\n",
    "#LSH_bucket_true_paris(sig_matrix,max_bucket_item)"
   ]
  },
  {
   "cell_type": "markdown",
   "metadata": {},
   "source": [
    "## Total Time"
   ]
  },
  {
   "cell_type": "code",
   "execution_count": 162,
   "metadata": {},
   "outputs": [
    {
     "name": "stdout",
     "output_type": "stream",
     "text": [
      "Total running time is 12.47 minutes\n"
     ]
    }
   ],
   "source": [
    "cal_time = round(time.time()-t0)\n",
    "print(\"Total running time is {0:.2f} minutes\".format(cal_time/60))"
   ]
  },
  {
   "cell_type": "markdown",
   "metadata": {},
   "source": [
    "Reference:\n",
    "- "
   ]
  }
 ],
 "metadata": {
  "kernelspec": {
   "display_name": "Python [default]",
   "language": "python",
   "name": "python3"
  },
  "language_info": {
   "codemirror_mode": {
    "name": "ipython",
    "version": 3
   },
   "file_extension": ".py",
   "mimetype": "text/x-python",
   "name": "python",
   "nbconvert_exporter": "python",
   "pygments_lexer": "ipython3",
   "version": "3.5.3"
  }
 },
 "nbformat": 4,
 "nbformat_minor": 2
}
