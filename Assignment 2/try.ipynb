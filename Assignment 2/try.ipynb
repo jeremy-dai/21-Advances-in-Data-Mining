{
 "cells": [
  {
   "cell_type": "code",
   "execution_count": 1,
   "metadata": {
    "collapsed": true
   },
   "outputs": [],
   "source": [
    "# import packages\n",
    "import numpy as np\n",
    "import pandas as pd\n",
    "from collections import defaultdict\n",
    "from scipy.sparse import csc_matrix\n",
    "np.random.seed(seed=2019)\n",
    "\n",
    "#  load the data\n",
    "FILE = '../data/user_movie.npy'\n",
    "df = pd.DataFrame(np.load(FILE), columns = ['user','movie'])"
   ]
  },
  {
   "cell_type": "code",
   "execution_count": 159,
   "metadata": {},
   "outputs": [
    {
     "name": "stdout",
     "output_type": "stream",
     "text": [
      "Loading data...\n",
      "Constructing user-movie sets...\n"
     ]
    },
    {
     "ename": "TypeError",
     "evalue": "'(slice(None, None, None), 0)' is an invalid key",
     "output_type": "error",
     "traceback": [
      "\u001b[0;31m---------------------------------------------------------------------------\u001b[0m",
      "\u001b[0;31mTypeError\u001b[0m                                 Traceback (most recent call last)",
      "\u001b[0;32m<ipython-input-159-9b16170d5ff9>\u001b[0m in \u001b[0;36m<module>\u001b[0;34m\u001b[0m\n\u001b[1;32m     30\u001b[0m \u001b[0;34m\u001b[0m\u001b[0m\n\u001b[1;32m     31\u001b[0m \u001b[0mprint\u001b[0m\u001b[0;34m(\u001b[0m\u001b[0;34m\"Constructing user-movie sets...\"\u001b[0m\u001b[0;34m)\u001b[0m\u001b[0;34m\u001b[0m\u001b[0;34m\u001b[0m\u001b[0m\n\u001b[0;32m---> 32\u001b[0;31m \u001b[0mn\u001b[0m \u001b[0;34m=\u001b[0m \u001b[0mnp\u001b[0m\u001b[0;34m.\u001b[0m\u001b[0mmax\u001b[0m\u001b[0;34m(\u001b[0m\u001b[0mdata\u001b[0m\u001b[0;34m[\u001b[0m\u001b[0;34m:\u001b[0m\u001b[0;34m,\u001b[0m\u001b[0;36m0\u001b[0m\u001b[0;34m]\u001b[0m\u001b[0;34m)\u001b[0m \u001b[0;34m+\u001b[0m \u001b[0;36m1\u001b[0m \u001b[0;31m# the number of users\u001b[0m\u001b[0;34m\u001b[0m\u001b[0;34m\u001b[0m\u001b[0m\n\u001b[0m\u001b[1;32m     33\u001b[0m \u001b[0;34m\u001b[0m\u001b[0m\n\u001b[1;32m     34\u001b[0m \u001b[0;31m# for each user, construct a set that contains the movies this user has rated\u001b[0m\u001b[0;34m\u001b[0m\u001b[0;34m\u001b[0m\u001b[0;34m\u001b[0m\u001b[0m\n",
      "\u001b[0;32m~/anaconda/envs/p36/lib/python3.6/site-packages/pandas/core/frame.py\u001b[0m in \u001b[0;36m__getitem__\u001b[0;34m(self, key)\u001b[0m\n\u001b[1;32m   2925\u001b[0m             \u001b[0;32mif\u001b[0m \u001b[0mself\u001b[0m\u001b[0;34m.\u001b[0m\u001b[0mcolumns\u001b[0m\u001b[0;34m.\u001b[0m\u001b[0mnlevels\u001b[0m \u001b[0;34m>\u001b[0m \u001b[0;36m1\u001b[0m\u001b[0;34m:\u001b[0m\u001b[0;34m\u001b[0m\u001b[0;34m\u001b[0m\u001b[0m\n\u001b[1;32m   2926\u001b[0m                 \u001b[0;32mreturn\u001b[0m \u001b[0mself\u001b[0m\u001b[0;34m.\u001b[0m\u001b[0m_getitem_multilevel\u001b[0m\u001b[0;34m(\u001b[0m\u001b[0mkey\u001b[0m\u001b[0;34m)\u001b[0m\u001b[0;34m\u001b[0m\u001b[0;34m\u001b[0m\u001b[0m\n\u001b[0;32m-> 2927\u001b[0;31m             \u001b[0mindexer\u001b[0m \u001b[0;34m=\u001b[0m \u001b[0mself\u001b[0m\u001b[0;34m.\u001b[0m\u001b[0mcolumns\u001b[0m\u001b[0;34m.\u001b[0m\u001b[0mget_loc\u001b[0m\u001b[0;34m(\u001b[0m\u001b[0mkey\u001b[0m\u001b[0;34m)\u001b[0m\u001b[0;34m\u001b[0m\u001b[0;34m\u001b[0m\u001b[0m\n\u001b[0m\u001b[1;32m   2928\u001b[0m             \u001b[0;32mif\u001b[0m \u001b[0mis_integer\u001b[0m\u001b[0;34m(\u001b[0m\u001b[0mindexer\u001b[0m\u001b[0;34m)\u001b[0m\u001b[0;34m:\u001b[0m\u001b[0;34m\u001b[0m\u001b[0;34m\u001b[0m\u001b[0m\n\u001b[1;32m   2929\u001b[0m                 \u001b[0mindexer\u001b[0m \u001b[0;34m=\u001b[0m \u001b[0;34m[\u001b[0m\u001b[0mindexer\u001b[0m\u001b[0;34m]\u001b[0m\u001b[0;34m\u001b[0m\u001b[0;34m\u001b[0m\u001b[0m\n",
      "\u001b[0;32m~/anaconda/envs/p36/lib/python3.6/site-packages/pandas/core/indexes/base.py\u001b[0m in \u001b[0;36mget_loc\u001b[0;34m(self, key, method, tolerance)\u001b[0m\n\u001b[1;32m   2655\u001b[0m                                  'backfill or nearest lookups')\n\u001b[1;32m   2656\u001b[0m             \u001b[0;32mtry\u001b[0m\u001b[0;34m:\u001b[0m\u001b[0;34m\u001b[0m\u001b[0;34m\u001b[0m\u001b[0m\n\u001b[0;32m-> 2657\u001b[0;31m                 \u001b[0;32mreturn\u001b[0m \u001b[0mself\u001b[0m\u001b[0;34m.\u001b[0m\u001b[0m_engine\u001b[0m\u001b[0;34m.\u001b[0m\u001b[0mget_loc\u001b[0m\u001b[0;34m(\u001b[0m\u001b[0mkey\u001b[0m\u001b[0;34m)\u001b[0m\u001b[0;34m\u001b[0m\u001b[0;34m\u001b[0m\u001b[0m\n\u001b[0m\u001b[1;32m   2658\u001b[0m             \u001b[0;32mexcept\u001b[0m \u001b[0mKeyError\u001b[0m\u001b[0;34m:\u001b[0m\u001b[0;34m\u001b[0m\u001b[0;34m\u001b[0m\u001b[0m\n\u001b[1;32m   2659\u001b[0m                 \u001b[0;32mreturn\u001b[0m \u001b[0mself\u001b[0m\u001b[0;34m.\u001b[0m\u001b[0m_engine\u001b[0m\u001b[0;34m.\u001b[0m\u001b[0mget_loc\u001b[0m\u001b[0;34m(\u001b[0m\u001b[0mself\u001b[0m\u001b[0;34m.\u001b[0m\u001b[0m_maybe_cast_indexer\u001b[0m\u001b[0;34m(\u001b[0m\u001b[0mkey\u001b[0m\u001b[0;34m)\u001b[0m\u001b[0;34m)\u001b[0m\u001b[0;34m\u001b[0m\u001b[0;34m\u001b[0m\u001b[0m\n",
      "\u001b[0;32mpandas/_libs/index.pyx\u001b[0m in \u001b[0;36mpandas._libs.index.IndexEngine.get_loc\u001b[0;34m()\u001b[0m\n",
      "\u001b[0;32mpandas/_libs/index.pyx\u001b[0m in \u001b[0;36mpandas._libs.index.IndexEngine.get_loc\u001b[0;34m()\u001b[0m\n",
      "\u001b[0;31mTypeError\u001b[0m: '(slice(None, None, None), 0)' is an invalid key"
     ]
    }
   ],
   "source": [
    "import sys\n",
    "import numpy as np\n",
    "import time\n",
    "from scipy import sparse\n",
    "\n",
    "start = time.time()\n",
    "\n",
    "print(\"Loading data...\")\n",
    "data = df\n",
    "\n",
    "# the function used to calculate jaccard similarity with original user-movie sets\n",
    "def jaccard_sim_set(s1, s2):\n",
    "    intersection = s1.intersection(s2)\n",
    "    union = s1.union(s2)\n",
    "    return (len(intersection)/len(union))\n",
    "\n",
    "# the function used to calculate approximate jaccard similarity with signature matrix\n",
    "def jaccard_sim_sig(u1, u2):\n",
    "    sim = float(np.count_nonzero(u1==u2))/len(u1)\n",
    "    return sim\n",
    "\n",
    "# the function used to get the indexes to the duplicate columns of a numpy array\n",
    "def column_index(mat):\n",
    "    index = np.lexsort(mat)\n",
    "    diff = np.any(mat.T[index[1:]]!=mat.T[index[:-1]], axis = 1)\n",
    "    edge = np.where(diff)[0] + 1\n",
    "    re = np.split(index, edge)\n",
    "    re = [g for g in re if len(g)>=2]\n",
    "    return re\n",
    "\n",
    "print(\"Constructing user-movie sets...\")\n",
    "n = np.max(data[:,0]) + 1 # the number of users\n",
    "\n",
    "# for each user, construct a set that contains the movies this user has rated\n",
    "user_movie = []\n",
    "for i in range(n):\n",
    "    user_movie.append(set())\n",
    "for u, m in data:\n",
    "    user_movie[u].add(m)\n",
    "\n",
    "# construct the sparse matrix\n",
    "data = sparse.csc_matrix(([1]*data.shape[0], (data[:,1], data[:,0])))\n",
    "\n",
    "print(\"Constructing signature matrix...\")\n",
    "signature = 100 # the number of signatures\n",
    "sig_mat = np.zeros([signature, data.shape[1]])\n",
    "\n",
    "# set seed when constructing signature matrix\n",
    "np.random.seed(int(sys.argv[1]))\n",
    "for i in range(signature):\n",
    "    row_sel = np.random.permutation(data.shape[0])\n",
    "    data_perm = data[row_sel,:]\n",
    "    for j in range(data.shape[1]):\n",
    "        loc = data_perm.indices[data_perm.indptr[j]:data_perm.indptr[j+1]].min()\n",
    "        sig_mat[i,j] = loc\n",
    "\n",
    "print(\"Running LSH...\")\n",
    "row_start = 0\n",
    "r = 5 # the number of rows within a band\n",
    "all_buckets = []\n",
    "\n",
    "# for each band, get the buckets that contain at least 2 users\n",
    "while (row_start + r)<=signature:\n",
    "    buckets = column_index(sig_mat[row_start:row_start+r,:])\n",
    "    \n",
    "    for value in buckets:\n",
    "        if len(value)>1:\n",
    "            all_buckets.append(value)\n",
    "    \n",
    "    row_start += r\n",
    "\n",
    "# remove the duplicate buckets\n",
    "all_buckets_tuple = map(tuple, all_buckets)\n",
    "all_buckets = set(all_buckets_tuple)\n",
    "all_buckets = list(all_buckets)\n",
    "\n",
    "# for candidate pairs in each bucket, calculate similarity using signature matrix\n",
    "sim_pairs = set()\n",
    "for bucket in all_buckets:\n",
    "    for i in range(len(bucket)-1):\n",
    "        for j in range(i+1, len(bucket)):\n",
    "            sim = jaccard_sim_sig(sig_mat[:,bucket[i]], sig_mat[:,bucket[j]])\n",
    "            if sim>0.5:\n",
    "                sim_pairs.add((bucket[i], bucket[j]))\n",
    "\n",
    "# sort the similar pairs\n",
    "sim_pairs_list = list(sim_pairs)\n",
    "sim_pairs_list.sort()\n",
    "\n",
    "# test whether these similar pairs are ture\n",
    "sim_pairs_true = []\n",
    "for pair in sim_pairs_list:\n",
    "    sim = jaccard_sim_set(user_movie[pair[0]], user_movie[pair[1]])\n",
    "    if sim>0.5:\n",
    "        sim_pairs_true.append(pair)\n",
    "\n",
    "f = open(\"results.txt\", \"w\")\n",
    "for pair in sim_pairs_true:\n",
    "    f.write(str(pair[0]) + \",\" + str(pair[1]) + \"\\n\")\n",
    "f.close()\n",
    "\n",
    "end = time.time()\n",
    "\n",
    "print(\"Find \" + str(len(sim_pairs_true)) + \" similar pairs.\")\n",
    "print(\"Need \" + str((end - start)/60) + \" minutes.\")\n",
    "\n"
   ]
  },
  {
   "cell_type": "code",
   "execution_count": 42,
   "metadata": {
    "collapsed": true
   },
   "outputs": [],
   "source": [
    "m_by_u = df.groupby('user')['movie'].apply(list)"
   ]
  },
  {
   "cell_type": "code",
   "execution_count": 43,
   "metadata": {},
   "outputs": [
    {
     "data": {
      "text/plain": [
       "user\n",
       "0    [1, 0, 2, 3]\n",
       "1          [0, 2]\n",
       "2          [2, 3]\n",
       "Name: movie, dtype: object"
      ]
     },
     "execution_count": 43,
     "metadata": {},
     "output_type": "execute_result"
    }
   ],
   "source": [
    "m_by_u"
   ]
  },
  {
   "cell_type": "code",
   "execution_count": 44,
   "metadata": {
    "collapsed": true
   },
   "outputs": [],
   "source": [
    "n_user = len(df.user.unique())\n",
    "n_movie = len(df.movie.unique())"
   ]
  },
  {
   "cell_type": "code",
   "execution_count": 45,
   "metadata": {
    "collapsed": true
   },
   "outputs": [],
   "source": [
    "n_sig = 3"
   ]
  },
  {
   "cell_type": "code",
   "execution_count": 46,
   "metadata": {
    "collapsed": true
   },
   "outputs": [],
   "source": [
    "mat = csc_matrix(([1]*df.shape[0], (df.iloc[:,1], df.iloc[:,0])))"
   ]
  },
  {
   "cell_type": "code",
   "execution_count": 88,
   "metadata": {},
   "outputs": [
    {
     "data": {
      "text/plain": [
       "array([[1, 1, 0],\n",
       "       [1, 0, 0],\n",
       "       [1, 1, 1],\n",
       "       [1, 0, 1]], dtype=int64)"
      ]
     },
     "execution_count": 88,
     "metadata": {},
     "output_type": "execute_result"
    }
   ],
   "source": [
    "mat.toarray()"
   ]
  },
  {
   "cell_type": "code",
   "execution_count": 109,
   "metadata": {
    "collapsed": true
   },
   "outputs": [],
   "source": [
    "def minhashing(mat, n_sig = n_sig):\n",
    "    sig_matrix = np.array([])\n",
    "    for i in range(n_sig):\n",
    "        seq = np.random.permutation(n_movie)\n",
    "        perm = mat[seq]\n",
    "        sig = seq[perm.argmax(axis=0)]\n",
    "        if sig_matrix.any():\n",
    "            # return the index of the first occurrence of 1\n",
    "            sig_matrix = np.vstack((sig_matrix,sig))\n",
    "        else:\n",
    "            sig_matrix = sig\n",
    "    return sig_matrix"
   ]
  },
  {
   "cell_type": "code",
   "execution_count": 110,
   "metadata": {
    "collapsed": true
   },
   "outputs": [],
   "source": [
    "sig_matrix = minhashing(mat,n_sig)"
   ]
  },
  {
   "cell_type": "code",
   "execution_count": 112,
   "metadata": {},
   "outputs": [
    {
     "data": {
      "text/plain": [
       "array([[3, 0, 3],\n",
       "       [3, 0, 3],\n",
       "       [3, 0, 3]])"
      ]
     },
     "execution_count": 112,
     "metadata": {},
     "output_type": "execute_result"
    }
   ],
   "source": [
    "sig_matrix"
   ]
  },
  {
   "cell_type": "code",
   "execution_count": 113,
   "metadata": {
    "collapsed": true
   },
   "outputs": [],
   "source": [
    "s = np.sum(sig_matrix[0*2:1*2,:], axis =0)"
   ]
  },
  {
   "cell_type": "code",
   "execution_count": 114,
   "metadata": {},
   "outputs": [
    {
     "data": {
      "text/plain": [
       "array([6, 0, 6])"
      ]
     },
     "execution_count": 114,
     "metadata": {},
     "output_type": "execute_result"
    }
   ],
   "source": [
    "s"
   ]
  },
  {
   "cell_type": "code",
   "execution_count": 127,
   "metadata": {
    "collapsed": true
   },
   "outputs": [],
   "source": [
    "bands = 3\n",
    "rows = 1\n",
    "def LSH_bucket(sig_matrix):\n",
    "    bucket_list = defaultdict(set)\n",
    "    if bands * rows != sig_matrix.shape[0]:\n",
    "        print('#bands * #rows is not equal to #signatures')\n",
    "    else:\n",
    "        for b in range(bands):\n",
    "            s = np.sum(sig_matrix[b*rows:(b+1)*rows,:], axis =0)\n",
    "            for index, x in np.ndenumerate(s):\n",
    "                bucket_list[x].add(index[0])\n",
    "        return bucket_list.items()"
   ]
  },
  {
   "cell_type": "code",
   "execution_count": 131,
   "metadata": {
    "collapsed": true
   },
   "outputs": [],
   "source": [
    "def calculate_jsim(a,b):\n",
    "    intersect = set(a) & set(b)\n",
    "    union = set(a) | set(b)\n",
    "    jsim = len(intersect)/len(union)\n",
    "    return jsim"
   ]
  },
  {
   "cell_type": "code",
   "execution_count": 128,
   "metadata": {
    "collapsed": true
   },
   "outputs": [],
   "source": [
    "bucket_list = LSH_bucket(sig_matrix)"
   ]
  },
  {
   "cell_type": "code",
   "execution_count": 129,
   "metadata": {},
   "outputs": [
    {
     "data": {
      "text/plain": [
       "dict_items([(3, {0, 2}), (0, {1})])"
      ]
     },
     "execution_count": 129,
     "metadata": {},
     "output_type": "execute_result"
    }
   ],
   "source": [
    "bucket_list"
   ]
  },
  {
   "cell_type": "code",
   "execution_count": 150,
   "metadata": {
    "collapsed": true
   },
   "outputs": [],
   "source": [
    "unique_pairs = set()\n",
    "sim_pairs = set()\n",
    "for key, value in bucket_list:\n",
    "    if len(value) > 1 :#and len(value) < 100: # remove the duplicate pairs\n",
    "        for i in value:\n",
    "            for j in value:\n",
    "                if i < j and ((i,j) not in unique_pairs):\n",
    "                    unique_pairs.add((i,j))\n",
    "                    sigi = sig_matrix[:,i].ravel().tolist()\n",
    "                    sigj = sig_matrix[:,j].ravel().tolist()\n",
    "                    jsim = calculate_jsim(sigi, sigj)\n",
    "                    if jsim > 0.5:\n",
    "                        sim_pairs.add((i,j))"
   ]
  },
  {
   "cell_type": "code",
   "execution_count": 152,
   "metadata": {},
   "outputs": [
    {
     "data": {
      "text/plain": [
       "{(0, 2)}"
      ]
     },
     "execution_count": 152,
     "metadata": {},
     "output_type": "execute_result"
    }
   ],
   "source": [
    "sim_pairs"
   ]
  },
  {
   "cell_type": "code",
   "execution_count": 141,
   "metadata": {},
   "outputs": [
    {
     "name": "stdout",
     "output_type": "stream",
     "text": [
      "3 {0, 2} 2\n",
      "0\n",
      "2\n",
      "0 {1} 1\n",
      "1\n"
     ]
    }
   ],
   "source": [
    "for key, value in bucket_list:\n",
    "    print(key,value,len(value))\n",
    "    for i in value:\n",
    "        print(i)"
   ]
  },
  {
   "cell_type": "code",
   "execution_count": 143,
   "metadata": {
    "collapsed": true
   },
   "outputs": [],
   "source": [
    "sigi = sig_matrix[:,1].ravel().tolist()[0]"
   ]
  },
  {
   "cell_type": "code",
   "execution_count": 158,
   "metadata": {},
   "outputs": [
    {
     "data": {
      "text/plain": [
       "[0, 0, 0]"
      ]
     },
     "execution_count": 158,
     "metadata": {},
     "output_type": "execute_result"
    }
   ],
   "source": [
    "sig_matrix[:,1].tolist()"
   ]
  },
  {
   "cell_type": "code",
   "execution_count": 148,
   "metadata": {},
   "outputs": [
    {
     "data": {
      "text/plain": [
       "array([[3, 0, 3],\n",
       "       [3, 0, 3],\n",
       "       [3, 0, 3]])"
      ]
     },
     "execution_count": 148,
     "metadata": {},
     "output_type": "execute_result"
    }
   ],
   "source": [
    "sig_matrix"
   ]
  },
  {
   "cell_type": "code",
   "execution_count": 154,
   "metadata": {},
   "outputs": [
    {
     "data": {
      "text/plain": [
       "[(0, 2)]"
      ]
     },
     "execution_count": 154,
     "metadata": {},
     "output_type": "execute_result"
    }
   ],
   "source": [
    "true_pairs = []\n",
    "for pair in sim_pairs:\n",
    "    jsim = calculate_jsim(m_by_u[pair[0]], m_by_u[pair[1]])\n",
    "    if jsim>0.4:\n",
    "        true_pairs.append(pair)\n",
    "true_pairs"
   ]
  },
  {
   "cell_type": "code",
   "execution_count": 1,
   "metadata": {},
   "outputs": [
    {
     "data": {
      "text/plain": [
       "2"
      ]
     },
     "execution_count": 1,
     "metadata": {},
     "output_type": "execute_result"
    }
   ],
   "source": [
    "10%4"
   ]
  },
  {
   "cell_type": "code",
   "execution_count": null,
   "metadata": {
    "collapsed": true
   },
   "outputs": [],
   "source": []
  }
 ],
 "metadata": {
  "kernelspec": {
   "display_name": "Python [conda env:p36]",
   "language": "python",
   "name": "conda-env-p36-py"
  },
  "language_info": {
   "codemirror_mode": {
    "name": "ipython",
    "version": 3
   },
   "file_extension": ".py",
   "mimetype": "text/x-python",
   "name": "python",
   "nbconvert_exporter": "python",
   "pygments_lexer": "ipython3",
   "version": "3.6.8"
  }
 },
 "nbformat": 4,
 "nbformat_minor": 2
}
