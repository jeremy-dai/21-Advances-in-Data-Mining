{
 "cells": [
  {
   "cell_type": "code",
   "execution_count": 1,
   "metadata": {
    "collapsed": true
   },
   "outputs": [],
   "source": [
    "# import packages\n",
    "import numpy as np\n",
    "import pandas as pd\n",
    "from collections import defaultdict\n",
    "from scipy.sparse import csc_matrix\n",
    "np.random.seed(seed=2019)"
   ]
  },
  {
   "cell_type": "code",
   "execution_count": 5,
   "metadata": {
    "collapsed": true
   },
   "outputs": [],
   "source": [
    "sig_matrix = np.array([[3, 0, 3],\n",
    "       [3, 0, 3],\n",
    "       [3, 0, 5]])"
   ]
  },
  {
   "cell_type": "code",
   "execution_count": 6,
   "metadata": {},
   "outputs": [
    {
     "data": {
      "text/plain": [
       "array([[3, 0, 3],\n",
       "       [3, 0, 3],\n",
       "       [3, 0, 5]])"
      ]
     },
     "execution_count": 6,
     "metadata": {},
     "output_type": "execute_result"
    }
   ],
   "source": [
    "sig_matrix"
   ]
  },
  {
   "cell_type": "code",
   "execution_count": 8,
   "metadata": {},
   "outputs": [],
   "source": [
    "df = pd.DataFrame(sig_matrix)\n",
    "\n",
    "a = df.apply(lambda x: hash(tuple(x)), axis = 1)"
   ]
  },
  {
   "cell_type": "code",
   "execution_count": 16,
   "metadata": {},
   "outputs": [
    {
     "name": "stdout",
     "output_type": "stream",
     "text": [
      "0 5050907061199316999\n",
      "1 5050907061199316999\n",
      "2 5050907061196986901\n"
     ]
    }
   ],
   "source": [
    "type(a)\n",
    "for index, x in np.ndenumerate(a):\n",
    "    print(index[0],x)"
   ]
  },
  {
   "cell_type": "code",
   "execution_count": 127,
   "metadata": {
    "collapsed": true
   },
   "outputs": [],
   "source": [
    "bands = 3\n",
    "rows = 1\n",
    "def LSH_bucket(sig_matrix):\n",
    "    bucket_list = defaultdict(set)\n",
    "    if bands * rows != sig_matrix.shape[0]:\n",
    "        print('#bands * #rows is not equal to #signatures')\n",
    "    else:\n",
    "        for b in range(bands):\n",
    "            s = np.sum(sig_matrix[b*rows:(b+1)*rows,:], axis =0)\n",
    "            for index, x in np.ndenumerate(s):\n",
    "                bucket_list[x].add(index[0])\n",
    "        return bucket_list.items()"
   ]
  },
  {
   "cell_type": "code",
   "execution_count": 131,
   "metadata": {
    "collapsed": true
   },
   "outputs": [],
   "source": [
    "def calculate_jsim(a,b):\n",
    "    intersect = set(a) & set(b)\n",
    "    union = set(a) | set(b)\n",
    "    jsim = len(intersect)/len(union)\n",
    "    return jsim"
   ]
  },
  {
   "cell_type": "code",
   "execution_count": 128,
   "metadata": {
    "collapsed": true
   },
   "outputs": [],
   "source": [
    "bucket_list = LSH_bucket(sig_matrix)"
   ]
  },
  {
   "cell_type": "code",
   "execution_count": 129,
   "metadata": {},
   "outputs": [
    {
     "data": {
      "text/plain": [
       "dict_items([(3, {0, 2}), (0, {1})])"
      ]
     },
     "execution_count": 129,
     "metadata": {},
     "output_type": "execute_result"
    }
   ],
   "source": [
    "bucket_list"
   ]
  },
  {
   "cell_type": "code",
   "execution_count": 150,
   "metadata": {
    "collapsed": true
   },
   "outputs": [],
   "source": [
    "unique_pairs = set()\n",
    "sim_pairs = set()\n",
    "for key, value in bucket_list:\n",
    "    if len(value) > 1 :#and len(value) < 100: # remove the duplicate pairs\n",
    "        for i in value:\n",
    "            for j in value:\n",
    "                if i < j and ((i,j) not in unique_pairs):\n",
    "                    unique_pairs.add((i,j))\n",
    "                    sigi = sig_matrix[:,i].ravel().tolist()\n",
    "                    sigj = sig_matrix[:,j].ravel().tolist()\n",
    "                    jsim = calculate_jsim(sigi, sigj)\n",
    "                    if jsim > 0.5:\n",
    "                        sim_pairs.add((i,j))"
   ]
  },
  {
   "cell_type": "code",
   "execution_count": 64,
   "metadata": {},
   "outputs": [
    {
     "data": {
      "text/plain": [
       "50"
      ]
     },
     "execution_count": 64,
     "metadata": {},
     "output_type": "execute_result"
    }
   ],
   "source": [
    "sum(np.array([ True, False, False, False, False,  True,  True,  True,  True,\n",
    "        True,  True,  True, False,  True,  True, False, False, False,\n",
    "       False, False, False,  True, False, False, False,  True,  True,\n",
    "       False,  True,  True, False, False, False,  True, False, False,\n",
    "       False, False,  True, False, False,  True, False, False, False,\n",
    "       False,  True,  True,  True,  True, False, False, False, False,\n",
    "       False, False,  True, False,  True,  True,  True,  True,  True,\n",
    "       False,  True,  True,  True,  True,  True,  True, False, False,\n",
    "        True,  True,  True, False, False, False, False,  True, False,\n",
    "        True, False,  True,  True, False, False,  True,  True,  True,\n",
    "        True,  True,  True, False, False,  True, False, False,  True,\n",
    "        True]))"
   ]
  },
  {
   "cell_type": "code",
   "execution_count": 141,
   "metadata": {},
   "outputs": [
    {
     "name": "stdout",
     "output_type": "stream",
     "text": [
      "3 {0, 2} 2\n",
      "0\n",
      "2\n",
      "0 {1} 1\n",
      "1\n"
     ]
    }
   ],
   "source": [
    "for key, value in bucket_list:\n",
    "    print(key,value,len(value))\n",
    "    for i in value:\n",
    "        print(i)"
   ]
  },
  {
   "cell_type": "code",
   "execution_count": 143,
   "metadata": {
    "collapsed": true
   },
   "outputs": [],
   "source": [
    "sigi = sig_matrix[:,1].ravel().tolist()[0]"
   ]
  },
  {
   "cell_type": "code",
   "execution_count": 158,
   "metadata": {},
   "outputs": [
    {
     "data": {
      "text/plain": [
       "[0, 0, 0]"
      ]
     },
     "execution_count": 158,
     "metadata": {},
     "output_type": "execute_result"
    }
   ],
   "source": [
    "sig_matrix[:,1].tolist()"
   ]
  },
  {
   "cell_type": "code",
   "execution_count": 148,
   "metadata": {},
   "outputs": [
    {
     "data": {
      "text/plain": [
       "array([[3, 0, 3],\n",
       "       [3, 0, 3],\n",
       "       [3, 0, 3]])"
      ]
     },
     "execution_count": 148,
     "metadata": {},
     "output_type": "execute_result"
    }
   ],
   "source": [
    "sig_matrix"
   ]
  },
  {
   "cell_type": "code",
   "execution_count": 154,
   "metadata": {},
   "outputs": [
    {
     "data": {
      "text/plain": [
       "[(0, 2)]"
      ]
     },
     "execution_count": 154,
     "metadata": {},
     "output_type": "execute_result"
    }
   ],
   "source": [
    "true_pairs = []\n",
    "for pair in sim_pairs:\n",
    "    jsim = calculate_jsim(m_by_u[pair[0]], m_by_u[pair[1]])\n",
    "    if jsim>0.4:\n",
    "        true_pairs.append(pair)\n",
    "true_pairs"
   ]
  },
  {
   "cell_type": "code",
   "execution_count": 1,
   "metadata": {
    "collapsed": true
   },
   "outputs": [],
   "source": [
    "def fun(a):\n",
    "    if a>5:\n",
    "        return a"
   ]
  },
  {
   "cell_type": "code",
   "execution_count": 61,
   "metadata": {
    "collapsed": true
   },
   "outputs": [],
   "source": [
    "import numpy as np\n",
    "b =np.array([[0,0,1],[1,1,0],[2,0,1],[3,0,1]]) \n"
   ]
  },
  {
   "cell_type": "code",
   "execution_count": 62,
   "metadata": {},
   "outputs": [
    {
     "data": {
      "text/plain": [
       "array([[1, 1, 0],\n",
       "       [0, 0, 1],\n",
       "       [2, 0, 1],\n",
       "       [3, 0, 1]])"
      ]
     },
     "execution_count": 62,
     "metadata": {},
     "output_type": "execute_result"
    }
   ],
   "source": [
    "b[[1,0,2,3]]"
   ]
  },
  {
   "cell_type": "code",
   "execution_count": 59,
   "metadata": {},
   "outputs": [
    {
     "ename": "NameError",
     "evalue": "name 'data' is not defined",
     "output_type": "error",
     "traceback": [
      "\u001b[0;31m---------------------------------------------------------------------------\u001b[0m",
      "\u001b[0;31mNameError\u001b[0m                                 Traceback (most recent call last)",
      "\u001b[0;32m<ipython-input-59-1a80688bb049>\u001b[0m in \u001b[0;36m<module>\u001b[0;34m\u001b[0m\n\u001b[1;32m      1\u001b[0m \u001b[0;32mfor\u001b[0m \u001b[0mi\u001b[0m \u001b[0;32min\u001b[0m \u001b[0mrange\u001b[0m\u001b[0;34m(\u001b[0m\u001b[0;36m10\u001b[0m\u001b[0;34m)\u001b[0m\u001b[0;34m:\u001b[0m\u001b[0;34m\u001b[0m\u001b[0;34m\u001b[0m\u001b[0m\n\u001b[0;32m----> 2\u001b[0;31m     \u001b[0mrow_sel\u001b[0m \u001b[0;34m=\u001b[0m \u001b[0mnp\u001b[0m\u001b[0;34m.\u001b[0m\u001b[0mrandom\u001b[0m\u001b[0;34m.\u001b[0m\u001b[0mpermutation\u001b[0m\u001b[0;34m(\u001b[0m\u001b[0mdata\u001b[0m\u001b[0;34m.\u001b[0m\u001b[0mshape\u001b[0m\u001b[0;34m[\u001b[0m\u001b[0;36m0\u001b[0m\u001b[0;34m]\u001b[0m\u001b[0;34m)\u001b[0m\u001b[0;34m\u001b[0m\u001b[0;34m\u001b[0m\u001b[0m\n\u001b[0m\u001b[1;32m      3\u001b[0m     \u001b[0mdata_perm\u001b[0m \u001b[0;34m=\u001b[0m \u001b[0mdata\u001b[0m\u001b[0;34m[\u001b[0m\u001b[0mrow_sel\u001b[0m\u001b[0;34m,\u001b[0m\u001b[0;34m:\u001b[0m\u001b[0;34m]\u001b[0m\u001b[0;34m\u001b[0m\u001b[0;34m\u001b[0m\u001b[0m\n\u001b[1;32m      4\u001b[0m     \u001b[0;32mfor\u001b[0m \u001b[0mj\u001b[0m \u001b[0;32min\u001b[0m \u001b[0mrange\u001b[0m\u001b[0;34m(\u001b[0m\u001b[0mdata\u001b[0m\u001b[0;34m.\u001b[0m\u001b[0mshape\u001b[0m\u001b[0;34m[\u001b[0m\u001b[0;36m1\u001b[0m\u001b[0;34m]\u001b[0m\u001b[0;34m)\u001b[0m\u001b[0;34m:\u001b[0m\u001b[0;34m\u001b[0m\u001b[0;34m\u001b[0m\u001b[0m\n\u001b[1;32m      5\u001b[0m         \u001b[0mloc\u001b[0m \u001b[0;34m=\u001b[0m \u001b[0mdata_perm\u001b[0m\u001b[0;34m.\u001b[0m\u001b[0mindices\u001b[0m\u001b[0;34m[\u001b[0m\u001b[0mdata_perm\u001b[0m\u001b[0;34m.\u001b[0m\u001b[0mindptr\u001b[0m\u001b[0;34m[\u001b[0m\u001b[0mj\u001b[0m\u001b[0;34m]\u001b[0m\u001b[0;34m:\u001b[0m\u001b[0mdata_perm\u001b[0m\u001b[0;34m.\u001b[0m\u001b[0mindptr\u001b[0m\u001b[0;34m[\u001b[0m\u001b[0mj\u001b[0m\u001b[0;34m+\u001b[0m\u001b[0;36m1\u001b[0m\u001b[0;34m]\u001b[0m\u001b[0;34m]\u001b[0m\u001b[0;34m.\u001b[0m\u001b[0mmin\u001b[0m\u001b[0;34m(\u001b[0m\u001b[0;34m)\u001b[0m\u001b[0;34m\u001b[0m\u001b[0;34m\u001b[0m\u001b[0m\n",
      "\u001b[0;31mNameError\u001b[0m: name 'data' is not defined"
     ]
    }
   ],
   "source": [
    "for i in range(10):\n",
    "    row_sel = np.random.permutation(data.shape[0])\n",
    "    data_perm = data[row_sel,:]\n",
    "    for j in range(data.shape[1]):\n",
    "        loc = data_perm.indices[data_perm.indptr[j]:data_perm.indptr[j+1]].min()\n",
    "        sig_mat[i,j] = loc"
   ]
  },
  {
   "cell_type": "code",
   "execution_count": 39,
   "metadata": {},
   "outputs": [
    {
     "data": {
      "text/plain": [
       "array([[ True, False, False],\n",
       "       [False,  True, False],\n",
       "       [False, False,  True],\n",
       "       [False, False,  True]])"
      ]
     },
     "execution_count": 39,
     "metadata": {},
     "output_type": "execute_result"
    }
   ],
   "source": [
    "b = (b==1)\n",
    "b"
   ]
  },
  {
   "cell_type": "code",
   "execution_count": 38,
   "metadata": {
    "collapsed": true
   },
   "outputs": [],
   "source": [
    "import csv\n",
    "a = {(91164, 94943),\n",
    " (54673, 80723),\n",
    " (44104, 52055),\n",
    " (31587, 54742),\n",
    " (27208, 95649),\n",
    " (48153, 49656),\n",
    " (37197, 95887),\n",
    " (51463, 58534)}\n",
    "for pair in a:\n",
    "    with open('ans.txt','a') as file:\n",
    "        writer = csv.DictWriter(file,fieldnames=['user1', 'user2'])\n",
    "        writer.writerow({'user1':pair[0],'user2':pair[1]})"
   ]
  },
  {
   "cell_type": "code",
   "execution_count": 65,
   "metadata": {
    "collapsed": true
   },
   "outputs": [],
   "source": [
    "a = np.array([ 8., 15., 50.,  8., 17.,  5., 16.,  4.,  4.,  2., 17., 16.,  1.,\n",
    "        8.,  7.,  9.,  9., 32., 49., 16., 18.,  8.,  2., 27.,  8.,  3.,\n",
    "        4.,  6.,  1., 15.,  5.,  7.,  7.,  3., 13.,  7.,  3., 12., 41.,\n",
    "       23.,  1.,  0.,  1.,  6., 12., 16., 11.,  6.,  9.,  5., 10.,  6.,\n",
    "        6.,  2.,  1.,  1.,  5.,  2.,  2., 10.,  9.,  9.,  8., 15., 25.,\n",
    "       10.,  3., 21., 11., 18.,  8., 31., 10.,  3.,  9., 10.,  7., 19.,\n",
    "        0.,  3., 18., 27., 12.,  6., 11.,  7.,  5.,  3.,  3.,  5., 11.,\n",
    "       14., 18., 11.,  4., 18., 23.,  1.,  9.,  1.])\n",
    "b = np.array([ 8., 12., 24., 11.,  6.,  5., 16.,  4.,  4.,  2., 17., 16.,  9.,\n",
    "        8.,  7., 16., 10., 34.,  7., 18.,  5.,  8.,  4.,  1.,  5.,  3.,\n",
    "        4., 11.,  1., 15., 12., 11., 11.,  3., 25.,  1.,  8., 16., 41.,\n",
    "       25., 13.,  0., 11., 28., 30., 19., 11.,  6.,  9.,  5.,  3.,  1.,\n",
    "       20.,  9.,  7., 17.,  5., 18.,  2., 10.,  9.,  9.,  8., 11., 25.,\n",
    "       10.,  3., 21., 11., 18., 60., 44., 10.,  3.,  9., 14., 23., 21.,\n",
    "       12.,  3.,  7., 27., 13.,  6., 11., 31., 26.,  3.,  3.,  5., 11.,\n",
    "       14., 18.,  2.,  8., 18.,  3.,  6.,  9.,  1.])"
   ]
  },
  {
   "cell_type": "code",
   "execution_count": 79,
   "metadata": {},
   "outputs": [
    {
     "name": "stdout",
     "output_type": "stream",
     "text": [
      "923 ns ± 44 ns per loop (mean ± std. dev. of 7 runs, 1000000 loops each)\n"
     ]
    }
   ],
   "source": [
    "%timeit np.count_nonzero(a==b)"
   ]
  },
  {
   "cell_type": "code",
   "execution_count": 80,
   "metadata": {},
   "outputs": [
    {
     "name": "stdout",
     "output_type": "stream",
     "text": [
      "229 µs ± 9.39 µs per loop (mean ± std. dev. of 7 runs, 1000 loops each)\n"
     ]
    }
   ],
   "source": [
    "%timeit sum(a==b)"
   ]
  },
  {
   "cell_type": "code",
   "execution_count": 83,
   "metadata": {},
   "outputs": [
    {
     "name": "stdout",
     "output_type": "stream",
     "text": [
      "Running time: 0.10797810554504395 s\n"
     ]
    }
   ],
   "source": [
    "t0 = time.time()\n",
    "\n",
    "for i in range(100000):\n",
    "    np.count_nonzero(a==b)\n",
    "print(\"Running time:\", time.time()-t0, \"s\" )"
   ]
  },
  {
   "cell_type": "code",
   "execution_count": 84,
   "metadata": {},
   "outputs": [
    {
     "name": "stdout",
     "output_type": "stream",
     "text": [
      "Running time: 24.00898790359497 s\n"
     ]
    }
   ],
   "source": [
    "t0 = time.time()\n",
    "\n",
    "for i in range(100000):\n",
    "    sum(a==b)\n",
    "print(\"Running time:\", time.time()-t0, \"s\" )"
   ]
  },
  {
   "cell_type": "code",
   "execution_count": 85,
   "metadata": {},
   "outputs": [
    {
     "data": {
      "text/plain": [
       "50"
      ]
     },
     "execution_count": 85,
     "metadata": {},
     "output_type": "execute_result"
    }
   ],
   "source": [
    "np.count_nonzero(a==b)"
   ]
  },
  {
   "cell_type": "code",
   "execution_count": 86,
   "metadata": {},
   "outputs": [
    {
     "data": {
      "text/plain": [
       "0.25"
      ]
     },
     "execution_count": 86,
     "metadata": {},
     "output_type": "execute_result"
    }
   ],
   "source": [
    "25/100"
   ]
  },
  {
   "cell_type": "code",
   "execution_count": 111,
   "metadata": {},
   "outputs": [
    {
     "data": {
      "text/plain": [
       "array([[1, 2, 3],\n",
       "       [1, 2, 3]])"
      ]
     },
     "execution_count": 111,
     "metadata": {},
     "output_type": "execute_result"
    }
   ],
   "source": [
    "a = np.array([[1,2,3],[1,2,3]])\n",
    "a"
   ]
  },
  {
   "cell_type": "code",
   "execution_count": 114,
   "metadata": {},
   "outputs": [
    {
     "data": {
      "text/plain": [
       "array([6, 6])"
      ]
     },
     "execution_count": 114,
     "metadata": {},
     "output_type": "execute_result"
    }
   ],
   "source": [
    "np.prod(a ,axis = 1)"
   ]
  },
  {
   "cell_type": "code",
   "execution_count": 93,
   "metadata": {},
   "outputs": [
    {
     "data": {
      "text/plain": [
       "array(<map object at 0x10a6cc240>, dtype=object)"
      ]
     },
     "execution_count": 93,
     "metadata": {},
     "output_type": "execute_result"
    }
   ],
   "source": [
    "np.array(map(str, a))"
   ]
  },
  {
   "cell_type": "code",
   "execution_count": 99,
   "metadata": {},
   "outputs": [
    {
     "name": "stdout",
     "output_type": "stream",
     "text": [
      "<map object at 0x10a6e30b8>\n"
     ]
    }
   ],
   "source": [
    "print(b)"
   ]
  },
  {
   "cell_type": "code",
   "execution_count": 102,
   "metadata": {},
   "outputs": [
    {
     "data": {
      "text/plain": [
       "[5, 6, 6]"
      ]
     },
     "execution_count": 102,
     "metadata": {},
     "output_type": "execute_result"
    }
   ],
   "source": [
    "def myfunc(n):\n",
    "    return len(n)\n",
    "\n",
    "list(map(myfunc, ('apple', 'banana', 'cherry')))"
   ]
  },
  {
   "cell_type": "code",
   "execution_count": null,
   "metadata": {
    "collapsed": true
   },
   "outputs": [],
   "source": []
  }
 ],
 "metadata": {
  "kernelspec": {
   "display_name": "Python [conda env:p36]",
   "language": "python",
   "name": "conda-env-p36-py"
  },
  "language_info": {
   "codemirror_mode": {
    "name": "ipython",
    "version": 3
   },
   "file_extension": ".py",
   "mimetype": "text/x-python",
   "name": "python",
   "nbconvert_exporter": "python",
   "pygments_lexer": "ipython3",
   "version": "3.6.8"
  }
 },
 "nbformat": 4,
 "nbformat_minor": 2
}
