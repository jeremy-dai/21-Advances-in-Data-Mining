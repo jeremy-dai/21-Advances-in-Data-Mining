{
 "cells": [
  {
   "cell_type": "markdown",
   "metadata": {},
   "source": [
    "## Introduction\n",
    "About 100.000 users that watched in total 17.770 movies;\n",
    "- Each user watched between 300 and 3000 movies\n",
    "- The file contains about 65.000.000 records (720 MB) of the form:\n",
    "`<user_id, movie_id> : “user_id watched movie_id”`\n",
    "- Similarity between users: Jaccard similarity of sets of movies they watched: \n",
    "``` \n",
    "jsim(S1, S2) = #intersect(S1, S2)/#union(S1, S2)\n",
    "``` \n",
    "- Task: estimate the time if brute-force serach is used\n",
    "\n",
    "##  Brute-force search"
   ]
  },
  {
   "cell_type": "code",
   "execution_count": 1,
   "metadata": {
    "collapsed": true
   },
   "outputs": [],
   "source": [
    "# import packages\n",
    "import numpy as np\n",
    "import pandas as pd\n",
    "from scipy import sparse\n",
    "import time"
   ]
  },
  {
   "cell_type": "code",
   "execution_count": 2,
   "metadata": {
    "collapsed": true
   },
   "outputs": [],
   "source": [
    "#  load the data\n",
    "FILE = '../data/user_movie.npy'\n",
    "df = pd.DataFrame(np.load(FILE), columns = ['user','movie'])"
   ]
  },
  {
   "cell_type": "code",
   "execution_count": 6,
   "metadata": {},
   "outputs": [
    {
     "name": "stdout",
     "output_type": "stream",
     "text": [
      "Number of unique users 103703\n",
      "UserID starts at 0\n",
      "UserID ends at 103702\n",
      "Number of unique movies 17770\n",
      "movie starts at 0\n",
      "movieID ends at 17769\n"
     ]
    }
   ],
   "source": [
    "# data exploration\n",
    "n_user = len(df.user.unique())\n",
    "print(\"Number of unique users\", n_user)\n",
    "print(\"UserID starts at\", df.user.min())\n",
    "print(\"UserID ends at\", df.user.max())\n",
    "\n",
    "n_movie = len(df.movie.unique())\n",
    "print(\"Number of unique movies\", n_movie)\n",
    "print(\"movie starts at\", df.movie.min())\n",
    "print(\"movieID ends at\", df.movie.max())"
   ]
  },
  {
   "cell_type": "markdown",
   "metadata": {},
   "source": [
    "Based on the min and max UserID, the UserID attribute is continous without gap. Based on the min and max movieID, the movieID attribute is continous without gap.\n",
    "\n",
    "### Method 1: Calcuating intersection and untion sets directly"
   ]
  },
  {
   "cell_type": "code",
   "execution_count": 20,
   "metadata": {
    "collapsed": true
   },
   "outputs": [],
   "source": [
    "def calculate_jsim(a,b):\n",
    "    intersect = set(a) & set(b)\n",
    "    union = set(a) | set(b)\n",
    "    jsim = len(intersect)/len(union)\n",
    "    return jsim"
   ]
  },
  {
   "cell_type": "code",
   "execution_count": 22,
   "metadata": {},
   "outputs": [
    {
     "name": "stdout",
     "output_type": "stream",
     "text": [
      "Running time: 225.056 s\n"
     ]
    }
   ],
   "source": [
    "t0 = time.time()\n",
    "\n",
    "n_sample = 1000\n",
    "\n",
    "df_sample = df[df.user < n_sample]\n",
    "#df_sample = df[1:800]\n",
    "m_by_u = df_sample.groupby('user')['movie'].apply(list)\n",
    "user = df_sample.user.unique().tolist()\n",
    "pair=[]\n",
    "for i in user:\n",
    "    for j in user:\n",
    "        if i != j:\n",
    "            jsim = calculate_jsim(m_by_u[i],m_by_u[j])\n",
    "            #print(i,j,jsim)\n",
    "            if jsim > 0.5:\n",
    "                pair.append([i,j,jsim])\n",
    "                \n",
    "sample_time = round(time.time()-t0, 3)\n",
    "print(\"Running time:\", sample_time, \"s\" )"
   ]
  },
  {
   "cell_type": "markdown",
   "metadata": {},
   "source": [
    "### Methods 2: Union = A + B - Intersection"
   ]
  },
  {
   "cell_type": "code",
   "execution_count": 4,
   "metadata": {
    "collapsed": true
   },
   "outputs": [],
   "source": [
    "def calculate_jsim2(a,b):\n",
    "    intersect = len(set(a) & set(b))\n",
    "    union = len(a) + len(b) - intersect\n",
    "    jsim = intersect/union\n",
    "    return jsim"
   ]
  },
  {
   "cell_type": "code",
   "execution_count": 5,
   "metadata": {},
   "outputs": [
    {
     "name": "stdout",
     "output_type": "stream",
     "text": [
      "Running time: 113.871 s\n"
     ]
    }
   ],
   "source": [
    "t0 = time.time()\n",
    "\n",
    "n_sample = 1000\n",
    "\n",
    "df_sample = df[df.user < n_sample]\n",
    "#df_sample = df[1:800]\n",
    "m_by_u = df_sample.groupby('user')['movie'].apply(list)\n",
    "user = df_sample.user.unique().tolist()\n",
    "pair=[]\n",
    "for i in user:\n",
    "    for j in user:\n",
    "        if i != j:\n",
    "            jsim = calculate_jsim2(m_by_u[i],m_by_u[j])\n",
    "            #print(i,j,jsim)\n",
    "            if jsim > 0.5:\n",
    "                pair.append([i,j,jsim])\n",
    "                \n",
    "sample_time = round(time.time()-t0, 3)\n",
    "print(\"Running time:\", sample_time, \"s\" )"
   ]
  },
  {
   "cell_type": "markdown",
   "metadata": {},
   "source": [
    "We can see the 2nd method saves half of the time compared to the 1st method.\n",
    "\n",
    "## Estimate running time for the whole dataset"
   ]
  },
  {
   "cell_type": "code",
   "execution_count": 7,
   "metadata": {},
   "outputs": [
    {
     "name": "stdout",
     "output_type": "stream",
     "text": [
      "The umber of sample users is: 1000 \n",
      "And the number of total users is: 103703\n",
      "Since the running time is O(n), the total running time is 10754.31 times of the sample runing time\n",
      "Total running time is 340.17 hours\n"
     ]
    }
   ],
   "source": [
    "multiple = n_user*n_user/n_sample/n_sample\n",
    "print(\"The umber of sample users is:\", n_sample,\"\\nAnd the number of total users is:\", n_user)\n",
    "print(\"Since the running time is O(n), the total running time is {0:.2f} times of the sample runing time\".format(multiple))\n",
    "\n",
    "total_time = sample_time * multiple \n",
    "print(\"Total running time is {0:.2f} hours\".format(total_time/60/60)) #(\".format(round(a,2)))"
   ]
  },
  {
   "cell_type": "markdown",
   "metadata": {},
   "source": [
    "**Brute-force search takes about 340 hours. This is every expensive due to 5.000.000.000 pairs to be comuputed.**"
   ]
  }
 ],
 "metadata": {
  "kernelspec": {
   "display_name": "Python [default]",
   "language": "python",
   "name": "python3"
  },
  "language_info": {
   "codemirror_mode": {
    "name": "ipython",
    "version": 3
   },
   "file_extension": ".py",
   "mimetype": "text/x-python",
   "name": "python",
   "nbconvert_exporter": "python",
   "pygments_lexer": "ipython3",
   "version": "3.5.3"
  }
 },
 "nbformat": 4,
 "nbformat_minor": 2
}
