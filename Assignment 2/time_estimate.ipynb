{
 "cells": [
  {
   "cell_type": "markdown",
   "metadata": {},
   "source": [
    "## Introduction\n",
    "About 100.000 users that watched in total 17.770 movies;\n",
    "- Each user watched between 300 and 3000 movies\n",
    "- The file contains about 65.000.000 records (720 MB) of the form:\n",
    "`<user_id, movie_id> : “user_id watched movie_id”`\n",
    "- Similarity between users: Jaccard similarity of sets of movies they watched: \n",
    "``` \n",
    "jsim(S1, S2) = #intersect(S1, S2)/#union(S1, S2)\n",
    "``` \n",
    "- Task: find (with help of LSH) pairs of users whose jsim > 0.5\n",
    "\n",
    "##  Brute-force search"
   ]
  },
  {
   "cell_type": "code",
   "execution_count": 107,
   "metadata": {
    "collapsed": true
   },
   "outputs": [],
   "source": [
    "# import packages\n",
    "import numpy as np\n",
    "import pandas as pd\n",
    "from scipy import sparse\n",
    "import time"
   ]
  },
  {
   "cell_type": "code",
   "execution_count": 86,
   "metadata": {},
   "outputs": [],
   "source": [
    "#  brute-force search too expensive: 5.000.000.000 pairs\n",
    "FILE = '../data/user_movie.npy'\n",
    "a = np.load(FILE)"
   ]
  },
  {
   "cell_type": "code",
   "execution_count": 87,
   "metadata": {},
   "outputs": [],
   "source": [
    "df = pd.DataFrame(a, columns = ['user','movie'])"
   ]
  },
  {
   "cell_type": "code",
   "execution_count": 88,
   "metadata": {},
   "outputs": [],
   "source": [
    "def calculate_jsim(a,b):\n",
    "    intersect = set(a) & set(b)\n",
    "    union = set(a) | set(b)\n",
    "    jsim = len(intersect)/len(union)\n",
    "    return jsim"
   ]
  },
  {
   "cell_type": "code",
   "execution_count": 118,
   "metadata": {},
   "outputs": [
    {
     "name": "stdout",
     "output_type": "stream",
     "text": [
      "Running time: 2.398 s\n"
     ]
    }
   ],
   "source": [
    "t0 = time.time()\n",
    "\n",
    "df_sample = df[df.user < 100]\n",
    "#df_sample = df[1:800]\n",
    "m_by_u = df_sample.groupby('user')['movie'].apply(list)\n",
    "user = df_sample.user.unique().tolist()\n",
    "pair=[]\n",
    "for i in user:\n",
    "    for j in user:\n",
    "        if i != j:\n",
    "            jsim = calculate_jsim(m_by_u[i],m_by_u[j])\n",
    "            #print(i,j,jsim)\n",
    "            if jsim > 0.5:\n",
    "                pair.append([i,j,jsim])\n",
    "                \n",
    "sample_time = round(time.time()-t0, 3)\n",
    "print(\"Running time:\", sample_time, \"s\" )"
   ]
  },
  {
   "cell_type": "code",
   "execution_count": 121,
   "metadata": {},
   "outputs": [
    {
     "name": "stdout",
     "output_type": "stream",
     "text": [
      "Sample users: 100\n",
      "Total users: 103703\n",
      "Total running time is  1075431.2209 times of the sample runing time\n",
      "Total running time is  716.3566854772779 hours\n"
     ]
    }
   ],
   "source": [
    "n_sample = len(user)\n",
    "print(\"Sample users:\", n_sample)\n",
    "n_user = len(df.user.unique().tolist())\n",
    "print(\"Total users:\", n_user)\n",
    "multiple = n_user*n_user/n_sample/n_sample\n",
    "print(\"Total running time is \", multiple,'times of the sample runing time')\n",
    "total_time = sample_time * multiple \n",
    "print(\"Total running time is \",total_time/60/60, 'hours')"
   ]
  }
 ],
 "metadata": {
  "kernelspec": {
   "display_name": "Python [default]",
   "language": "python",
   "name": "python3"
  },
  "language_info": {
   "codemirror_mode": {
    "name": "ipython",
    "version": 3
   },
   "file_extension": ".py",
   "mimetype": "text/x-python",
   "name": "python",
   "nbconvert_exporter": "python",
   "pygments_lexer": "ipython3",
   "version": "3.5.3"
  }
 },
 "nbformat": 4,
 "nbformat_minor": 2
}
