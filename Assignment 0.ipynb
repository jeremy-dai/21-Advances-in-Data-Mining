{
 "cells": [
  {
   "cell_type": "markdown",
   "metadata": {},
   "source": [
    "# A0: Experiments with hash functions\n",
    "## unique_values(n,N) = ???\n",
    "Suppose you generate n random integers between 0 and N;Find a formula that expresses the number of unique numbers."
   ]
  },
  {
   "cell_type": "code",
   "execution_count": 18,
   "metadata": {
    "collapsed": true
   },
   "outputs": [],
   "source": [
    "# import packages\n",
    "import numpy as np\n",
    "import pandas as pd"
   ]
  },
  {
   "cell_type": "markdown",
   "metadata": {},
   "source": [
    "###  Theoretical considerations\n",
    "Use Flajolet Martin [FM] Algorithm. "
   ]
  },
  {
   "cell_type": "code",
   "execution_count": 19,
   "metadata": {},
   "outputs": [
    {
     "data": {
      "text/plain": [
       "9947"
      ]
     },
     "execution_count": 19,
     "metadata": {},
     "output_type": "execute_result"
    }
   ],
   "source": [
    "# Generate n random integers between 0 and N\n",
    "n=10000\n",
    "N=1000000\n",
    "np.random.seed(2019)\n",
    "r=np.random.randint(0, high=N, size=n)\n",
    "\n",
    "# Convert it to pandas series\n",
    "r_series = pd.Series(r)\n",
    "\n",
    "# The number unique numbers is\n",
    "len(r_series.unique())"
   ]
  },
  {
   "cell_type": "code",
   "execution_count": 20,
   "metadata": {},
   "outputs": [
    {
     "data": {
      "text/plain": [
       "8192"
      ]
     },
     "execution_count": 20,
     "metadata": {},
     "output_type": "execute_result"
    }
   ],
   "source": [
    "# Let's try Flajolet Martin [FM] Algorithm\n",
    "def tail_length(s):\n",
    "    # The function to get trail length of a binary number\n",
    "    s = str(s)\n",
    "    return (len(s)-len(s.rstrip('0')))\n",
    "\n",
    "\n",
    "r_binary = r_series.apply(bin)\n",
    "r_str=r_binary.apply(tail_length)\n",
    "\n",
    "\n",
    "# The biggest number of trailling zero is\n",
    "m = r_str.max()\n",
    "2**m"
   ]
  },
  {
   "cell_type": "markdown",
   "metadata": {
    "collapsed": true
   },
   "source": [
    "The predicted number is close to the acutal number 9943.\n",
    "\n",
    "### Define the unique_values(n,N) "
   ]
  },
  {
   "cell_type": "code",
   "execution_count": 67,
   "metadata": {},
   "outputs": [],
   "source": [
    "def unique_values(n,N,seed=2018):\n",
    "    np.random.seed(seed)\n",
    "    r=np.random.randint(0, high=N, size=n)\n",
    "    \n",
    "    # Actual value\n",
    "    r_series = pd.Series(r)\n",
    "    print(\"The number unique numbers is:\",len(r_series.unique()))\n",
    "          \n",
    "    # Predicted value\n",
    "    r_binary = r_series.apply(bin)\n",
    "    r_str = r_binary.apply(tail_length)\n",
    "    # The biggest number of trailling zero is\n",
    "    m = r_str.max()\n",
    "    pred = 2**m\n",
    "    print(\"The predicted number unique numbers is:\",pred)\n",
    "    return pred"
   ]
  },
  {
   "cell_type": "code",
   "execution_count": 68,
   "metadata": {},
   "outputs": [
    {
     "name": "stdout",
     "output_type": "stream",
     "text": [
      "The number unique numbers is: 98\n",
      "The predicted number unique numbers is: 128\n",
      "The number unique numbers is: 95\n",
      "The predicted number unique numbers is: 32\n",
      "The number unique numbers is: 94\n",
      "The predicted number unique numbers is: 256\n",
      "The number unique numbers is: 95\n",
      "The predicted number unique numbers is: 32\n",
      "The number unique numbers is: 97\n",
      "The predicted number unique numbers is: 256\n",
      "The number unique numbers is: 92\n",
      "The predicted number unique numbers is: 16\n",
      "The number unique numbers is: 94\n",
      "The predicted number unique numbers is: 512\n",
      "The number unique numbers is: 96\n",
      "The predicted number unique numbers is: 64\n",
      "The number unique numbers is: 95\n",
      "The predicted number unique numbers is: 128\n"
     ]
    }
   ],
   "source": [
    "for i in list(range(1,10)):\n",
    "    unique_values(100,1000,i)"
   ]
  },
  {
   "cell_type": "code",
   "execution_count": 69,
   "metadata": {},
   "outputs": [
    {
     "name": "stdout",
     "output_type": "stream",
     "text": [
      "The number unique numbers is: 100\n",
      "The predicted number unique numbers is: 128\n",
      "The number unique numbers is: 99\n",
      "The predicted number unique numbers is: 32\n",
      "The number unique numbers is: 100\n",
      "The predicted number unique numbers is: 1024\n",
      "The number unique numbers is: 100\n",
      "The predicted number unique numbers is: 1024\n",
      "The number unique numbers is: 100\n",
      "The predicted number unique numbers is: 256\n",
      "The number unique numbers is: 100\n",
      "The predicted number unique numbers is: 16\n",
      "The number unique numbers is: 100\n",
      "The predicted number unique numbers is: 64\n",
      "The number unique numbers is: 100\n",
      "The predicted number unique numbers is: 64\n",
      "The number unique numbers is: 100\n",
      "The predicted number unique numbers is: 128\n"
     ]
    }
   ],
   "source": [
    "for i in list(range(1,10)):\n",
    "    unique_values(100,100000,i)"
   ]
  },
  {
   "cell_type": "code",
   "execution_count": 70,
   "metadata": {},
   "outputs": [
    {
     "name": "stdout",
     "output_type": "stream",
     "text": [
      "The number unique numbers is: 1000\n",
      "The predicted number unique numbers is: 256\n",
      "The number unique numbers is: 1000\n",
      "The predicted number unique numbers is: 8192\n",
      "The number unique numbers is: 1000\n",
      "The predicted number unique numbers is: 1024\n",
      "The number unique numbers is: 1000\n",
      "The predicted number unique numbers is: 8192\n",
      "The number unique numbers is: 1000\n",
      "The predicted number unique numbers is: 2048\n",
      "The number unique numbers is: 1000\n",
      "The predicted number unique numbers is: 256\n",
      "The number unique numbers is: 1000\n",
      "The predicted number unique numbers is: 1024\n",
      "The number unique numbers is: 1000\n",
      "The predicted number unique numbers is: 1024\n",
      "The number unique numbers is: 1000\n",
      "The predicted number unique numbers is: 16384\n"
     ]
    }
   ],
   "source": [
    "for i in list(range(1,10)):\n",
    "    unique_values(1000,10000000,i)"
   ]
  },
  {
   "cell_type": "markdown",
   "metadata": {},
   "source": [
    "### Conclusion\n",
    "We can see that the results from FM algorithm vary significantly with different random seeds."
   ]
  },
  {
   "cell_type": "code",
   "execution_count": null,
   "metadata": {
    "collapsed": true
   },
   "outputs": [],
   "source": []
  }
 ],
 "metadata": {
  "kernelspec": {
   "display_name": "Python [conda env:anaconda]",
   "language": "python",
   "name": "conda-env-anaconda-py"
  },
  "language_info": {
   "codemirror_mode": {
    "name": "ipython",
    "version": 3
   },
   "file_extension": ".py",
   "mimetype": "text/x-python",
   "name": "python",
   "nbconvert_exporter": "python",
   "pygments_lexer": "ipython3",
   "version": "3.5.3"
  }
 },
 "nbformat": 4,
 "nbformat_minor": 2
}
